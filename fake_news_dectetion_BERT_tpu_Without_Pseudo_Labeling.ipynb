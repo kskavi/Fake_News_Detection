{
  "cells": [
    {
      "cell_type": "markdown",
      "metadata": {
        "id": "view-in-github",
        "colab_type": "text"
      },
      "source": [
        "<a href=\"https://colab.research.google.com/github/sreebalajisree/Fake_News_Detection/blob/main/fake_news_dectetion_BERT_tpu_Without_Pseudo_Labeling.ipynb\" target=\"_parent\"><img src=\"https://colab.research.google.com/assets/colab-badge.svg\" alt=\"Open In Colab\"/></a>"
      ]
    },
    {
      "cell_type": "markdown",
      "metadata": {
        "id": "m9I5Gjr1VeIi"
      },
      "source": [
        "## About this notebook\n"
      ]
    },
    {
      "cell_type": "markdown",
      "metadata": {
        "id": "nJg0-4fFVeIl"
      },
      "source": [
        "Other things to try:\n",
        "\n",
        "Five-fold cross-mean fusion base 0.97709\n",
        "\n",
        "Single Fold base 0.974\n",
        "\n",
        "Five-fold cross-validation, weight fusion 0.9789\n",
        "\n",
        "In-domain data further pre-training\n",
        "\n",
        "1. Fine-tune warm_up 0.9794\n",
        "\n",
        "2. dropout 0.9706\n",
        "\n",
        "3. Utilize pseudo-tags\n",
        "\n",
        "4. Label smoothing 0.9790\n",
        "\n",
        "5: Add Indian language data\n",
        "\n",
        "6: Five-fold cross-validation, average fusion 0.9814\n",
        "\n",
        "7: Five-fold cross-validation, weight fusion 0.9789\n",
        "\n",
        "8: single fold, average fusion\n",
        "\n",
        "9: single fold, weight fusion, 10: length 130 0.978, 192 0.976\n",
        "\n"
      ]
    },
    {
      "cell_type": "code",
      "execution_count": 26,
      "metadata": {
        "id": "DuA5HibmVw1s",
        "colab": {
          "base_uri": "https://localhost:8080/"
        },
        "outputId": "81e5593a-f710-4af3-8cb3-0dc0332c1164"
      },
      "outputs": [
        {
          "output_type": "stream",
          "name": "stdout",
          "text": [
            "Looking in indexes: https://pypi.org/simple, https://us-python.pkg.dev/colab-wheels/public/simple/\n",
            "Requirement already satisfied: tensorflow-addons in /usr/local/lib/python3.7/dist-packages (0.18.0)\n",
            "Requirement already satisfied: packaging in /usr/local/lib/python3.7/dist-packages (from tensorflow-addons) (21.3)\n",
            "Requirement already satisfied: typeguard>=2.7 in /usr/local/lib/python3.7/dist-packages (from tensorflow-addons) (2.7.1)\n",
            "Requirement already satisfied: pyparsing!=3.0.5,>=2.0.2 in /usr/local/lib/python3.7/dist-packages (from packaging->tensorflow-addons) (3.0.9)\n"
          ]
        }
      ],
      "source": [
        "!pip install tensorflow-addons"
      ]
    },
    {
      "cell_type": "code",
      "execution_count": 27,
      "metadata": {
        "id": "_S_780H0WGDc",
        "colab": {
          "base_uri": "https://localhost:8080/"
        },
        "outputId": "56303e6b-7b49-40ad-e94b-6752000b0562"
      },
      "outputs": [
        {
          "output_type": "stream",
          "name": "stdout",
          "text": [
            "Looking in indexes: https://pypi.org/simple, https://us-python.pkg.dev/colab-wheels/public/simple/\n",
            "Requirement already satisfied: transformers in /usr/local/lib/python3.7/dist-packages (4.22.2)\n",
            "Requirement already satisfied: tokenizers!=0.11.3,<0.13,>=0.11.1 in /usr/local/lib/python3.7/dist-packages (from transformers) (0.12.1)\n",
            "Requirement already satisfied: pyyaml>=5.1 in /usr/local/lib/python3.7/dist-packages (from transformers) (6.0)\n",
            "Requirement already satisfied: huggingface-hub<1.0,>=0.9.0 in /usr/local/lib/python3.7/dist-packages (from transformers) (0.10.0)\n",
            "Requirement already satisfied: regex!=2019.12.17 in /usr/local/lib/python3.7/dist-packages (from transformers) (2022.6.2)\n",
            "Requirement already satisfied: numpy>=1.17 in /usr/local/lib/python3.7/dist-packages (from transformers) (1.21.6)\n",
            "Requirement already satisfied: filelock in /usr/local/lib/python3.7/dist-packages (from transformers) (3.8.0)\n",
            "Requirement already satisfied: requests in /usr/local/lib/python3.7/dist-packages (from transformers) (2.23.0)\n",
            "Requirement already satisfied: tqdm>=4.27 in /usr/local/lib/python3.7/dist-packages (from transformers) (4.64.1)\n",
            "Requirement already satisfied: importlib-metadata in /usr/local/lib/python3.7/dist-packages (from transformers) (4.12.0)\n",
            "Requirement already satisfied: packaging>=20.0 in /usr/local/lib/python3.7/dist-packages (from transformers) (21.3)\n",
            "Requirement already satisfied: typing-extensions>=3.7.4.3 in /usr/local/lib/python3.7/dist-packages (from huggingface-hub<1.0,>=0.9.0->transformers) (4.1.1)\n",
            "Requirement already satisfied: pyparsing!=3.0.5,>=2.0.2 in /usr/local/lib/python3.7/dist-packages (from packaging>=20.0->transformers) (3.0.9)\n",
            "Requirement already satisfied: zipp>=0.5 in /usr/local/lib/python3.7/dist-packages (from importlib-metadata->transformers) (3.8.1)\n",
            "Requirement already satisfied: chardet<4,>=3.0.2 in /usr/local/lib/python3.7/dist-packages (from requests->transformers) (3.0.4)\n",
            "Requirement already satisfied: certifi>=2017.4.17 in /usr/local/lib/python3.7/dist-packages (from requests->transformers) (2022.6.15)\n",
            "Requirement already satisfied: urllib3!=1.25.0,!=1.25.1,<1.26,>=1.21.1 in /usr/local/lib/python3.7/dist-packages (from requests->transformers) (1.24.3)\n",
            "Requirement already satisfied: idna<3,>=2.5 in /usr/local/lib/python3.7/dist-packages (from requests->transformers) (2.10)\n"
          ]
        }
      ],
      "source": [
        "!pip install transformers"
      ]
    },
    {
      "cell_type": "markdown",
      "source": [
        "#Import Libraries"
      ],
      "metadata": {
        "id": "ZmMoTff748uP"
      }
    },
    {
      "cell_type": "code",
      "execution_count": 28,
      "metadata": {
        "id": "bhie32NuVeIm"
      },
      "outputs": [],
      "source": [
        "#Python libraries\n",
        "import os\n",
        "import copy\n",
        "import random\n",
        "from string import digits, punctuation\n",
        "import re\n",
        "\n",
        "#Basic EDA libraries\n",
        "import numpy as np\n",
        "import pandas as pd\n",
        "import matplotlib.pyplot as plt\n",
        "from imblearn.under_sampling import RandomUnderSampler\n",
        "\n",
        "#SK-learn libraries\n",
        "from sklearn.model_selection import KFold, train_test_split\n",
        "from sklearn.metrics import f1_score,confusion_matrix,precision_score,recall_score, accuracy_score, classification_report\n",
        "\n",
        "#Tensorflow libraries\n",
        "import tensorflow as tf\n",
        "import tensorflow_addons as tfa\n",
        "from tensorflow_addons.optimizers import AdamW\n",
        "from tensorflow.keras.layers import Dense, Input,Dropout\n",
        "from tensorflow.keras.utils import to_categorical\n",
        "from tensorflow.keras.optimizers import Adam\n",
        "import tensorflow.keras.backend as K\n",
        "from tensorflow.keras.models import Model\n",
        "from tensorflow.keras.callbacks import ModelCheckpoint\n",
        "from gc import callbacks\n",
        "\n",
        "#Transformer libraries\n",
        "import transformers\n",
        "from transformers import AutoModel\n",
        "from transformers import BertTokenizer,BertModel,BertConfig,BertForPreTraining\n",
        "from transformers import TFAutoModel, AutoTokenizer\n",
        "\n",
        "#Other NLP libraries\n",
        "from tqdm.notebook import tqdm\n",
        "from tokenizers import Tokenizer, models, pre_tokenizers, decoders, processors\n",
        "from gensim.models.word2vec import Word2VecKeyedVectors\n",
        "\n",
        "AUTO = tf.data.experimental.AUTOTUNE"
      ]
    },
    {
      "cell_type": "code",
      "execution_count": 29,
      "metadata": {
        "colab": {
          "base_uri": "https://localhost:8080/",
          "height": 35
        },
        "id": "L7UvbfyYVeIo",
        "outputId": "99be01e7-9bb1-475b-92c8-2aeda5c690c5"
      },
      "outputs": [
        {
          "output_type": "execute_result",
          "data": {
            "text/plain": [
              "'4.22.2'"
            ],
            "application/vnd.google.colaboratory.intrinsic+json": {
              "type": "string"
            }
          },
          "metadata": {},
          "execution_count": 29
        }
      ],
      "source": [
        "transformers.__version__"
      ]
    },
    {
      "cell_type": "markdown",
      "source": [
        "#Import the Dataset"
      ],
      "metadata": {
        "id": "L4sAY5zL5EnL"
      }
    },
    {
      "cell_type": "code",
      "execution_count": 30,
      "metadata": {
        "id": "Cr3w3OiQtyWz"
      },
      "outputs": [],
      "source": [
        "fake_train = pd.read_excel(\"/content/sample_data/data/Constraint_English_Train.xlsx\")\n",
        "fake_valid = pd.read_excel(\"/content/sample_data/data/Constraint_English_Val.xlsx\")\n",
        "fake_test = pd.read_excel(\"/content/sample_data/data/Constraint_English_Test_without_labels.xlsx\")\n",
        "fake_external1 = pd.read_excel(\"/content/sample_data/data/external_1.xlsx\")\n",
        "fake_external2 = pd.read_excel(\"/content/sample_data/data/external_2.xlsx\")\n",
        "df_pseudo = pd.read_csv(\"/content/sample_data/data/pseudo_submission.csv\")"
      ]
    },
    {
      "cell_type": "code",
      "execution_count": 31,
      "metadata": {
        "colab": {
          "base_uri": "https://localhost:8080/",
          "height": 206
        },
        "id": "pB1BBOJ6uQBz",
        "outputId": "bb8ca825-1936-42bb-9f65-108e37a890a6"
      },
      "outputs": [
        {
          "output_type": "execute_result",
          "data": {
            "text/plain": [
              "    id                                              tweet label\n",
              "0  1.0  The CDC currently reports 99031 deaths. In gen...  real\n",
              "1  2.0  States reported 1121 deaths a small rise from ...  real\n",
              "2  3.0  Politically Correct Woman (Almost) Uses Pandem...  fake\n",
              "3  4.0  #IndiaFightsCorona: We have 1524 #COVID testin...  real\n",
              "4  5.0  Populous states can generate large case counts...  real"
            ],
            "text/html": [
              "\n",
              "  <div id=\"df-c7541d49-e464-481d-a458-118f8319a1df\">\n",
              "    <div class=\"colab-df-container\">\n",
              "      <div>\n",
              "<style scoped>\n",
              "    .dataframe tbody tr th:only-of-type {\n",
              "        vertical-align: middle;\n",
              "    }\n",
              "\n",
              "    .dataframe tbody tr th {\n",
              "        vertical-align: top;\n",
              "    }\n",
              "\n",
              "    .dataframe thead th {\n",
              "        text-align: right;\n",
              "    }\n",
              "</style>\n",
              "<table border=\"1\" class=\"dataframe\">\n",
              "  <thead>\n",
              "    <tr style=\"text-align: right;\">\n",
              "      <th></th>\n",
              "      <th>id</th>\n",
              "      <th>tweet</th>\n",
              "      <th>label</th>\n",
              "    </tr>\n",
              "  </thead>\n",
              "  <tbody>\n",
              "    <tr>\n",
              "      <th>0</th>\n",
              "      <td>1.0</td>\n",
              "      <td>The CDC currently reports 99031 deaths. In gen...</td>\n",
              "      <td>real</td>\n",
              "    </tr>\n",
              "    <tr>\n",
              "      <th>1</th>\n",
              "      <td>2.0</td>\n",
              "      <td>States reported 1121 deaths a small rise from ...</td>\n",
              "      <td>real</td>\n",
              "    </tr>\n",
              "    <tr>\n",
              "      <th>2</th>\n",
              "      <td>3.0</td>\n",
              "      <td>Politically Correct Woman (Almost) Uses Pandem...</td>\n",
              "      <td>fake</td>\n",
              "    </tr>\n",
              "    <tr>\n",
              "      <th>3</th>\n",
              "      <td>4.0</td>\n",
              "      <td>#IndiaFightsCorona: We have 1524 #COVID testin...</td>\n",
              "      <td>real</td>\n",
              "    </tr>\n",
              "    <tr>\n",
              "      <th>4</th>\n",
              "      <td>5.0</td>\n",
              "      <td>Populous states can generate large case counts...</td>\n",
              "      <td>real</td>\n",
              "    </tr>\n",
              "  </tbody>\n",
              "</table>\n",
              "</div>\n",
              "      <button class=\"colab-df-convert\" onclick=\"convertToInteractive('df-c7541d49-e464-481d-a458-118f8319a1df')\"\n",
              "              title=\"Convert this dataframe to an interactive table.\"\n",
              "              style=\"display:none;\">\n",
              "        \n",
              "  <svg xmlns=\"http://www.w3.org/2000/svg\" height=\"24px\"viewBox=\"0 0 24 24\"\n",
              "       width=\"24px\">\n",
              "    <path d=\"M0 0h24v24H0V0z\" fill=\"none\"/>\n",
              "    <path d=\"M18.56 5.44l.94 2.06.94-2.06 2.06-.94-2.06-.94-.94-2.06-.94 2.06-2.06.94zm-11 1L8.5 8.5l.94-2.06 2.06-.94-2.06-.94L8.5 2.5l-.94 2.06-2.06.94zm10 10l.94 2.06.94-2.06 2.06-.94-2.06-.94-.94-2.06-.94 2.06-2.06.94z\"/><path d=\"M17.41 7.96l-1.37-1.37c-.4-.4-.92-.59-1.43-.59-.52 0-1.04.2-1.43.59L10.3 9.45l-7.72 7.72c-.78.78-.78 2.05 0 2.83L4 21.41c.39.39.9.59 1.41.59.51 0 1.02-.2 1.41-.59l7.78-7.78 2.81-2.81c.8-.78.8-2.07 0-2.86zM5.41 20L4 18.59l7.72-7.72 1.47 1.35L5.41 20z\"/>\n",
              "  </svg>\n",
              "      </button>\n",
              "      \n",
              "  <style>\n",
              "    .colab-df-container {\n",
              "      display:flex;\n",
              "      flex-wrap:wrap;\n",
              "      gap: 12px;\n",
              "    }\n",
              "\n",
              "    .colab-df-convert {\n",
              "      background-color: #E8F0FE;\n",
              "      border: none;\n",
              "      border-radius: 50%;\n",
              "      cursor: pointer;\n",
              "      display: none;\n",
              "      fill: #1967D2;\n",
              "      height: 32px;\n",
              "      padding: 0 0 0 0;\n",
              "      width: 32px;\n",
              "    }\n",
              "\n",
              "    .colab-df-convert:hover {\n",
              "      background-color: #E2EBFA;\n",
              "      box-shadow: 0px 1px 2px rgba(60, 64, 67, 0.3), 0px 1px 3px 1px rgba(60, 64, 67, 0.15);\n",
              "      fill: #174EA6;\n",
              "    }\n",
              "\n",
              "    [theme=dark] .colab-df-convert {\n",
              "      background-color: #3B4455;\n",
              "      fill: #D2E3FC;\n",
              "    }\n",
              "\n",
              "    [theme=dark] .colab-df-convert:hover {\n",
              "      background-color: #434B5C;\n",
              "      box-shadow: 0px 1px 3px 1px rgba(0, 0, 0, 0.15);\n",
              "      filter: drop-shadow(0px 1px 2px rgba(0, 0, 0, 0.3));\n",
              "      fill: #FFFFFF;\n",
              "    }\n",
              "  </style>\n",
              "\n",
              "      <script>\n",
              "        const buttonEl =\n",
              "          document.querySelector('#df-c7541d49-e464-481d-a458-118f8319a1df button.colab-df-convert');\n",
              "        buttonEl.style.display =\n",
              "          google.colab.kernel.accessAllowed ? 'block' : 'none';\n",
              "\n",
              "        async function convertToInteractive(key) {\n",
              "          const element = document.querySelector('#df-c7541d49-e464-481d-a458-118f8319a1df');\n",
              "          const dataTable =\n",
              "            await google.colab.kernel.invokeFunction('convertToInteractive',\n",
              "                                                     [key], {});\n",
              "          if (!dataTable) return;\n",
              "\n",
              "          const docLinkHtml = 'Like what you see? Visit the ' +\n",
              "            '<a target=\"_blank\" href=https://colab.research.google.com/notebooks/data_table.ipynb>data table notebook</a>'\n",
              "            + ' to learn more about interactive tables.';\n",
              "          element.innerHTML = '';\n",
              "          dataTable['output_type'] = 'display_data';\n",
              "          await google.colab.output.renderOutput(dataTable, element);\n",
              "          const docLink = document.createElement('div');\n",
              "          docLink.innerHTML = docLinkHtml;\n",
              "          element.appendChild(docLink);\n",
              "        }\n",
              "      </script>\n",
              "    </div>\n",
              "  </div>\n",
              "  "
            ]
          },
          "metadata": {},
          "execution_count": 31
        }
      ],
      "source": [
        "fake_train.head()"
      ]
    },
    {
      "cell_type": "code",
      "execution_count": 32,
      "metadata": {
        "colab": {
          "base_uri": "https://localhost:8080/",
          "height": 206
        },
        "id": "E95JbgdBuQob",
        "outputId": "9ee66c97-5a0d-4625-9e93-629393e48ed0"
      },
      "outputs": [
        {
          "output_type": "execute_result",
          "data": {
            "text/plain": [
              "    id                                              tweet label\n",
              "0  1.0  Chinese converting to Islam after realising th...  fake\n",
              "1  2.0  11 out of 13 people (from the Diamond Princess...  fake\n",
              "2  3.0  COVID-19 Is Caused By A Bacterium, Not Virus A...  fake\n",
              "3  4.0  Mike Pence in RNC speech praises Donald Trump’...  fake\n",
              "4  5.0  6/10 Sky's @EdConwaySky explains the latest #C...  real"
            ],
            "text/html": [
              "\n",
              "  <div id=\"df-8e13e918-5d80-4dcb-affa-3413059e9542\">\n",
              "    <div class=\"colab-df-container\">\n",
              "      <div>\n",
              "<style scoped>\n",
              "    .dataframe tbody tr th:only-of-type {\n",
              "        vertical-align: middle;\n",
              "    }\n",
              "\n",
              "    .dataframe tbody tr th {\n",
              "        vertical-align: top;\n",
              "    }\n",
              "\n",
              "    .dataframe thead th {\n",
              "        text-align: right;\n",
              "    }\n",
              "</style>\n",
              "<table border=\"1\" class=\"dataframe\">\n",
              "  <thead>\n",
              "    <tr style=\"text-align: right;\">\n",
              "      <th></th>\n",
              "      <th>id</th>\n",
              "      <th>tweet</th>\n",
              "      <th>label</th>\n",
              "    </tr>\n",
              "  </thead>\n",
              "  <tbody>\n",
              "    <tr>\n",
              "      <th>0</th>\n",
              "      <td>1.0</td>\n",
              "      <td>Chinese converting to Islam after realising th...</td>\n",
              "      <td>fake</td>\n",
              "    </tr>\n",
              "    <tr>\n",
              "      <th>1</th>\n",
              "      <td>2.0</td>\n",
              "      <td>11 out of 13 people (from the Diamond Princess...</td>\n",
              "      <td>fake</td>\n",
              "    </tr>\n",
              "    <tr>\n",
              "      <th>2</th>\n",
              "      <td>3.0</td>\n",
              "      <td>COVID-19 Is Caused By A Bacterium, Not Virus A...</td>\n",
              "      <td>fake</td>\n",
              "    </tr>\n",
              "    <tr>\n",
              "      <th>3</th>\n",
              "      <td>4.0</td>\n",
              "      <td>Mike Pence in RNC speech praises Donald Trump’...</td>\n",
              "      <td>fake</td>\n",
              "    </tr>\n",
              "    <tr>\n",
              "      <th>4</th>\n",
              "      <td>5.0</td>\n",
              "      <td>6/10 Sky's @EdConwaySky explains the latest #C...</td>\n",
              "      <td>real</td>\n",
              "    </tr>\n",
              "  </tbody>\n",
              "</table>\n",
              "</div>\n",
              "      <button class=\"colab-df-convert\" onclick=\"convertToInteractive('df-8e13e918-5d80-4dcb-affa-3413059e9542')\"\n",
              "              title=\"Convert this dataframe to an interactive table.\"\n",
              "              style=\"display:none;\">\n",
              "        \n",
              "  <svg xmlns=\"http://www.w3.org/2000/svg\" height=\"24px\"viewBox=\"0 0 24 24\"\n",
              "       width=\"24px\">\n",
              "    <path d=\"M0 0h24v24H0V0z\" fill=\"none\"/>\n",
              "    <path d=\"M18.56 5.44l.94 2.06.94-2.06 2.06-.94-2.06-.94-.94-2.06-.94 2.06-2.06.94zm-11 1L8.5 8.5l.94-2.06 2.06-.94-2.06-.94L8.5 2.5l-.94 2.06-2.06.94zm10 10l.94 2.06.94-2.06 2.06-.94-2.06-.94-.94-2.06-.94 2.06-2.06.94z\"/><path d=\"M17.41 7.96l-1.37-1.37c-.4-.4-.92-.59-1.43-.59-.52 0-1.04.2-1.43.59L10.3 9.45l-7.72 7.72c-.78.78-.78 2.05 0 2.83L4 21.41c.39.39.9.59 1.41.59.51 0 1.02-.2 1.41-.59l7.78-7.78 2.81-2.81c.8-.78.8-2.07 0-2.86zM5.41 20L4 18.59l7.72-7.72 1.47 1.35L5.41 20z\"/>\n",
              "  </svg>\n",
              "      </button>\n",
              "      \n",
              "  <style>\n",
              "    .colab-df-container {\n",
              "      display:flex;\n",
              "      flex-wrap:wrap;\n",
              "      gap: 12px;\n",
              "    }\n",
              "\n",
              "    .colab-df-convert {\n",
              "      background-color: #E8F0FE;\n",
              "      border: none;\n",
              "      border-radius: 50%;\n",
              "      cursor: pointer;\n",
              "      display: none;\n",
              "      fill: #1967D2;\n",
              "      height: 32px;\n",
              "      padding: 0 0 0 0;\n",
              "      width: 32px;\n",
              "    }\n",
              "\n",
              "    .colab-df-convert:hover {\n",
              "      background-color: #E2EBFA;\n",
              "      box-shadow: 0px 1px 2px rgba(60, 64, 67, 0.3), 0px 1px 3px 1px rgba(60, 64, 67, 0.15);\n",
              "      fill: #174EA6;\n",
              "    }\n",
              "\n",
              "    [theme=dark] .colab-df-convert {\n",
              "      background-color: #3B4455;\n",
              "      fill: #D2E3FC;\n",
              "    }\n",
              "\n",
              "    [theme=dark] .colab-df-convert:hover {\n",
              "      background-color: #434B5C;\n",
              "      box-shadow: 0px 1px 3px 1px rgba(0, 0, 0, 0.15);\n",
              "      filter: drop-shadow(0px 1px 2px rgba(0, 0, 0, 0.3));\n",
              "      fill: #FFFFFF;\n",
              "    }\n",
              "  </style>\n",
              "\n",
              "      <script>\n",
              "        const buttonEl =\n",
              "          document.querySelector('#df-8e13e918-5d80-4dcb-affa-3413059e9542 button.colab-df-convert');\n",
              "        buttonEl.style.display =\n",
              "          google.colab.kernel.accessAllowed ? 'block' : 'none';\n",
              "\n",
              "        async function convertToInteractive(key) {\n",
              "          const element = document.querySelector('#df-8e13e918-5d80-4dcb-affa-3413059e9542');\n",
              "          const dataTable =\n",
              "            await google.colab.kernel.invokeFunction('convertToInteractive',\n",
              "                                                     [key], {});\n",
              "          if (!dataTable) return;\n",
              "\n",
              "          const docLinkHtml = 'Like what you see? Visit the ' +\n",
              "            '<a target=\"_blank\" href=https://colab.research.google.com/notebooks/data_table.ipynb>data table notebook</a>'\n",
              "            + ' to learn more about interactive tables.';\n",
              "          element.innerHTML = '';\n",
              "          dataTable['output_type'] = 'display_data';\n",
              "          await google.colab.output.renderOutput(dataTable, element);\n",
              "          const docLink = document.createElement('div');\n",
              "          docLink.innerHTML = docLinkHtml;\n",
              "          element.appendChild(docLink);\n",
              "        }\n",
              "      </script>\n",
              "    </div>\n",
              "  </div>\n",
              "  "
            ]
          },
          "metadata": {},
          "execution_count": 32
        }
      ],
      "source": [
        "fake_valid.head()"
      ]
    },
    {
      "cell_type": "code",
      "execution_count": 33,
      "metadata": {
        "colab": {
          "base_uri": "https://localhost:8080/",
          "height": 206
        },
        "id": "HzCscaCIuSNk",
        "outputId": "8f926d51-176c-4be9-d519-af09782072e2"
      },
      "outputs": [
        {
          "output_type": "execute_result",
          "data": {
            "text/plain": [
              "    id                                              tweet\n",
              "0  1.0  Our daily update is published. States reported...\n",
              "1  2.0             Alfalfa is the only cure for COVID-19.\n",
              "2  3.0  President Trump Asked What He Would Do If He W...\n",
              "3  4.0  States reported 630 deaths. We are still seein...\n",
              "4  5.0  This is the sixth time a global health emergen..."
            ],
            "text/html": [
              "\n",
              "  <div id=\"df-d0ef5821-1b51-4210-95a7-6f62e45b2ac4\">\n",
              "    <div class=\"colab-df-container\">\n",
              "      <div>\n",
              "<style scoped>\n",
              "    .dataframe tbody tr th:only-of-type {\n",
              "        vertical-align: middle;\n",
              "    }\n",
              "\n",
              "    .dataframe tbody tr th {\n",
              "        vertical-align: top;\n",
              "    }\n",
              "\n",
              "    .dataframe thead th {\n",
              "        text-align: right;\n",
              "    }\n",
              "</style>\n",
              "<table border=\"1\" class=\"dataframe\">\n",
              "  <thead>\n",
              "    <tr style=\"text-align: right;\">\n",
              "      <th></th>\n",
              "      <th>id</th>\n",
              "      <th>tweet</th>\n",
              "    </tr>\n",
              "  </thead>\n",
              "  <tbody>\n",
              "    <tr>\n",
              "      <th>0</th>\n",
              "      <td>1.0</td>\n",
              "      <td>Our daily update is published. States reported...</td>\n",
              "    </tr>\n",
              "    <tr>\n",
              "      <th>1</th>\n",
              "      <td>2.0</td>\n",
              "      <td>Alfalfa is the only cure for COVID-19.</td>\n",
              "    </tr>\n",
              "    <tr>\n",
              "      <th>2</th>\n",
              "      <td>3.0</td>\n",
              "      <td>President Trump Asked What He Would Do If He W...</td>\n",
              "    </tr>\n",
              "    <tr>\n",
              "      <th>3</th>\n",
              "      <td>4.0</td>\n",
              "      <td>States reported 630 deaths. We are still seein...</td>\n",
              "    </tr>\n",
              "    <tr>\n",
              "      <th>4</th>\n",
              "      <td>5.0</td>\n",
              "      <td>This is the sixth time a global health emergen...</td>\n",
              "    </tr>\n",
              "  </tbody>\n",
              "</table>\n",
              "</div>\n",
              "      <button class=\"colab-df-convert\" onclick=\"convertToInteractive('df-d0ef5821-1b51-4210-95a7-6f62e45b2ac4')\"\n",
              "              title=\"Convert this dataframe to an interactive table.\"\n",
              "              style=\"display:none;\">\n",
              "        \n",
              "  <svg xmlns=\"http://www.w3.org/2000/svg\" height=\"24px\"viewBox=\"0 0 24 24\"\n",
              "       width=\"24px\">\n",
              "    <path d=\"M0 0h24v24H0V0z\" fill=\"none\"/>\n",
              "    <path d=\"M18.56 5.44l.94 2.06.94-2.06 2.06-.94-2.06-.94-.94-2.06-.94 2.06-2.06.94zm-11 1L8.5 8.5l.94-2.06 2.06-.94-2.06-.94L8.5 2.5l-.94 2.06-2.06.94zm10 10l.94 2.06.94-2.06 2.06-.94-2.06-.94-.94-2.06-.94 2.06-2.06.94z\"/><path d=\"M17.41 7.96l-1.37-1.37c-.4-.4-.92-.59-1.43-.59-.52 0-1.04.2-1.43.59L10.3 9.45l-7.72 7.72c-.78.78-.78 2.05 0 2.83L4 21.41c.39.39.9.59 1.41.59.51 0 1.02-.2 1.41-.59l7.78-7.78 2.81-2.81c.8-.78.8-2.07 0-2.86zM5.41 20L4 18.59l7.72-7.72 1.47 1.35L5.41 20z\"/>\n",
              "  </svg>\n",
              "      </button>\n",
              "      \n",
              "  <style>\n",
              "    .colab-df-container {\n",
              "      display:flex;\n",
              "      flex-wrap:wrap;\n",
              "      gap: 12px;\n",
              "    }\n",
              "\n",
              "    .colab-df-convert {\n",
              "      background-color: #E8F0FE;\n",
              "      border: none;\n",
              "      border-radius: 50%;\n",
              "      cursor: pointer;\n",
              "      display: none;\n",
              "      fill: #1967D2;\n",
              "      height: 32px;\n",
              "      padding: 0 0 0 0;\n",
              "      width: 32px;\n",
              "    }\n",
              "\n",
              "    .colab-df-convert:hover {\n",
              "      background-color: #E2EBFA;\n",
              "      box-shadow: 0px 1px 2px rgba(60, 64, 67, 0.3), 0px 1px 3px 1px rgba(60, 64, 67, 0.15);\n",
              "      fill: #174EA6;\n",
              "    }\n",
              "\n",
              "    [theme=dark] .colab-df-convert {\n",
              "      background-color: #3B4455;\n",
              "      fill: #D2E3FC;\n",
              "    }\n",
              "\n",
              "    [theme=dark] .colab-df-convert:hover {\n",
              "      background-color: #434B5C;\n",
              "      box-shadow: 0px 1px 3px 1px rgba(0, 0, 0, 0.15);\n",
              "      filter: drop-shadow(0px 1px 2px rgba(0, 0, 0, 0.3));\n",
              "      fill: #FFFFFF;\n",
              "    }\n",
              "  </style>\n",
              "\n",
              "      <script>\n",
              "        const buttonEl =\n",
              "          document.querySelector('#df-d0ef5821-1b51-4210-95a7-6f62e45b2ac4 button.colab-df-convert');\n",
              "        buttonEl.style.display =\n",
              "          google.colab.kernel.accessAllowed ? 'block' : 'none';\n",
              "\n",
              "        async function convertToInteractive(key) {\n",
              "          const element = document.querySelector('#df-d0ef5821-1b51-4210-95a7-6f62e45b2ac4');\n",
              "          const dataTable =\n",
              "            await google.colab.kernel.invokeFunction('convertToInteractive',\n",
              "                                                     [key], {});\n",
              "          if (!dataTable) return;\n",
              "\n",
              "          const docLinkHtml = 'Like what you see? Visit the ' +\n",
              "            '<a target=\"_blank\" href=https://colab.research.google.com/notebooks/data_table.ipynb>data table notebook</a>'\n",
              "            + ' to learn more about interactive tables.';\n",
              "          element.innerHTML = '';\n",
              "          dataTable['output_type'] = 'display_data';\n",
              "          await google.colab.output.renderOutput(dataTable, element);\n",
              "          const docLink = document.createElement('div');\n",
              "          docLink.innerHTML = docLinkHtml;\n",
              "          element.appendChild(docLink);\n",
              "        }\n",
              "      </script>\n",
              "    </div>\n",
              "  </div>\n",
              "  "
            ]
          },
          "metadata": {},
          "execution_count": 33
        }
      ],
      "source": [
        "fake_test.head()"
      ]
    },
    {
      "cell_type": "code",
      "execution_count": 34,
      "metadata": {
        "colab": {
          "base_uri": "https://localhost:8080/",
          "height": 206
        },
        "id": "DKQkClIMuTvL",
        "outputId": "016e6bad-009d-433a-8393-f1669a29837e"
      },
      "outputs": [
        {
          "output_type": "execute_result",
          "data": {
            "text/plain": [
              "                                               tweet label\n",
              "0  Our daily update is published. States reported...  real\n",
              "1             Alfalfa is the only cure for COVID-19.  fake\n",
              "2  President Trump Asked What He Would Do If He W...  fake\n",
              "3  States reported 630 deaths. We are still seein...  real\n",
              "4  This is the sixth time a global health emergen...  real"
            ],
            "text/html": [
              "\n",
              "  <div id=\"df-807817ed-d200-486c-998c-4d88e21b9579\">\n",
              "    <div class=\"colab-df-container\">\n",
              "      <div>\n",
              "<style scoped>\n",
              "    .dataframe tbody tr th:only-of-type {\n",
              "        vertical-align: middle;\n",
              "    }\n",
              "\n",
              "    .dataframe tbody tr th {\n",
              "        vertical-align: top;\n",
              "    }\n",
              "\n",
              "    .dataframe thead th {\n",
              "        text-align: right;\n",
              "    }\n",
              "</style>\n",
              "<table border=\"1\" class=\"dataframe\">\n",
              "  <thead>\n",
              "    <tr style=\"text-align: right;\">\n",
              "      <th></th>\n",
              "      <th>tweet</th>\n",
              "      <th>label</th>\n",
              "    </tr>\n",
              "  </thead>\n",
              "  <tbody>\n",
              "    <tr>\n",
              "      <th>0</th>\n",
              "      <td>Our daily update is published. States reported...</td>\n",
              "      <td>real</td>\n",
              "    </tr>\n",
              "    <tr>\n",
              "      <th>1</th>\n",
              "      <td>Alfalfa is the only cure for COVID-19.</td>\n",
              "      <td>fake</td>\n",
              "    </tr>\n",
              "    <tr>\n",
              "      <th>2</th>\n",
              "      <td>President Trump Asked What He Would Do If He W...</td>\n",
              "      <td>fake</td>\n",
              "    </tr>\n",
              "    <tr>\n",
              "      <th>3</th>\n",
              "      <td>States reported 630 deaths. We are still seein...</td>\n",
              "      <td>real</td>\n",
              "    </tr>\n",
              "    <tr>\n",
              "      <th>4</th>\n",
              "      <td>This is the sixth time a global health emergen...</td>\n",
              "      <td>real</td>\n",
              "    </tr>\n",
              "  </tbody>\n",
              "</table>\n",
              "</div>\n",
              "      <button class=\"colab-df-convert\" onclick=\"convertToInteractive('df-807817ed-d200-486c-998c-4d88e21b9579')\"\n",
              "              title=\"Convert this dataframe to an interactive table.\"\n",
              "              style=\"display:none;\">\n",
              "        \n",
              "  <svg xmlns=\"http://www.w3.org/2000/svg\" height=\"24px\"viewBox=\"0 0 24 24\"\n",
              "       width=\"24px\">\n",
              "    <path d=\"M0 0h24v24H0V0z\" fill=\"none\"/>\n",
              "    <path d=\"M18.56 5.44l.94 2.06.94-2.06 2.06-.94-2.06-.94-.94-2.06-.94 2.06-2.06.94zm-11 1L8.5 8.5l.94-2.06 2.06-.94-2.06-.94L8.5 2.5l-.94 2.06-2.06.94zm10 10l.94 2.06.94-2.06 2.06-.94-2.06-.94-.94-2.06-.94 2.06-2.06.94z\"/><path d=\"M17.41 7.96l-1.37-1.37c-.4-.4-.92-.59-1.43-.59-.52 0-1.04.2-1.43.59L10.3 9.45l-7.72 7.72c-.78.78-.78 2.05 0 2.83L4 21.41c.39.39.9.59 1.41.59.51 0 1.02-.2 1.41-.59l7.78-7.78 2.81-2.81c.8-.78.8-2.07 0-2.86zM5.41 20L4 18.59l7.72-7.72 1.47 1.35L5.41 20z\"/>\n",
              "  </svg>\n",
              "      </button>\n",
              "      \n",
              "  <style>\n",
              "    .colab-df-container {\n",
              "      display:flex;\n",
              "      flex-wrap:wrap;\n",
              "      gap: 12px;\n",
              "    }\n",
              "\n",
              "    .colab-df-convert {\n",
              "      background-color: #E8F0FE;\n",
              "      border: none;\n",
              "      border-radius: 50%;\n",
              "      cursor: pointer;\n",
              "      display: none;\n",
              "      fill: #1967D2;\n",
              "      height: 32px;\n",
              "      padding: 0 0 0 0;\n",
              "      width: 32px;\n",
              "    }\n",
              "\n",
              "    .colab-df-convert:hover {\n",
              "      background-color: #E2EBFA;\n",
              "      box-shadow: 0px 1px 2px rgba(60, 64, 67, 0.3), 0px 1px 3px 1px rgba(60, 64, 67, 0.15);\n",
              "      fill: #174EA6;\n",
              "    }\n",
              "\n",
              "    [theme=dark] .colab-df-convert {\n",
              "      background-color: #3B4455;\n",
              "      fill: #D2E3FC;\n",
              "    }\n",
              "\n",
              "    [theme=dark] .colab-df-convert:hover {\n",
              "      background-color: #434B5C;\n",
              "      box-shadow: 0px 1px 3px 1px rgba(0, 0, 0, 0.15);\n",
              "      filter: drop-shadow(0px 1px 2px rgba(0, 0, 0, 0.3));\n",
              "      fill: #FFFFFF;\n",
              "    }\n",
              "  </style>\n",
              "\n",
              "      <script>\n",
              "        const buttonEl =\n",
              "          document.querySelector('#df-807817ed-d200-486c-998c-4d88e21b9579 button.colab-df-convert');\n",
              "        buttonEl.style.display =\n",
              "          google.colab.kernel.accessAllowed ? 'block' : 'none';\n",
              "\n",
              "        async function convertToInteractive(key) {\n",
              "          const element = document.querySelector('#df-807817ed-d200-486c-998c-4d88e21b9579');\n",
              "          const dataTable =\n",
              "            await google.colab.kernel.invokeFunction('convertToInteractive',\n",
              "                                                     [key], {});\n",
              "          if (!dataTable) return;\n",
              "\n",
              "          const docLinkHtml = 'Like what you see? Visit the ' +\n",
              "            '<a target=\"_blank\" href=https://colab.research.google.com/notebooks/data_table.ipynb>data table notebook</a>'\n",
              "            + ' to learn more about interactive tables.';\n",
              "          element.innerHTML = '';\n",
              "          dataTable['output_type'] = 'display_data';\n",
              "          await google.colab.output.renderOutput(dataTable, element);\n",
              "          const docLink = document.createElement('div');\n",
              "          docLink.innerHTML = docLinkHtml;\n",
              "          element.appendChild(docLink);\n",
              "        }\n",
              "      </script>\n",
              "    </div>\n",
              "  </div>\n",
              "  "
            ]
          },
          "metadata": {},
          "execution_count": 34
        }
      ],
      "source": [
        "df_pseudo.head()"
      ]
    },
    {
      "cell_type": "markdown",
      "metadata": {
        "id": "ioGexWE7VeIo"
      },
      "source": [
        "## Helper Functions"
      ]
    },
    {
      "cell_type": "code",
      "execution_count": 35,
      "metadata": {
        "id": "Yg24F4fGX3jY"
      },
      "outputs": [],
      "source": [
        "def seed_everything(seed=0):\n",
        "  np.random.seed(seed)\n",
        "  tf.random.set_seed(seed)\n",
        "  os.environ['PYTHONHASSEED'] = str(seed)\n",
        "  os.environ['TF_DETERMINSTIC_OPS'] = '1'\n",
        "  random.seed(seed)\n",
        "\n",
        "seed=1024\n",
        "seed_everything(seed)\n",
        "\n"
      ]
    },
    {
      "cell_type": "code",
      "execution_count": 36,
      "metadata": {
        "id": "NTjhK9BWZDAk"
      },
      "outputs": [],
      "source": [
        "def fast_encode(texts, tokenizers, chunk_size=256, maxlen=512):\n",
        "  \"\"\"\n",
        "    https://www.kaggle.com/xhlulu/jigsaw-tpu-distilbert-with-huggingface-and-keras\n",
        "  \"\"\"\n",
        "  tokenizer.enable_truncation(max_length=maxlen)\n",
        "  tokenizer.enable_padding(max_length=maxlen)\n",
        "  all_ids = []\n",
        "\n",
        "  for i in tqdm(range(0, len(texts), chunk_size)):\n",
        "    text_chunk = texts[i:i+chunk_size].tolist()\n",
        "    encs = tokenizer.encode_batch(text_chunk)\n",
        "    all_ids.extend([enc.ids for enc in encs])\n",
        "  \n",
        "  return np.array(all_ids)"
      ]
    },
    {
      "cell_type": "code",
      "execution_count": 37,
      "metadata": {
        "id": "Z9oom4WSZyyl"
      },
      "outputs": [],
      "source": [
        "def regular_encode(texts, tokenizer, maxlen=512):\n",
        "  encod_dic = tokenizer.batch_encode_plus(texts, return_token_type_ids=False, pad_to_max_length=True, max_length = maxlen)\n",
        "  return np.array(encod_dic['input_ids'])"
      ]
    },
    {
      "cell_type": "code",
      "execution_count": 38,
      "metadata": {
        "id": "dzbjoH6ut6px"
      },
      "outputs": [],
      "source": [
        "def build_model(transformer, max_len=512):\n",
        "  \"\"\"\n",
        "    https://www.kaggle.com/xhlulu/jigsaw-tpu-distilbert-with-huggingface-and-keras\n",
        "  \"\"\"\n",
        "  input_words_ids = Input(shape=(max_len,), dtype=tf.int32, name=\"input_words_ids\")\n",
        "  sequence_output = transformer(input_words_ids)[0]\n",
        "  cls_token = sequence_output[:, 0, :]\n",
        "  output = Dense(2, activation='softmax')(cls_token)\n",
        "\n",
        "  model = Model(inputs = input_words_ids, outputs=output)\n",
        "  model.compile(Adam(lr=5e-6), loss=tf.keras.losses.CategoricalCrossentropy(label_smoothing=0.01), metrics=['accuracy', tfa.metrics.F1Score(num_classes=2, average='weighted')])\n",
        "\n",
        "  return model\n"
      ]
    },
    {
      "cell_type": "code",
      "execution_count": 39,
      "metadata": {
        "id": "FrGpESdcxr-n"
      },
      "outputs": [],
      "source": [
        "#Data preprocessing\n",
        "\n",
        "def data_process(data):\n",
        "  for i, label in enumerate(data['label']):\n",
        "    if(data['label'][i] == \"real\"):\n",
        "      data['label'][i] = 1\n",
        "    else:\n",
        "      data['label'][i] = 0"
      ]
    },
    {
      "cell_type": "markdown",
      "metadata": {
        "id": "lrUE0gwfVeIq"
      },
      "source": [
        "## TPU Configs"
      ]
    },
    {
      "cell_type": "code",
      "execution_count": 40,
      "metadata": {
        "colab": {
          "base_uri": "https://localhost:8080/"
        },
        "id": "JTJ6luCBvv2G",
        "outputId": "92efd120-0648-429c-d6dc-585fa876fb3d"
      },
      "outputs": [
        {
          "output_type": "stream",
          "name": "stdout",
          "text": [
            "Running on TPU:  grpc://10.68.42.170:8470\n"
          ]
        },
        {
          "output_type": "stream",
          "name": "stderr",
          "text": [
            "WARNING:tensorflow:TPU system grpc://10.68.42.170:8470 has already been initialized. Reinitializing the TPU can cause previously created variables on TPU to be lost.\n"
          ]
        },
        {
          "output_type": "stream",
          "name": "stdout",
          "text": [
            "REPLICAS:  8\n"
          ]
        }
      ],
      "source": [
        "# Detect hardware, return appropriate distribution strategy\n",
        "#Call the necessary code for tpu\n",
        "\n",
        "try:\n",
        "  # TPU detection. No parameters necessary if TPU_NAME environment variable is set\n",
        "  tpu = tf.distribute.cluster_resolver.TPUClusterResolver(tpu='')\n",
        "  print(\"Running on TPU: \", tpu.master())\n",
        "except ValueError:\n",
        "  tpu = None\n",
        "\n",
        "if tpu:\n",
        "  tf.config.experimental_connect_to_cluster(tpu)\n",
        "  tf.tpu.experimental.initialize_tpu_system(tpu)\n",
        "  strategy = tf.distribute.TPUStrategy(tpu)\n",
        "else:\n",
        "  # Default distribution strategy in Tensorflow. Works on CPU and single GPU.\n",
        "  strategy = tf.distribute.get_strategy()\n",
        "\n",
        "\n",
        "print(\"REPLICAS: \", strategy.num_replicas_in_sync)"
      ]
    },
    {
      "cell_type": "code",
      "source": [
        "AUTO = tf.data.experimental.AUTOTUNE\n",
        "\n",
        "# 50% cross validation\n",
        "#5 fold cross validation\n",
        "kfold = KFold(n_splits = 5, random_state = seed, shuffle=True)"
      ],
      "metadata": {
        "id": "ZFAGFAGK5UYX"
      },
      "execution_count": 41,
      "outputs": []
    },
    {
      "cell_type": "markdown",
      "source": [
        "#Parameter configurations"
      ],
      "metadata": {
        "id": "qHwdLmu25ZEn"
      }
    },
    {
      "cell_type": "code",
      "execution_count": 42,
      "metadata": {
        "id": "3lBu43lCwzBe"
      },
      "outputs": [],
      "source": [
        "# Configuration\n",
        "epochs = 10\n",
        "batch_size = 5 * (strategy.num_replicas_in_sync)\n",
        "max_len = 140\n",
        "use_external1 = True\n",
        "use_external2 = True\n",
        "use_pseudo = False\n",
        "use_valid = True\n",
        "display_plot = True\n"
      ]
    },
    {
      "cell_type": "markdown",
      "source": [
        "#Use data_process function to name the label as '0' and '1' instead of real, fake"
      ],
      "metadata": {
        "id": "qzonUb035lrj"
      }
    },
    {
      "cell_type": "code",
      "execution_count": 43,
      "metadata": {
        "id": "XhBnw5HLuYdC"
      },
      "outputs": [],
      "source": [
        "df_pseudo = pd.concat([df_pseudo['tweet'], df_pseudo['label']], axis=1)\n",
        "data_process(df_pseudo)"
      ]
    },
    {
      "cell_type": "code",
      "execution_count": 44,
      "metadata": {
        "id": "JH5nJzNiuZdg"
      },
      "outputs": [],
      "source": [
        "fake_train1 = pd.concat([fake_train['tweet'], fake_train['label']], axis=1)\n",
        "fake_valid1 = pd.concat([fake_valid['tweet'], fake_valid['label']], axis=1)\n",
        "\n",
        "# Call the data_processing method\n",
        "data_process(fake_train1)\n",
        "data_process(fake_valid1)\n",
        "\n",
        "if (use_valid):\n",
        "  fake_train1 = pd.concat([fake_train1, fake_valid1], ignore_index=True)"
      ]
    },
    {
      "cell_type": "code",
      "execution_count": 45,
      "metadata": {
        "colab": {
          "base_uri": "https://localhost:8080/"
        },
        "id": "cNYjBNHiub8C",
        "outputId": "0c3045b0-7808-4b6b-88db-ca710fe5d028"
      },
      "outputs": [
        {
          "output_type": "execute_result",
          "data": {
            "text/plain": [
              "1    4480\n",
              "0    4080\n",
              "Name: label, dtype: int64"
            ]
          },
          "metadata": {},
          "execution_count": 45
        }
      ],
      "source": [
        "fake_train1.label.value_counts()"
      ]
    },
    {
      "cell_type": "code",
      "execution_count": 46,
      "metadata": {
        "colab": {
          "base_uri": "https://localhost:8080/",
          "height": 206
        },
        "id": "zDeisRMaudVT",
        "outputId": "06fcb36e-e0b0-4c44-961a-0bcd6a407635"
      },
      "outputs": [
        {
          "output_type": "execute_result",
          "data": {
            "text/plain": [
              "                                               tweet label\n",
              "0  Our daily update is published. States reported...     1\n",
              "1             Alfalfa is the only cure for COVID-19.     0\n",
              "2  President Trump Asked What He Would Do If He W...     0\n",
              "3  States reported 630 deaths. We are still seein...     1\n",
              "4  This is the sixth time a global health emergen...     1"
            ],
            "text/html": [
              "\n",
              "  <div id=\"df-bfa74d98-ec97-4417-893f-99877c05ed32\">\n",
              "    <div class=\"colab-df-container\">\n",
              "      <div>\n",
              "<style scoped>\n",
              "    .dataframe tbody tr th:only-of-type {\n",
              "        vertical-align: middle;\n",
              "    }\n",
              "\n",
              "    .dataframe tbody tr th {\n",
              "        vertical-align: top;\n",
              "    }\n",
              "\n",
              "    .dataframe thead th {\n",
              "        text-align: right;\n",
              "    }\n",
              "</style>\n",
              "<table border=\"1\" class=\"dataframe\">\n",
              "  <thead>\n",
              "    <tr style=\"text-align: right;\">\n",
              "      <th></th>\n",
              "      <th>tweet</th>\n",
              "      <th>label</th>\n",
              "    </tr>\n",
              "  </thead>\n",
              "  <tbody>\n",
              "    <tr>\n",
              "      <th>0</th>\n",
              "      <td>Our daily update is published. States reported...</td>\n",
              "      <td>1</td>\n",
              "    </tr>\n",
              "    <tr>\n",
              "      <th>1</th>\n",
              "      <td>Alfalfa is the only cure for COVID-19.</td>\n",
              "      <td>0</td>\n",
              "    </tr>\n",
              "    <tr>\n",
              "      <th>2</th>\n",
              "      <td>President Trump Asked What He Would Do If He W...</td>\n",
              "      <td>0</td>\n",
              "    </tr>\n",
              "    <tr>\n",
              "      <th>3</th>\n",
              "      <td>States reported 630 deaths. We are still seein...</td>\n",
              "      <td>1</td>\n",
              "    </tr>\n",
              "    <tr>\n",
              "      <th>4</th>\n",
              "      <td>This is the sixth time a global health emergen...</td>\n",
              "      <td>1</td>\n",
              "    </tr>\n",
              "  </tbody>\n",
              "</table>\n",
              "</div>\n",
              "      <button class=\"colab-df-convert\" onclick=\"convertToInteractive('df-bfa74d98-ec97-4417-893f-99877c05ed32')\"\n",
              "              title=\"Convert this dataframe to an interactive table.\"\n",
              "              style=\"display:none;\">\n",
              "        \n",
              "  <svg xmlns=\"http://www.w3.org/2000/svg\" height=\"24px\"viewBox=\"0 0 24 24\"\n",
              "       width=\"24px\">\n",
              "    <path d=\"M0 0h24v24H0V0z\" fill=\"none\"/>\n",
              "    <path d=\"M18.56 5.44l.94 2.06.94-2.06 2.06-.94-2.06-.94-.94-2.06-.94 2.06-2.06.94zm-11 1L8.5 8.5l.94-2.06 2.06-.94-2.06-.94L8.5 2.5l-.94 2.06-2.06.94zm10 10l.94 2.06.94-2.06 2.06-.94-2.06-.94-.94-2.06-.94 2.06-2.06.94z\"/><path d=\"M17.41 7.96l-1.37-1.37c-.4-.4-.92-.59-1.43-.59-.52 0-1.04.2-1.43.59L10.3 9.45l-7.72 7.72c-.78.78-.78 2.05 0 2.83L4 21.41c.39.39.9.59 1.41.59.51 0 1.02-.2 1.41-.59l7.78-7.78 2.81-2.81c.8-.78.8-2.07 0-2.86zM5.41 20L4 18.59l7.72-7.72 1.47 1.35L5.41 20z\"/>\n",
              "  </svg>\n",
              "      </button>\n",
              "      \n",
              "  <style>\n",
              "    .colab-df-container {\n",
              "      display:flex;\n",
              "      flex-wrap:wrap;\n",
              "      gap: 12px;\n",
              "    }\n",
              "\n",
              "    .colab-df-convert {\n",
              "      background-color: #E8F0FE;\n",
              "      border: none;\n",
              "      border-radius: 50%;\n",
              "      cursor: pointer;\n",
              "      display: none;\n",
              "      fill: #1967D2;\n",
              "      height: 32px;\n",
              "      padding: 0 0 0 0;\n",
              "      width: 32px;\n",
              "    }\n",
              "\n",
              "    .colab-df-convert:hover {\n",
              "      background-color: #E2EBFA;\n",
              "      box-shadow: 0px 1px 2px rgba(60, 64, 67, 0.3), 0px 1px 3px 1px rgba(60, 64, 67, 0.15);\n",
              "      fill: #174EA6;\n",
              "    }\n",
              "\n",
              "    [theme=dark] .colab-df-convert {\n",
              "      background-color: #3B4455;\n",
              "      fill: #D2E3FC;\n",
              "    }\n",
              "\n",
              "    [theme=dark] .colab-df-convert:hover {\n",
              "      background-color: #434B5C;\n",
              "      box-shadow: 0px 1px 3px 1px rgba(0, 0, 0, 0.15);\n",
              "      filter: drop-shadow(0px 1px 2px rgba(0, 0, 0, 0.3));\n",
              "      fill: #FFFFFF;\n",
              "    }\n",
              "  </style>\n",
              "\n",
              "      <script>\n",
              "        const buttonEl =\n",
              "          document.querySelector('#df-bfa74d98-ec97-4417-893f-99877c05ed32 button.colab-df-convert');\n",
              "        buttonEl.style.display =\n",
              "          google.colab.kernel.accessAllowed ? 'block' : 'none';\n",
              "\n",
              "        async function convertToInteractive(key) {\n",
              "          const element = document.querySelector('#df-bfa74d98-ec97-4417-893f-99877c05ed32');\n",
              "          const dataTable =\n",
              "            await google.colab.kernel.invokeFunction('convertToInteractive',\n",
              "                                                     [key], {});\n",
              "          if (!dataTable) return;\n",
              "\n",
              "          const docLinkHtml = 'Like what you see? Visit the ' +\n",
              "            '<a target=\"_blank\" href=https://colab.research.google.com/notebooks/data_table.ipynb>data table notebook</a>'\n",
              "            + ' to learn more about interactive tables.';\n",
              "          element.innerHTML = '';\n",
              "          dataTable['output_type'] = 'display_data';\n",
              "          await google.colab.output.renderOutput(dataTable, element);\n",
              "          const docLink = document.createElement('div');\n",
              "          docLink.innerHTML = docLinkHtml;\n",
              "          element.appendChild(docLink);\n",
              "        }\n",
              "      </script>\n",
              "    </div>\n",
              "  </div>\n",
              "  "
            ]
          },
          "metadata": {},
          "execution_count": 46
        }
      ],
      "source": [
        "df_pseudo.head()"
      ]
    },
    {
      "cell_type": "markdown",
      "metadata": {
        "id": "qwNEk2ckVeIr"
      },
      "source": [
        "## Load text data into memory"
      ]
    },
    {
      "cell_type": "markdown",
      "metadata": {
        "id": "uY_IJ3glVeIt"
      },
      "source": [
        "## Build datasets objects"
      ]
    },
    {
      "cell_type": "code",
      "execution_count": 47,
      "metadata": {
        "id": "r4hUqP4bmeZg"
      },
      "outputs": [],
      "source": [
        "def get_train_dataset(x_data, y_data):\n",
        "  dataset = tf.data.Dataset.from_tensor_slices((x_data, y_data))\n",
        "  dataset = dataset.repeat()\n",
        "  dataset = dataset.batch(batch_size)\n",
        "  dataset = dataset.shuffle(seed)\n",
        "  dataset = dataset.cache()\n",
        "  dataset = dataset.prefetch(AUTO)\n",
        "  return dataset\n",
        "\n",
        "def get_valid_dataset(x_data, y_data):\n",
        "  dataset = tf.data.Dataset.from_tensor_slices((x_data, y_data))\n",
        "  dataset = dataset.batch(batch_size)\n",
        "  dataset = dataset.cache()\n",
        "  dataset = dataset.prefetch(AUTO)\n",
        "  return dataset"
      ]
    },
    {
      "cell_type": "code",
      "execution_count": 48,
      "metadata": {
        "colab": {
          "base_uri": "https://localhost:8080/",
          "height": 293
        },
        "id": "yBQYALAUoQ5l",
        "outputId": "64d8efcc-bd3e-4830-ae20-a69a9b9e9d65"
      },
      "outputs": [
        {
          "output_type": "stream",
          "name": "stdout",
          "text": [
            "Learning rate result: 1e-06 to 5e-05 to 4.14e-06\n"
          ]
        },
        {
          "output_type": "display_data",
          "data": {
            "text/plain": [
              "<Figure size 432x288 with 1 Axes>"
            ],
            "image/png": "[encoded data removed]"
          },
          "metadata": {
            "needs_background": "light"
          }
        }
      ],
      "source": [
        "# cosine decay with warm_up\n",
        "lr_start = 0.00000\n",
        "lr_max = 0.00005\n",
        "lr_min = lr_start = 0.000001\n",
        "lr_rampup_epochs = 6\n",
        "lr_sustain_epochs = 0\n",
        "lr_exp_decay = .4\n",
        "\n",
        "def lr_func(epochs):\n",
        "  if epochs < lr_rampup_epochs:\n",
        "    learning_rate = (lr_max - lr_start) / lr_rampup_epochs * epochs + lr_start\n",
        "  elif epochs < lr_rampup_epochs + lr_sustain_epochs:\n",
        "    learning_rate = lr_max\n",
        "  else:\n",
        "    learning_rate = (lr_max - lr_min) * lr_exp_decay ** (epochs - lr_rampup_epochs - lr_sustain_epochs) + lr_min\n",
        "  return learning_rate\n",
        "\n",
        "\n",
        "new_epochs_range = [i for i in range(epochs)]\n",
        "learning_rate_result = [lr_func(x) for x in new_epochs_range]\n",
        "print(\"Learning rate result: {:.3g} to {:.3g} to {:.3g}\".format(learning_rate_result[0], max(learning_rate_result), learning_rate_result[-1]))\n",
        "#plt.xticks(new_epochs_range, \"Number of Epochs\")\n",
        "#plt.yticks(learning_rate_result, \"Learning rate\")\n",
        "plt.plot(new_epochs_range, learning_rate_result)\n",
        "plt.show()\n",
        "\n"
      ]
    },
    {
      "cell_type": "code",
      "execution_count": 49,
      "metadata": {
        "id": "yHoNpu9HtQuK"
      },
      "outputs": [],
      "source": [
        "lr_warm_up = tf.keras.callbacks.LearningRateScheduler(lr_func, verbose=1)"
      ]
    },
    {
      "cell_type": "markdown",
      "metadata": {
        "id": "IiUcD-FYVeIu"
      },
      "source": [
        "## Load model into the TPU"
      ]
    },
    {
      "cell_type": "markdown",
      "metadata": {
        "id": "cHIx1ctwVeIu"
      },
      "source": [
        "## Train Model"
      ]
    },
    {
      "cell_type": "markdown",
      "metadata": {
        "id": "RhM1_Ue7VeIu"
      },
      "source": [
        "First, we train on the subset of the training set, which is completely in English."
      ]
    },
    {
      "cell_type": "code",
      "execution_count": 50,
      "metadata": {
        "colab": {
          "base_uri": "https://localhost:8080/",
          "height": 1000
        },
        "id": "tgMDTOFrzAVZ",
        "outputId": "bdd0558f-05dc-477d-f31d-902e0771cd73"
      },
      "outputs": [
        {
          "output_type": "stream",
          "name": "stdout",
          "text": [
            "#### FOLD 1\n"
          ]
        },
        {
          "output_type": "stream",
          "name": "stderr",
          "text": [
            "Truncation was not explicitly activated but `max_length` is provided a specific value, please use `truncation=True` to explicitly truncate examples to max length. Defaulting to 'longest_first' truncation strategy. If you encode pairs of sequences (GLUE-style) with the tokenizer you can select this strategy more precisely by providing a specific strategy to `truncation`.\n",
            "/usr/local/lib/python3.7/dist-packages/transformers/tokenization_utils_base.py:2308: FutureWarning: The `pad_to_max_length` argument is deprecated and will be removed in a future version, use `padding=True` or `padding='longest'` to pad to the longest sequence in the batch, or use `padding='max_length'` to pad to a max length. In this case, you can give a specific length with `max_length` (e.g. `max_length=45`) or leave max_length to None to pad to the maximal input size of the model (e.g. 512 for Bert).\n",
            "  FutureWarning,\n"
          ]
        },
        {
          "output_type": "stream",
          "name": "stdout",
          "text": [
            "[[0 1]\n",
            " [0 1]\n",
            " [1 0]\n",
            " [0 1]\n",
            " [0 1]]\n",
            "[[0 1]\n",
            " [0 1]\n",
            " [0 1]\n",
            " [1 0]\n",
            " [0 1]]\n"
          ]
        },
        {
          "output_type": "stream",
          "name": "stderr",
          "text": [
            "WARNING:tensorflow:TPU system grpc://10.68.42.170:8470 has already been initialized. Reinitializing the TPU can cause previously created variables on TPU to be lost.\n",
            "Some layers from the model checkpoint at digitalepidemiologylab/covid-twitter-bert were not used when initializing TFBertModel: ['nsp___cls', 'mlm___cls']\n",
            "- This IS expected if you are initializing TFBertModel from the checkpoint of a model trained on another task or with another architecture (e.g. initializing a BertForSequenceClassification model from a BertForPreTraining model).\n",
            "- This IS NOT expected if you are initializing TFBertModel from the checkpoint of a model that you expect to be exactly identical (initializing a BertForSequenceClassification model from a BertForSequenceClassification model).\n",
            "All the layers of TFBertModel were initialized from the model checkpoint at digitalepidemiologylab/covid-twitter-bert.\n",
            "If your task is similar to the task the model of the checkpoint was trained on, you can already use TFBertModel for predictions without further training.\n",
            "/usr/local/lib/python3.7/dist-packages/keras/optimizer_v2/adam.py:105: UserWarning: The `lr` argument is deprecated, use `learning_rate` instead.\n",
            "  super(Adam, self).__init__(name, **kwargs)\n"
          ]
        },
        {
          "output_type": "stream",
          "name": "stdout",
          "text": [
            "\n",
            "Epoch 1: LearningRateScheduler setting learning rate to 1e-06.\n",
            "Epoch 1/10\n"
          ]
        },
        {
          "output_type": "stream",
          "name": "stderr",
          "text": [
            "WARNING:tensorflow:Gradients do not exist for variables ['tf_bert_model/bert/pooler/dense/kernel:0', 'tf_bert_model/bert/pooler/dense/bias:0'] when minimizing the loss. If you're using `model.compile()`, did you forget to provide a `loss`argument?\n",
            "WARNING:tensorflow:Gradients do not exist for variables ['tf_bert_model/bert/pooler/dense/kernel:0', 'tf_bert_model/bert/pooler/dense/bias:0'] when minimizing the loss. If you're using `model.compile()`, did you forget to provide a `loss`argument?\n"
          ]
        },
        {
          "output_type": "stream",
          "name": "stdout",
          "text": [
            "200/200 [==============================] - 267s 476ms/step - loss: 0.4545 - accuracy: 0.7811 - f1_score: 0.7805 - val_loss: 0.3244 - val_accuracy: 0.8715 - val_f1_score: 0.8696 - lr: 1.0000e-06\n",
            "\n",
            "Epoch 2: LearningRateScheduler setting learning rate to 9.166666666666668e-06.\n",
            "Epoch 2/10\n",
            "200/200 [==============================] - 60s 301ms/step - loss: 0.2219 - accuracy: 0.9168 - f1_score: 0.9167 - val_loss: 0.1211 - val_accuracy: 0.9708 - val_f1_score: 0.9708 - lr: 9.1667e-06\n",
            "\n",
            "Epoch 3: LearningRateScheduler setting learning rate to 1.7333333333333336e-05.\n",
            "Epoch 3/10\n",
            "200/200 [==============================] - 53s 263ms/step - loss: 0.0909 - accuracy: 0.9780 - f1_score: 0.9780 - val_loss: 0.1239 - val_accuracy: 0.9702 - val_f1_score: 0.9702 - lr: 1.7333e-05\n",
            "\n",
            "Epoch 4: LearningRateScheduler setting learning rate to 2.5500000000000003e-05.\n",
            "Epoch 4/10\n",
            "200/200 [==============================] - 60s 300ms/step - loss: 0.0682 - accuracy: 0.9874 - f1_score: 0.9874 - val_loss: 0.1092 - val_accuracy: 0.9796 - val_f1_score: 0.9795 - lr: 2.5500e-05\n",
            "\n",
            "Epoch 5: LearningRateScheduler setting learning rate to 3.366666666666667e-05.\n",
            "Epoch 5/10\n",
            "200/200 [==============================] - 53s 263ms/step - loss: 0.0920 - accuracy: 0.9793 - f1_score: 0.9792 - val_loss: 0.1398 - val_accuracy: 0.9690 - val_f1_score: 0.9690 - lr: 3.3667e-05\n",
            "\n",
            "Epoch 6: LearningRateScheduler setting learning rate to 4.183333333333334e-05.\n",
            "Epoch 6/10\n",
            "200/200 [==============================] - ETA: 0s - loss: 0.0503 - accuracy: 0.9945 - f1_score: 0.9945\n",
            "Epoch 6: ReduceLROnPlateau reducing learning rate to 4.183333294349723e-06.\n",
            "200/200 [==============================] - 53s 264ms/step - loss: 0.0503 - accuracy: 0.9945 - f1_score: 0.9945 - val_loss: 0.2429 - val_accuracy: 0.9498 - val_f1_score: 0.9495 - lr: 4.1833e-06\n",
            "\n",
            "Epoch 7: LearningRateScheduler setting learning rate to 5e-05.\n",
            "Epoch 7/10\n",
            "200/200 [==============================] - 53s 264ms/step - loss: 0.0674 - accuracy: 0.9878 - f1_score: 0.9877 - val_loss: 0.1555 - val_accuracy: 0.9720 - val_f1_score: 0.9719 - lr: 5.0000e-05\n",
            "\n",
            "Epoch 8: LearningRateScheduler setting learning rate to 2.0600000000000003e-05.\n",
            "Epoch 8/10\n",
            "200/200 [==============================] - ETA: 0s - loss: 0.0429 - accuracy: 0.9968 - f1_score: 0.9968\n",
            "Epoch 8: ReduceLROnPlateau reducing learning rate to 2.060000042547472e-06.\n",
            "200/200 [==============================] - 60s 303ms/step - loss: 0.0429 - accuracy: 0.9968 - f1_score: 0.9968 - val_loss: 0.1064 - val_accuracy: 0.9796 - val_f1_score: 0.9796 - lr: 2.0600e-06\n",
            "\n",
            "Epoch 9: LearningRateScheduler setting learning rate to 8.840000000000003e-06.\n",
            "Epoch 9/10\n",
            "200/200 [==============================] - 53s 264ms/step - loss: 0.0344 - accuracy: 0.9991 - f1_score: 0.9991 - val_loss: 0.1193 - val_accuracy: 0.9737 - val_f1_score: 0.9737 - lr: 8.8400e-06\n",
            "\n",
            "Epoch 10: LearningRateScheduler setting learning rate to 4.136000000000001e-06.\n",
            "Epoch 10/10\n",
            "200/200 [==============================] - ETA: 0s - loss: 0.0338 - accuracy: 0.9994 - f1_score: 0.9994\n",
            "Epoch 10: ReduceLROnPlateau reducing learning rate to 4.135999915888533e-07.\n",
            "200/200 [==============================] - 53s 263ms/step - loss: 0.0338 - accuracy: 0.9994 - f1_score: 0.9994 - val_loss: 0.1138 - val_accuracy: 0.9784 - val_f1_score: 0.9784 - lr: 4.1360e-07\n",
            "Loading best model...\n",
            "Type of fake_train1_list:  <class 'list'>\n",
            "Type of fake_test_list:  <class 'list'>\n",
            "43/43 [==============================] - 4s 70ms/step - loss: 0.1064 - accuracy: 0.9796 - f1_score: 0.9796\n"
          ]
        },
        {
          "output_type": "display_data",
          "data": {
            "text/plain": [
              "<Figure size 1080x360 with 2 Axes>"
            ],
            "image/png": "[encoded data removed]"
          },
          "metadata": {
            "needs_background": "light"
          }
        },
        {
          "output_type": "stream",
          "name": "stdout",
          "text": [
            "#### FOLD 2\n"
          ]
        },
        {
          "output_type": "stream",
          "name": "stderr",
          "text": [
            "Truncation was not explicitly activated but `max_length` is provided a specific value, please use `truncation=True` to explicitly truncate examples to max length. Defaulting to 'longest_first' truncation strategy. If you encode pairs of sequences (GLUE-style) with the tokenizer you can select this strategy more precisely by providing a specific strategy to `truncation`.\n",
            "/usr/local/lib/python3.7/dist-packages/transformers/tokenization_utils_base.py:2308: FutureWarning: The `pad_to_max_length` argument is deprecated and will be removed in a future version, use `padding=True` or `padding='longest'` to pad to the longest sequence in the batch, or use `padding='max_length'` to pad to a max length. In this case, you can give a specific length with `max_length` (e.g. `max_length=45`) or leave max_length to None to pad to the maximal input size of the model (e.g. 512 for Bert).\n",
            "  FutureWarning,\n"
          ]
        },
        {
          "output_type": "stream",
          "name": "stdout",
          "text": [
            "[[0 1]\n",
            " [0 1]\n",
            " [1 0]\n",
            " [0 1]\n",
            " [0 1]]\n",
            "[[0 1]\n",
            " [0 1]\n",
            " [0 1]\n",
            " [0 1]\n",
            " [1 0]]\n"
          ]
        },
        {
          "output_type": "stream",
          "name": "stderr",
          "text": [
            "WARNING:tensorflow:TPU system grpc://10.68.42.170:8470 has already been initialized. Reinitializing the TPU can cause previously created variables on TPU to be lost.\n",
            "Some layers from the model checkpoint at digitalepidemiologylab/covid-twitter-bert were not used when initializing TFBertModel: ['nsp___cls', 'mlm___cls']\n",
            "- This IS expected if you are initializing TFBertModel from the checkpoint of a model trained on another task or with another architecture (e.g. initializing a BertForSequenceClassification model from a BertForPreTraining model).\n",
            "- This IS NOT expected if you are initializing TFBertModel from the checkpoint of a model that you expect to be exactly identical (initializing a BertForSequenceClassification model from a BertForSequenceClassification model).\n",
            "All the layers of TFBertModel were initialized from the model checkpoint at digitalepidemiologylab/covid-twitter-bert.\n",
            "If your task is similar to the task the model of the checkpoint was trained on, you can already use TFBertModel for predictions without further training.\n",
            "/usr/local/lib/python3.7/dist-packages/keras/optimizer_v2/adam.py:105: UserWarning: The `lr` argument is deprecated, use `learning_rate` instead.\n",
            "  super(Adam, self).__init__(name, **kwargs)\n"
          ]
        },
        {
          "output_type": "stream",
          "name": "stdout",
          "text": [
            "\n",
            "Epoch 1: LearningRateScheduler setting learning rate to 1e-06.\n",
            "Epoch 1/10\n"
          ]
        },
        {
          "output_type": "stream",
          "name": "stderr",
          "text": [
            "WARNING:tensorflow:Gradients do not exist for variables ['tf_bert_model/bert/pooler/dense/kernel:0', 'tf_bert_model/bert/pooler/dense/bias:0'] when minimizing the loss. If you're using `model.compile()`, did you forget to provide a `loss`argument?\n",
            "WARNING:tensorflow:Gradients do not exist for variables ['tf_bert_model/bert/pooler/dense/kernel:0', 'tf_bert_model/bert/pooler/dense/bias:0'] when minimizing the loss. If you're using `model.compile()`, did you forget to provide a `loss`argument?\n"
          ]
        },
        {
          "output_type": "stream",
          "name": "stdout",
          "text": [
            "200/200 [==============================] - 266s 472ms/step - loss: 0.5242 - accuracy: 0.7519 - f1_score: 0.7493 - val_loss: 0.4329 - val_accuracy: 0.8049 - val_f1_score: 0.7976 - lr: 1.0000e-06\n",
            "\n",
            "Epoch 2: LearningRateScheduler setting learning rate to 9.166666666666668e-06.\n",
            "Epoch 2/10\n",
            "200/200 [==============================] - 60s 303ms/step - loss: 0.1873 - accuracy: 0.9326 - f1_score: 0.9326 - val_loss: 0.1381 - val_accuracy: 0.9685 - val_f1_score: 0.9684 - lr: 9.1667e-06\n",
            "\n",
            "Epoch 3: LearningRateScheduler setting learning rate to 1.7333333333333336e-05.\n",
            "Epoch 3/10\n",
            "200/200 [==============================] - 60s 302ms/step - loss: 0.0921 - accuracy: 0.9766 - f1_score: 0.9766 - val_loss: 0.1082 - val_accuracy: 0.9690 - val_f1_score: 0.9690 - lr: 1.7333e-05\n",
            "\n",
            "Epoch 4: LearningRateScheduler setting learning rate to 2.5500000000000003e-05.\n",
            "Epoch 4/10\n",
            "200/200 [==============================] - 60s 302ms/step - loss: 0.1029 - accuracy: 0.9754 - f1_score: 0.9754 - val_loss: 0.1196 - val_accuracy: 0.9731 - val_f1_score: 0.9731 - lr: 2.5500e-05\n",
            "\n",
            "Epoch 5: LearningRateScheduler setting learning rate to 3.366666666666667e-05.\n",
            "Epoch 5/10\n",
            "200/200 [==============================] - 60s 302ms/step - loss: 0.0506 - accuracy: 0.9933 - f1_score: 0.9933 - val_loss: 0.1045 - val_accuracy: 0.9766 - val_f1_score: 0.9766 - lr: 3.3667e-05\n",
            "\n",
            "Epoch 6: LearningRateScheduler setting learning rate to 4.183333333333334e-05.\n",
            "Epoch 6/10\n",
            "200/200 [==============================] - 53s 264ms/step - loss: 0.0997 - accuracy: 0.9794 - f1_score: 0.9794 - val_loss: 0.1459 - val_accuracy: 0.9568 - val_f1_score: 0.9567 - lr: 4.1833e-05\n",
            "\n",
            "Epoch 7: LearningRateScheduler setting learning rate to 5e-05.\n",
            "Epoch 7/10\n",
            "200/200 [==============================] - ETA: 0s - loss: 0.0965 - accuracy: 0.9804 - f1_score: 0.9804\n",
            "Epoch 7: ReduceLROnPlateau reducing learning rate to 4.999999873689376e-06.\n",
            "200/200 [==============================] - 53s 264ms/step - loss: 0.0965 - accuracy: 0.9804 - f1_score: 0.9804 - val_loss: 0.1608 - val_accuracy: 0.9667 - val_f1_score: 0.9667 - lr: 5.0000e-06\n",
            "\n",
            "Epoch 8: LearningRateScheduler setting learning rate to 2.0600000000000003e-05.\n",
            "Epoch 8/10\n",
            "200/200 [==============================] - 61s 303ms/step - loss: 0.0381 - accuracy: 0.9983 - f1_score: 0.9983 - val_loss: 0.1119 - val_accuracy: 0.9772 - val_f1_score: 0.9772 - lr: 2.0600e-05\n",
            "\n",
            "Epoch 9: LearningRateScheduler setting learning rate to 8.840000000000003e-06.\n",
            "Epoch 9/10\n",
            "200/200 [==============================] - 53s 264ms/step - loss: 0.0337 - accuracy: 0.9996 - f1_score: 0.9996 - val_loss: 0.1224 - val_accuracy: 0.9749 - val_f1_score: 0.9749 - lr: 8.8400e-06\n",
            "\n",
            "Epoch 10: LearningRateScheduler setting learning rate to 4.136000000000001e-06.\n",
            "Epoch 10/10\n",
            "200/200 [==============================] - ETA: 0s - loss: 0.0342 - accuracy: 0.9996 - f1_score: 0.9996\n",
            "Epoch 10: ReduceLROnPlateau reducing learning rate to 4.135999915888533e-07.\n",
            "200/200 [==============================] - 53s 264ms/step - loss: 0.0342 - accuracy: 0.9996 - f1_score: 0.9996 - val_loss: 0.1152 - val_accuracy: 0.9772 - val_f1_score: 0.9772 - lr: 4.1360e-07\n",
            "Loading best model...\n",
            "Type of fake_train1_list:  <class 'list'>\n",
            "Type of fake_test_list:  <class 'list'>\n",
            "43/43 [==============================] - 4s 71ms/step - loss: 0.1119 - accuracy: 0.9772 - f1_score: 0.9772\n"
          ]
        },
        {
          "output_type": "display_data",
          "data": {
            "text/plain": [
              "<Figure size 1080x360 with 2 Axes>"
            ],
            "image/png": "[encoded data removed]"
          },
          "metadata": {
            "needs_background": "light"
          }
        },
        {
          "output_type": "stream",
          "name": "stdout",
          "text": [
            "#### FOLD 3\n"
          ]
        },
        {
          "output_type": "stream",
          "name": "stderr",
          "text": [
            "Truncation was not explicitly activated but `max_length` is provided a specific value, please use `truncation=True` to explicitly truncate examples to max length. Defaulting to 'longest_first' truncation strategy. If you encode pairs of sequences (GLUE-style) with the tokenizer you can select this strategy more precisely by providing a specific strategy to `truncation`.\n",
            "/usr/local/lib/python3.7/dist-packages/transformers/tokenization_utils_base.py:2308: FutureWarning: The `pad_to_max_length` argument is deprecated and will be removed in a future version, use `padding=True` or `padding='longest'` to pad to the longest sequence in the batch, or use `padding='max_length'` to pad to a max length. In this case, you can give a specific length with `max_length` (e.g. `max_length=45`) or leave max_length to None to pad to the maximal input size of the model (e.g. 512 for Bert).\n",
            "  FutureWarning,\n"
          ]
        },
        {
          "output_type": "stream",
          "name": "stdout",
          "text": [
            "[[1 0]\n",
            " [0 1]\n",
            " [0 1]\n",
            " [0 1]\n",
            " [0 1]]\n",
            "[[0 1]\n",
            " [0 1]\n",
            " [0 1]\n",
            " [1 0]\n",
            " [1 0]]\n"
          ]
        },
        {
          "output_type": "stream",
          "name": "stderr",
          "text": [
            "WARNING:tensorflow:TPU system grpc://10.68.42.170:8470 has already been initialized. Reinitializing the TPU can cause previously created variables on TPU to be lost.\n",
            "Some layers from the model checkpoint at digitalepidemiologylab/covid-twitter-bert were not used when initializing TFBertModel: ['nsp___cls', 'mlm___cls']\n",
            "- This IS expected if you are initializing TFBertModel from the checkpoint of a model trained on another task or with another architecture (e.g. initializing a BertForSequenceClassification model from a BertForPreTraining model).\n",
            "- This IS NOT expected if you are initializing TFBertModel from the checkpoint of a model that you expect to be exactly identical (initializing a BertForSequenceClassification model from a BertForSequenceClassification model).\n",
            "All the layers of TFBertModel were initialized from the model checkpoint at digitalepidemiologylab/covid-twitter-bert.\n",
            "If your task is similar to the task the model of the checkpoint was trained on, you can already use TFBertModel for predictions without further training.\n",
            "/usr/local/lib/python3.7/dist-packages/keras/optimizer_v2/adam.py:105: UserWarning: The `lr` argument is deprecated, use `learning_rate` instead.\n",
            "  super(Adam, self).__init__(name, **kwargs)\n"
          ]
        },
        {
          "output_type": "stream",
          "name": "stdout",
          "text": [
            "\n",
            "Epoch 1: LearningRateScheduler setting learning rate to 1e-06.\n",
            "Epoch 1/10\n"
          ]
        },
        {
          "output_type": "stream",
          "name": "stderr",
          "text": [
            "WARNING:tensorflow:Gradients do not exist for variables ['tf_bert_model/bert/pooler/dense/kernel:0', 'tf_bert_model/bert/pooler/dense/bias:0'] when minimizing the loss. If you're using `model.compile()`, did you forget to provide a `loss`argument?\n",
            "WARNING:tensorflow:Gradients do not exist for variables ['tf_bert_model/bert/pooler/dense/kernel:0', 'tf_bert_model/bert/pooler/dense/bias:0'] when minimizing the loss. If you're using `model.compile()`, did you forget to provide a `loss`argument?\n"
          ]
        },
        {
          "output_type": "stream",
          "name": "stdout",
          "text": [
            "200/200 [==============================] - 265s 475ms/step - loss: 0.4933 - accuracy: 0.7558 - f1_score: 0.7542 - val_loss: 0.2749 - val_accuracy: 0.8972 - val_f1_score: 0.8972 - lr: 1.0000e-06\n",
            "\n",
            "Epoch 2: LearningRateScheduler setting learning rate to 9.166666666666668e-06.\n",
            "Epoch 2/10\n",
            "200/200 [==============================] - 60s 302ms/step - loss: 0.2064 - accuracy: 0.9289 - f1_score: 0.9289 - val_loss: 0.1157 - val_accuracy: 0.9661 - val_f1_score: 0.9661 - lr: 9.1667e-06\n",
            "\n",
            "Epoch 3: LearningRateScheduler setting learning rate to 1.7333333333333336e-05.\n",
            "Epoch 3/10\n",
            "200/200 [==============================] - 61s 303ms/step - loss: 0.1002 - accuracy: 0.9734 - f1_score: 0.9734 - val_loss: 0.0828 - val_accuracy: 0.9831 - val_f1_score: 0.9831 - lr: 1.7333e-05\n",
            "\n",
            "Epoch 4: LearningRateScheduler setting learning rate to 2.5500000000000003e-05.\n",
            "Epoch 4/10\n",
            "200/200 [==============================] - 53s 265ms/step - loss: 0.1085 - accuracy: 0.9739 - f1_score: 0.9739 - val_loss: 0.0814 - val_accuracy: 0.9831 - val_f1_score: 0.9831 - lr: 2.5500e-05\n",
            "\n",
            "Epoch 5: LearningRateScheduler setting learning rate to 3.366666666666667e-05.\n",
            "Epoch 5/10\n",
            "200/200 [==============================] - ETA: 0s - loss: 0.0604 - accuracy: 0.9900 - f1_score: 0.9900\n",
            "Epoch 5: ReduceLROnPlateau reducing learning rate to 3.3666667150100695e-06.\n",
            "200/200 [==============================] - 53s 265ms/step - loss: 0.0604 - accuracy: 0.9900 - f1_score: 0.9900 - val_loss: 0.1225 - val_accuracy: 0.9702 - val_f1_score: 0.9701 - lr: 3.3667e-06\n",
            "\n",
            "Epoch 6: LearningRateScheduler setting learning rate to 4.183333333333334e-05.\n",
            "Epoch 6/10\n",
            "200/200 [==============================] - 53s 265ms/step - loss: 0.0806 - accuracy: 0.9838 - f1_score: 0.9837 - val_loss: 0.0801 - val_accuracy: 0.9825 - val_f1_score: 0.9825 - lr: 4.1833e-05\n",
            "\n",
            "Epoch 7: LearningRateScheduler setting learning rate to 5e-05.\n",
            "Epoch 7/10\n",
            "200/200 [==============================] - ETA: 0s - loss: 0.0553 - accuracy: 0.9928 - f1_score: 0.9927\n",
            "Epoch 7: ReduceLROnPlateau reducing learning rate to 4.999999873689376e-06.\n",
            "200/200 [==============================] - 53s 266ms/step - loss: 0.0553 - accuracy: 0.9928 - f1_score: 0.9927 - val_loss: 0.0858 - val_accuracy: 0.9831 - val_f1_score: 0.9831 - lr: 5.0000e-06\n",
            "\n",
            "Epoch 8: LearningRateScheduler setting learning rate to 2.0600000000000003e-05.\n",
            "Epoch 8/10\n",
            "200/200 [==============================] - 53s 265ms/step - loss: 0.0375 - accuracy: 0.9979 - f1_score: 0.9979 - val_loss: 0.0959 - val_accuracy: 0.9801 - val_f1_score: 0.9801 - lr: 2.0600e-05\n",
            "\n",
            "Epoch 9: LearningRateScheduler setting learning rate to 8.840000000000003e-06.\n",
            "Epoch 9/10\n",
            "200/200 [==============================] - ETA: 0s - loss: 0.0340 - accuracy: 0.9995 - f1_score: 0.9995\n",
            "Epoch 9: ReduceLROnPlateau reducing learning rate to 8.840000191412401e-07.\n",
            "200/200 [==============================] - 53s 266ms/step - loss: 0.0340 - accuracy: 0.9995 - f1_score: 0.9995 - val_loss: 0.0916 - val_accuracy: 0.9819 - val_f1_score: 0.9819 - lr: 8.8400e-07\n",
            "\n",
            "Epoch 10: LearningRateScheduler setting learning rate to 4.136000000000001e-06.\n",
            "Epoch 10/10\n",
            "200/200 [==============================] - 53s 265ms/step - loss: 0.0323 - accuracy: 0.9999 - f1_score: 0.9999 - val_loss: 0.0910 - val_accuracy: 0.9825 - val_f1_score: 0.9825 - lr: 4.1360e-06\n",
            "Loading best model...\n",
            "Type of fake_train1_list:  <class 'list'>\n",
            "Type of fake_test_list:  <class 'list'>\n",
            "43/43 [==============================] - 4s 72ms/step - loss: 0.0828 - accuracy: 0.9831 - f1_score: 0.9831\n"
          ]
        },
        {
          "output_type": "display_data",
          "data": {
            "text/plain": [
              "<Figure size 1080x360 with 2 Axes>"
            ],
            "image/png": "[encoded data removed]"
          },
          "metadata": {
            "needs_background": "light"
          }
        },
        {
          "output_type": "stream",
          "name": "stdout",
          "text": [
            "#### FOLD 4\n"
          ]
        },
        {
          "output_type": "stream",
          "name": "stderr",
          "text": [
            "Truncation was not explicitly activated but `max_length` is provided a specific value, please use `truncation=True` to explicitly truncate examples to max length. Defaulting to 'longest_first' truncation strategy. If you encode pairs of sequences (GLUE-style) with the tokenizer you can select this strategy more precisely by providing a specific strategy to `truncation`.\n",
            "/usr/local/lib/python3.7/dist-packages/transformers/tokenization_utils_base.py:2308: FutureWarning: The `pad_to_max_length` argument is deprecated and will be removed in a future version, use `padding=True` or `padding='longest'` to pad to the longest sequence in the batch, or use `padding='max_length'` to pad to a max length. In this case, you can give a specific length with `max_length` (e.g. `max_length=45`) or leave max_length to None to pad to the maximal input size of the model (e.g. 512 for Bert).\n",
            "  FutureWarning,\n"
          ]
        },
        {
          "output_type": "stream",
          "name": "stdout",
          "text": [
            "[[0 1]\n",
            " [0 1]\n",
            " [1 0]\n",
            " [0 1]\n",
            " [0 1]]\n",
            "[[0 1]\n",
            " [0 1]\n",
            " [1 0]\n",
            " [0 1]\n",
            " [0 1]]\n"
          ]
        },
        {
          "output_type": "stream",
          "name": "stderr",
          "text": [
            "WARNING:tensorflow:TPU system grpc://10.68.42.170:8470 has already been initialized. Reinitializing the TPU can cause previously created variables on TPU to be lost.\n",
            "Some layers from the model checkpoint at digitalepidemiologylab/covid-twitter-bert were not used when initializing TFBertModel: ['nsp___cls', 'mlm___cls']\n",
            "- This IS expected if you are initializing TFBertModel from the checkpoint of a model trained on another task or with another architecture (e.g. initializing a BertForSequenceClassification model from a BertForPreTraining model).\n",
            "- This IS NOT expected if you are initializing TFBertModel from the checkpoint of a model that you expect to be exactly identical (initializing a BertForSequenceClassification model from a BertForSequenceClassification model).\n",
            "All the layers of TFBertModel were initialized from the model checkpoint at digitalepidemiologylab/covid-twitter-bert.\n",
            "If your task is similar to the task the model of the checkpoint was trained on, you can already use TFBertModel for predictions without further training.\n",
            "/usr/local/lib/python3.7/dist-packages/keras/optimizer_v2/adam.py:105: UserWarning: The `lr` argument is deprecated, use `learning_rate` instead.\n",
            "  super(Adam, self).__init__(name, **kwargs)\n"
          ]
        },
        {
          "output_type": "stream",
          "name": "stdout",
          "text": [
            "\n",
            "Epoch 1: LearningRateScheduler setting learning rate to 1e-06.\n",
            "Epoch 1/10\n"
          ]
        },
        {
          "output_type": "stream",
          "name": "stderr",
          "text": [
            "WARNING:tensorflow:Gradients do not exist for variables ['tf_bert_model/bert/pooler/dense/kernel:0', 'tf_bert_model/bert/pooler/dense/bias:0'] when minimizing the loss. If you're using `model.compile()`, did you forget to provide a `loss`argument?\n",
            "WARNING:tensorflow:Gradients do not exist for variables ['tf_bert_model/bert/pooler/dense/kernel:0', 'tf_bert_model/bert/pooler/dense/bias:0'] when minimizing the loss. If you're using `model.compile()`, did you forget to provide a `loss`argument?\n"
          ]
        },
        {
          "output_type": "stream",
          "name": "stdout",
          "text": [
            "200/200 [==============================] - 278s 502ms/step - loss: 0.4504 - accuracy: 0.7773 - f1_score: 0.7762 - val_loss: 0.3532 - val_accuracy: 0.8557 - val_f1_score: 0.8515 - lr: 1.0000e-06\n",
            "\n",
            "Epoch 2: LearningRateScheduler setting learning rate to 9.166666666666668e-06.\n",
            "Epoch 2/10\n",
            "200/200 [==============================] - 64s 320ms/step - loss: 0.2605 - accuracy: 0.9024 - f1_score: 0.9024 - val_loss: 0.1159 - val_accuracy: 0.9679 - val_f1_score: 0.9679 - lr: 9.1667e-06\n",
            "\n",
            "Epoch 3: LearningRateScheduler setting learning rate to 1.7333333333333336e-05.\n",
            "Epoch 3/10\n",
            "200/200 [==============================] - 64s 320ms/step - loss: 0.1289 - accuracy: 0.9608 - f1_score: 0.9607 - val_loss: 0.1054 - val_accuracy: 0.9720 - val_f1_score: 0.9719 - lr: 1.7333e-05\n",
            "\n",
            "Epoch 4: LearningRateScheduler setting learning rate to 2.5500000000000003e-05.\n",
            "Epoch 4/10\n",
            "200/200 [==============================] - 55s 276ms/step - loss: 0.1029 - accuracy: 0.9746 - f1_score: 0.9746 - val_loss: 0.1005 - val_accuracy: 0.9720 - val_f1_score: 0.9719 - lr: 2.5500e-05\n",
            "\n",
            "Epoch 5: LearningRateScheduler setting learning rate to 3.366666666666667e-05.\n",
            "Epoch 5/10\n",
            "200/200 [==============================] - ETA: 0s - loss: 0.0661 - accuracy: 0.9874 - f1_score: 0.9874\n",
            "Epoch 5: ReduceLROnPlateau reducing learning rate to 3.3666667150100695e-06.\n",
            "200/200 [==============================] - 54s 269ms/step - loss: 0.0661 - accuracy: 0.9874 - f1_score: 0.9874 - val_loss: 0.1579 - val_accuracy: 0.9661 - val_f1_score: 0.9660 - lr: 3.3667e-06\n",
            "\n",
            "Epoch 6: LearningRateScheduler setting learning rate to 4.183333333333334e-05.\n",
            "Epoch 6/10\n",
            "200/200 [==============================] - 61s 307ms/step - loss: 0.1016 - accuracy: 0.9766 - f1_score: 0.9766 - val_loss: 0.1179 - val_accuracy: 0.9737 - val_f1_score: 0.9737 - lr: 4.1833e-05\n",
            "\n",
            "Epoch 7: LearningRateScheduler setting learning rate to 5e-05.\n",
            "Epoch 7/10\n",
            "200/200 [==============================] - 61s 305ms/step - loss: 0.0480 - accuracy: 0.9953 - f1_score: 0.9952 - val_loss: 0.0783 - val_accuracy: 0.9860 - val_f1_score: 0.9860 - lr: 5.0000e-05\n",
            "\n",
            "Epoch 8: LearningRateScheduler setting learning rate to 2.0600000000000003e-05.\n",
            "Epoch 8/10\n",
            "200/200 [==============================] - 61s 303ms/step - loss: 0.0389 - accuracy: 0.9980 - f1_score: 0.9980 - val_loss: 0.0734 - val_accuracy: 0.9877 - val_f1_score: 0.9877 - lr: 2.0600e-05\n",
            "\n",
            "Epoch 9: LearningRateScheduler setting learning rate to 8.840000000000003e-06.\n",
            "Epoch 9/10\n",
            "200/200 [==============================] - 53s 265ms/step - loss: 0.0345 - accuracy: 0.9991 - f1_score: 0.9991 - val_loss: 0.0762 - val_accuracy: 0.9854 - val_f1_score: 0.9854 - lr: 8.8400e-06\n",
            "\n",
            "Epoch 10: LearningRateScheduler setting learning rate to 4.136000000000001e-06.\n",
            "Epoch 10/10\n",
            "200/200 [==============================] - ETA: 0s - loss: 0.0324 - accuracy: 0.9999 - f1_score: 0.9999\n",
            "Epoch 10: ReduceLROnPlateau reducing learning rate to 4.135999915888533e-07.\n",
            "200/200 [==============================] - 53s 265ms/step - loss: 0.0324 - accuracy: 0.9999 - f1_score: 0.9999 - val_loss: 0.0771 - val_accuracy: 0.9848 - val_f1_score: 0.9848 - lr: 4.1360e-07\n",
            "Loading best model...\n",
            "Type of fake_train1_list:  <class 'list'>\n",
            "Type of fake_test_list:  <class 'list'>\n",
            "43/43 [==============================] - 4s 71ms/step - loss: 0.0734 - accuracy: 0.9877 - f1_score: 0.9877\n"
          ]
        },
        {
          "output_type": "display_data",
          "data": {
            "text/plain": [
              "<Figure size 1080x360 with 2 Axes>"
            ],
            "image/png": "[encoded data removed]"
          },
          "metadata": {
            "needs_background": "light"
          }
        },
        {
          "output_type": "stream",
          "name": "stdout",
          "text": [
            "#### FOLD 5\n"
          ]
        },
        {
          "output_type": "stream",
          "name": "stderr",
          "text": [
            "Truncation was not explicitly activated but `max_length` is provided a specific value, please use `truncation=True` to explicitly truncate examples to max length. Defaulting to 'longest_first' truncation strategy. If you encode pairs of sequences (GLUE-style) with the tokenizer you can select this strategy more precisely by providing a specific strategy to `truncation`.\n",
            "/usr/local/lib/python3.7/dist-packages/transformers/tokenization_utils_base.py:2308: FutureWarning: The `pad_to_max_length` argument is deprecated and will be removed in a future version, use `padding=True` or `padding='longest'` to pad to the longest sequence in the batch, or use `padding='max_length'` to pad to a max length. In this case, you can give a specific length with `max_length` (e.g. `max_length=45`) or leave max_length to None to pad to the maximal input size of the model (e.g. 512 for Bert).\n",
            "  FutureWarning,\n"
          ]
        },
        {
          "output_type": "stream",
          "name": "stdout",
          "text": [
            "[[0 1]\n",
            " [0 1]\n",
            " [0 1]\n",
            " [0 1]\n",
            " [0 1]]\n",
            "[[1 0]\n",
            " [1 0]\n",
            " [1 0]\n",
            " [1 0]\n",
            " [0 1]]\n"
          ]
        },
        {
          "output_type": "stream",
          "name": "stderr",
          "text": [
            "WARNING:tensorflow:TPU system grpc://10.68.42.170:8470 has already been initialized. Reinitializing the TPU can cause previously created variables on TPU to be lost.\n",
            "Some layers from the model checkpoint at digitalepidemiologylab/covid-twitter-bert were not used when initializing TFBertModel: ['nsp___cls', 'mlm___cls']\n",
            "- This IS expected if you are initializing TFBertModel from the checkpoint of a model trained on another task or with another architecture (e.g. initializing a BertForSequenceClassification model from a BertForPreTraining model).\n",
            "- This IS NOT expected if you are initializing TFBertModel from the checkpoint of a model that you expect to be exactly identical (initializing a BertForSequenceClassification model from a BertForSequenceClassification model).\n",
            "All the layers of TFBertModel were initialized from the model checkpoint at digitalepidemiologylab/covid-twitter-bert.\n",
            "If your task is similar to the task the model of the checkpoint was trained on, you can already use TFBertModel for predictions without further training.\n",
            "/usr/local/lib/python3.7/dist-packages/keras/optimizer_v2/adam.py:105: UserWarning: The `lr` argument is deprecated, use `learning_rate` instead.\n",
            "  super(Adam, self).__init__(name, **kwargs)\n"
          ]
        },
        {
          "output_type": "stream",
          "name": "stdout",
          "text": [
            "\n",
            "Epoch 1: LearningRateScheduler setting learning rate to 1e-06.\n",
            "Epoch 1/10\n"
          ]
        },
        {
          "output_type": "stream",
          "name": "stderr",
          "text": [
            "WARNING:tensorflow:Gradients do not exist for variables ['tf_bert_model/bert/pooler/dense/kernel:0', 'tf_bert_model/bert/pooler/dense/bias:0'] when minimizing the loss. If you're using `model.compile()`, did you forget to provide a `loss`argument?\n",
            "WARNING:tensorflow:Gradients do not exist for variables ['tf_bert_model/bert/pooler/dense/kernel:0', 'tf_bert_model/bert/pooler/dense/bias:0'] when minimizing the loss. If you're using `model.compile()`, did you forget to provide a `loss`argument?\n"
          ]
        },
        {
          "output_type": "stream",
          "name": "stdout",
          "text": [
            "200/200 [==============================] - 267s 476ms/step - loss: 0.4250 - accuracy: 0.7964 - f1_score: 0.7958 - val_loss: 0.2714 - val_accuracy: 0.8931 - val_f1_score: 0.8926 - lr: 1.0000e-06\n",
            "\n",
            "Epoch 2: LearningRateScheduler setting learning rate to 9.166666666666668e-06.\n",
            "Epoch 2/10\n",
            "200/200 [==============================] - 61s 304ms/step - loss: 0.2483 - accuracy: 0.9054 - f1_score: 0.9054 - val_loss: 0.1222 - val_accuracy: 0.9644 - val_f1_score: 0.9644 - lr: 9.1667e-06\n",
            "\n",
            "Epoch 3: LearningRateScheduler setting learning rate to 1.7333333333333336e-05.\n",
            "Epoch 3/10\n",
            "200/200 [==============================] - 53s 265ms/step - loss: 0.1350 - accuracy: 0.9631 - f1_score: 0.9631 - val_loss: 0.1429 - val_accuracy: 0.9626 - val_f1_score: 0.9626 - lr: 1.7333e-05\n",
            "\n",
            "Epoch 4: LearningRateScheduler setting learning rate to 2.5500000000000003e-05.\n",
            "Epoch 4/10\n",
            "200/200 [==============================] - 61s 304ms/step - loss: 0.0949 - accuracy: 0.9775 - f1_score: 0.9775 - val_loss: 0.1431 - val_accuracy: 0.9661 - val_f1_score: 0.9661 - lr: 2.5500e-05\n",
            "\n",
            "Epoch 5: LearningRateScheduler setting learning rate to 3.366666666666667e-05.\n",
            "Epoch 5/10\n",
            "200/200 [==============================] - 53s 267ms/step - loss: 0.0907 - accuracy: 0.9815 - f1_score: 0.9815 - val_loss: 0.2119 - val_accuracy: 0.9515 - val_f1_score: 0.9515 - lr: 3.3667e-05\n",
            "\n",
            "Epoch 6: LearningRateScheduler setting learning rate to 4.183333333333334e-05.\n",
            "Epoch 6/10\n",
            "200/200 [==============================] - 61s 306ms/step - loss: 0.1543 - accuracy: 0.9631 - f1_score: 0.9631 - val_loss: 0.0969 - val_accuracy: 0.9778 - val_f1_score: 0.9778 - lr: 4.1833e-05\n",
            "\n",
            "Epoch 7: LearningRateScheduler setting learning rate to 5e-05.\n",
            "Epoch 7/10\n",
            "200/200 [==============================] - 61s 305ms/step - loss: 0.0700 - accuracy: 0.9886 - f1_score: 0.9886 - val_loss: 0.0876 - val_accuracy: 0.9807 - val_f1_score: 0.9807 - lr: 5.0000e-05\n",
            "\n",
            "Epoch 8: LearningRateScheduler setting learning rate to 2.0600000000000003e-05.\n",
            "Epoch 8/10\n",
            "200/200 [==============================] - 53s 266ms/step - loss: 0.0461 - accuracy: 0.9955 - f1_score: 0.9955 - val_loss: 0.1102 - val_accuracy: 0.9796 - val_f1_score: 0.9795 - lr: 2.0600e-05\n",
            "\n",
            "Epoch 9: LearningRateScheduler setting learning rate to 8.840000000000003e-06.\n",
            "Epoch 9/10\n",
            "200/200 [==============================] - 61s 306ms/step - loss: 0.0359 - accuracy: 0.9985 - f1_score: 0.9985 - val_loss: 0.0946 - val_accuracy: 0.9825 - val_f1_score: 0.9825 - lr: 8.8400e-06\n",
            "\n",
            "Epoch 10: LearningRateScheduler setting learning rate to 4.136000000000001e-06.\n",
            "Epoch 10/10\n",
            "200/200 [==============================] - 61s 306ms/step - loss: 0.0334 - accuracy: 0.9994 - f1_score: 0.9994 - val_loss: 0.0961 - val_accuracy: 0.9842 - val_f1_score: 0.9842 - lr: 4.1360e-06\n",
            "Loading best model...\n",
            "Type of fake_train1_list:  <class 'list'>\n",
            "Type of fake_test_list:  <class 'list'>\n",
            "43/43 [==============================] - 4s 73ms/step - loss: 0.0961 - accuracy: 0.9842 - f1_score: 0.9842\n"
          ]
        },
        {
          "output_type": "display_data",
          "data": {
            "text/plain": [
              "<Figure size 1080x360 with 2 Axes>"
            ],
            "image/png": "[encoded data removed]"
          },
          "metadata": {
            "needs_background": "light"
          }
        }
      ],
      "source": [
        "preds = []\n",
        "weights = []\n",
        "models = [\"digitalepidemiologylab/covid-twitter-bert\",\"distilroberta-base\",\"nghuyong/ernie-2.0-en\",\"lordtt13/COVID-SciBERT\",\"digitalepidemiologylab/covid-twitter-bert-v2\"]\n",
        "for fold,(train,valid) in enumerate(kfold.split(fake_train1.tweet,fake_train1.label)):\n",
        "    print('#### FOLD',fold+1)\n",
        "    x_train,x_valid,y_train,y_valid = fake_train1.tweet[train],fake_train1.tweet[valid]\\\n",
        "    ,fake_train1.label[train],fake_train1.label[valid]\n",
        "    if (use_pseudo):\n",
        "        print(\"use pseudo\")\n",
        "        x_train = pd.concat([x_train, df_pseudo.tweet]).reset_index(drop=True)\n",
        "        y_train = pd.concat([y_train, df_pseudo.label]).reset_index(drop=True)\n",
        "    if (use_external1):\n",
        "        x_train = pd.concat([x_train, fake_external1.tweet]).reset_index(drop=True)\n",
        "        y_train = pd.concat([y_train, fake_external1.label]).reset_index(drop=True)\n",
        "    \n",
        "    x_train = x_train.tolist()\n",
        "    y_train = y_train.tolist()\n",
        "    y_valid = y_valid.tolist()\n",
        "    x_valid = x_valid.tolist()\n",
        "\n",
        "    \n",
        "    tokenizer = AutoTokenizer.from_pretrained(models[0])\n",
        "    \n",
        "    x_fake_train = regular_encode(x_train,tokenizer, maxlen=max_len)\n",
        "    x_fake_valid = regular_encode(x_valid,tokenizer,maxlen=max_len)\n",
        "\n",
        "    y_fake_train = to_categorical(y_train,dtype='int32')\n",
        "    y_fake_valid = to_categorical(y_valid,dtype='int32')\n",
        "\n",
        "    print(y_fake_train[0:5])\n",
        "    print(y_fake_valid[0:5])\n",
        "    \n",
        "    train_dataset = get_train_dataset(x_fake_train,y_fake_train)\n",
        "    valid_dataset = get_valid_dataset(x_fake_valid,y_fake_valid)\n",
        "    \n",
        "    \n",
        "    n_steps = x_fake_train.shape[0] // batch_size\n",
        "\n",
        "    # BUILD MODEL\n",
        "    K.clear_session()\n",
        "    tf.tpu.experimental.initialize_tpu_system(tpu)\n",
        "    with strategy.scope():\n",
        "        transformer_layer = TFAutoModel.from_pretrained(models[0])\n",
        "        model = build_model(transformer_layer, max_len=max_len)\n",
        "    \n",
        "    #early_stopping = tf.keras.callbacks.EarlyStopping(monitor='val_loss', min_delta=0, patience=2, verbose=0, mode='auto', baseline=None, restore_best_weights=False)\n",
        "        \n",
        "    sv = tf.keras.callbacks.ModelCheckpoint(\n",
        "        'fold-%i.h5'%fold, monitor='val_f1_score', verbose=0, save_best_only=True,\n",
        "        save_weights_only=True, mode='max', save_freq='epoch')\n",
        "    cb_lr_schedule = tf.keras.callbacks.ReduceLROnPlateau(\n",
        "        monitor = 'val_f1_score', factor = 0.1, patience = 2, verbose = 2, min_delta = 0.0001, mode = 'max')\n",
        "    \n",
        "    train_history = model.fit(\n",
        "    train_dataset,\n",
        "    steps_per_epoch=n_steps,\n",
        "    callbacks = [cb_lr_schedule,sv,lr_warm_up],\n",
        "    validation_data= valid_dataset, epochs=epochs)\n",
        "    \n",
        "    \n",
        "    print('Loading best model...')\n",
        "    model.load_weights('fold-%i.h5'%fold)\n",
        "\n",
        "    fake_train1_list = fake_train1['tweet'].tolist()\n",
        "    fake_test_list = fake_test['tweet'].tolist()\n",
        "\n",
        "    print(\"Type of fake_train1_list: \", type(fake_train1_list))\n",
        "    print(\"Type of fake_test_list: \", type(fake_test_list))\n",
        "    \n",
        "        \n",
        "    x_full_train = regular_encode(fake_train1_list, tokenizer, maxlen=max_len)\n",
        "    \n",
        "    \n",
        "    weights.append(model.evaluate(valid_dataset)[2])\n",
        "    x_fake_test = regular_encode(fake_test_list,tokenizer,maxlen=max_len)\n",
        "    preds.append(model.predict(x_fake_test))\n",
        "    \n",
        "    \n",
        "    if display_plot:\n",
        "        plt.figure(figsize=(15,5))\n",
        "        plt.plot(np.arange(epochs),train_history.history['f1_score'],'-o',label='Train F1 Score',color='#ff7f0e')\n",
        "        plt.plot(np.arange(epochs),train_history.history['val_f1_score'],'-o',label='Val F1 Score',color='#1f77b4')\n",
        "        x = np.argmax( train_history.history['val_f1_score'] ); y = np.max( train_history.history['val_f1_score'] )\n",
        "        xdist = plt.xlim()[1] - plt.xlim()[0]; ydist = plt.ylim()[1] - plt.ylim()[0]\n",
        "        plt.scatter(x,y,s=200,color='#1f77b4'); plt.text(x-0.03*xdist,y-0.13*ydist,'max score\\n%.2f'%y,size=14)\n",
        "        plt.ylabel('F1 Score',size=14); plt.xlabel('Epoch',size=14)\n",
        "        plt.legend(loc=2)\n",
        "        plt2 = plt.gca().twinx()\n",
        "        plt2.plot(np.arange(epochs),train_history.history['loss'],'-o',label='Train Loss',color='#2ca02c')\n",
        "        plt2.plot(np.arange(epochs),train_history.history['val_loss'],'-o',label='Val Loss',color='#d62728')\n",
        "        x = np.argmin( train_history.history['val_loss'] ); y = np.min( train_history.history['val_loss'] )\n",
        "        ydist = plt.ylim()[1] - plt.ylim()[0]\n",
        "        plt.scatter(x,y,s=200,color='#d62728'); plt.text(x-0.03*xdist,y+0.05*ydist,'min loss',size=14)\n",
        "        plt.ylabel('Loss',size=14)\n",
        "        plt.title('FOLD %i'%(fold+1),size=18)\n",
        "        plt.legend(loc=3)\n",
        "        plt.show()  \n",
        "        \n",
        "    del model"
      ]
    },
    {
      "cell_type": "code",
      "execution_count": 51,
      "metadata": {
        "id": "24Gc8rRMVeIu"
      },
      "outputs": [],
      "source": [
        "def weight_ensemble(weights,predictions):\n",
        "    weight_sum = np.sum(weights)  \n",
        "    prediction_sum = 0\n",
        "    for i in range(len(weights)):\n",
        "        prediction_sum += (weights[i]/weight_sum)*predictions[i]\n",
        "    print(prediction_sum)\n",
        "    np.savez('model_predict_weight',prediction_sum)\n",
        "    result = np.argmax(prediction_sum,axis=1)\n",
        "    return result"
      ]
    },
    {
      "cell_type": "code",
      "execution_count": 52,
      "metadata": {
        "id": "sXzyZFhKVeIv"
      },
      "outputs": [],
      "source": [
        "def mean_ensemble(predictions):\n",
        "    result = np.argmax(np.mean(predictions,axis=0),axis=1)\n",
        "    np.savez('model_predict_mean',np.mean(predictions,axis=0))\n",
        "    return result"
      ]
    },
    {
      "cell_type": "code",
      "execution_count": 53,
      "metadata": {
        "colab": {
          "base_uri": "https://localhost:8080/"
        },
        "id": "KB4BRbCSVeIv",
        "outputId": "5224fc18-5efb-48bb-8bce-fd6ca57d734f"
      },
      "outputs": [
        {
          "output_type": "stream",
          "name": "stdout",
          "text": [
            "[[0.00311834 0.9968817 ]\n",
            " [0.99643344 0.00356661]\n",
            " [0.99530596 0.00469408]\n",
            " ...\n",
            " [0.00302168 0.9969783 ]\n",
            " [0.00453543 0.99546456]\n",
            " [0.0123081  0.9876919 ]]\n"
          ]
        }
      ],
      "source": [
        "weight_result= weight_ensemble(weights,preds)"
      ]
    },
    {
      "cell_type": "code",
      "execution_count": 54,
      "metadata": {
        "id": "6rMHbupLVeIv"
      },
      "outputs": [],
      "source": [
        "data1 = np.load('./model_predict_weight.npz')"
      ]
    },
    {
      "cell_type": "code",
      "execution_count": 55,
      "metadata": {
        "id": "DEgkXZYwVeIv",
        "colab": {
          "base_uri": "https://localhost:8080/"
        },
        "outputId": "f1637130-02f3-427e-9bce-091c09e27f27"
      },
      "outputs": [
        {
          "output_type": "execute_result",
          "data": {
            "text/plain": [
              "0.48302547882376606"
            ]
          },
          "metadata": {},
          "execution_count": 55
        }
      ],
      "source": [
        "mean_result = mean_ensemble(preds)\n",
        "f1_Score= f1_score(np.array(fake_valid1.label,dtype='int32'),mean_result,average='weighted')\n",
        "f1_Score"
      ]
    },
    {
      "cell_type": "code",
      "execution_count": 56,
      "metadata": {
        "id": "w5LB2TOIVeIv",
        "colab": {
          "base_uri": "https://localhost:8080/"
        },
        "outputId": "5f88e506-a608-4673-dc21-4b78e4aec09b"
      },
      "outputs": [
        {
          "output_type": "execute_result",
          "data": {
            "text/plain": [
              "0.4821450597602362"
            ]
          },
          "metadata": {},
          "execution_count": 56
        }
      ],
      "source": [
        "result = np.argmax(preds[4],axis=1)\n",
        "f1_score(np.array(fake_valid1.label,dtype='int32'),result,average='weighted')"
      ]
    },
    {
      "cell_type": "code",
      "execution_count": 57,
      "metadata": {
        "id": "iDhC0E8OVeIv"
      },
      "outputs": [],
      "source": [
        "def make_submission(result):\n",
        "    submission = pd.DataFrame(columns=['id','label'])\n",
        "    submission.label = result\n",
        "    nlist = range(1,result.shape[0]+1)\n",
        "    submission.id = nlist\n",
        "    submission.to_csv('answer.txt', index=False)"
      ]
    },
    {
      "cell_type": "code",
      "execution_count": 58,
      "metadata": {
        "id": "rZHqVOK7VeIv"
      },
      "outputs": [],
      "source": [
        "make_submission(weight_result)"
      ]
    },
    {
      "cell_type": "code",
      "source": [
        "make_submission(mean_result)"
      ],
      "metadata": {
        "id": "Oz-eH-mmHjmY"
      },
      "execution_count": 59,
      "outputs": []
    },
    {
      "cell_type": "code",
      "execution_count": 60,
      "metadata": {
        "colab": {
          "base_uri": "https://localhost:8080/"
        },
        "id": "jOp9NFvvVeIv",
        "outputId": "3dba8b9d-4428-4d03-eb35-24c92ba3f501"
      },
      "outputs": [
        {
          "output_type": "execute_result",
          "data": {
            "text/plain": [
              "6"
            ]
          },
          "metadata": {},
          "execution_count": 60
        }
      ],
      "source": [
        "x"
      ]
    },
    {
      "cell_type": "code",
      "execution_count": 61,
      "metadata": {
        "id": "kd2jOeQ7VeIy"
      },
      "outputs": [],
      "source": [
        "submission = pd.DataFrame(columns=['id','label'])\n",
        "submission.label = weight_result\n",
        "nlist = range(1,weight_result.shape[0]+1)\n",
        "submission.id = nlist\n",
        "submission.to_csv('answer.txt', index=False)"
      ]
    },
    {
      "cell_type": "code",
      "execution_count": 69,
      "metadata": {
        "colab": {
          "base_uri": "https://localhost:8080/"
        },
        "id": "z0e3GyAPVeIy",
        "outputId": "35f97eb4-6a24-4db2-bdda-0473e00fb488"
      },
      "outputs": [
        {
          "output_type": "stream",
          "name": "stderr",
          "text": [
            "Truncation was not explicitly activated but `max_length` is provided a specific value, please use `truncation=True` to explicitly truncate examples to max length. Defaulting to 'longest_first' truncation strategy. If you encode pairs of sequences (GLUE-style) with the tokenizer you can select this strategy more precisely by providing a specific strategy to `truncation`.\n",
            "/usr/local/lib/python3.7/dist-packages/transformers/tokenization_utils_base.py:2308: FutureWarning: The `pad_to_max_length` argument is deprecated and will be removed in a future version, use `padding=True` or `padding='longest'` to pad to the longest sequence in the batch, or use `padding='max_length'` to pad to a max length. In this case, you can give a specific length with `max_length` (e.g. `max_length=45`) or leave max_length to None to pad to the maximal input size of the model (e.g. 512 for Bert).\n",
            "  FutureWarning,\n",
            "Some layers from the model checkpoint at lordtt13/COVID-SciBERT were not used when initializing TFBertModel: ['mlm___cls']\n",
            "- This IS expected if you are initializing TFBertModel from the checkpoint of a model trained on another task or with another architecture (e.g. initializing a BertForSequenceClassification model from a BertForPreTraining model).\n",
            "- This IS NOT expected if you are initializing TFBertModel from the checkpoint of a model that you expect to be exactly identical (initializing a BertForSequenceClassification model from a BertForSequenceClassification model).\n",
            "All the layers of TFBertModel were initialized from the model checkpoint at lordtt13/COVID-SciBERT.\n",
            "If your task is similar to the task the model of the checkpoint was trained on, you can already use TFBertModel for predictions without further training.\n"
          ]
        },
        {
          "output_type": "stream",
          "name": "stdout",
          "text": [
            "Model: \"model_2\"\n",
            "_________________________________________________________________\n",
            " Layer (type)                Output Shape              Param #   \n",
            "=================================================================\n",
            " input_words_ids (InputLayer  [(None, 140)]            0         \n",
            " )                                                               \n",
            "                                                                 \n",
            " tf_bert_model_2 (TFBertMode  TFBaseModelOutputWithPoo  110572032\n",
            " l)                          lingAndCrossAttentions(l            \n",
            "                             ast_hidden_state=(None,             \n",
            "                             140, 768),                          \n",
            "                              pooler_output=(None, 76            \n",
            "                             8),                                 \n",
            "                              past_key_values=None, h            \n",
            "                             idden_states=None, atten            \n",
            "                             tions=None, cross_attent            \n",
            "                             ions=None)                          \n",
            "                                                                 \n",
            " tf.__operators__.getitem_2   (None, 768)              0         \n",
            " (SlicingOpLambda)                                               \n",
            "                                                                 \n",
            " dense_2 (Dense)             (None, 2)                 1538      \n",
            "                                                                 \n",
            "=================================================================\n",
            "Total params: 110,573,570\n",
            "Trainable params: 110,573,570\n",
            "Non-trainable params: 0\n",
            "_________________________________________________________________\n"
          ]
        },
        {
          "output_type": "stream",
          "name": "stderr",
          "text": [
            "/usr/local/lib/python3.7/dist-packages/keras/optimizer_v2/adam.py:105: UserWarning: The `lr` argument is deprecated, use `learning_rate` instead.\n",
            "  super(Adam, self).__init__(name, **kwargs)\n"
          ]
        },
        {
          "output_type": "stream",
          "name": "stdout",
          "text": [
            "\n",
            "Epoch 1: LearningRateScheduler setting learning rate to 1e-06.\n",
            "Epoch 1/10\n"
          ]
        },
        {
          "output_type": "stream",
          "name": "stderr",
          "text": [
            "WARNING:tensorflow:Gradients do not exist for variables ['tf_bert_model_2/bert/pooler/dense/kernel:0', 'tf_bert_model_2/bert/pooler/dense/bias:0'] when minimizing the loss. If you're using `model.compile()`, did you forget to provide a `loss`argument?\n",
            "WARNING:tensorflow:Gradients do not exist for variables ['tf_bert_model_2/bert/pooler/dense/kernel:0', 'tf_bert_model_2/bert/pooler/dense/bias:0'] when minimizing the loss. If you're using `model.compile()`, did you forget to provide a `loss`argument?\n"
          ]
        },
        {
          "output_type": "stream",
          "name": "stdout",
          "text": [
            "214/214 [==============================] - 143s 249ms/step - loss: 0.3991 - accuracy: 0.8216 - f1_score: 0.8210 - val_loss: 0.2744 - val_accuracy: 0.8879 - val_f1_score: 0.8869 - lr: 1.0000e-06\n",
            "\n",
            "Epoch 2: LearningRateScheduler setting learning rate to 9.166666666666668e-06.\n",
            "Epoch 2/10\n",
            "214/214 [==============================] - 26s 120ms/step - loss: 0.1573 - accuracy: 0.9488 - f1_score: 0.9488 - val_loss: 0.1318 - val_accuracy: 0.9636 - val_f1_score: 0.9635 - lr: 9.1667e-06\n",
            "\n",
            "Epoch 3: LearningRateScheduler setting learning rate to 1.7333333333333336e-05.\n",
            "Epoch 3/10\n",
            "214/214 [==============================] - 26s 121ms/step - loss: 0.1009 - accuracy: 0.9763 - f1_score: 0.9763 - val_loss: 0.0580 - val_accuracy: 0.9902 - val_f1_score: 0.9902 - lr: 1.7333e-05\n",
            "\n",
            "Epoch 4: LearningRateScheduler setting learning rate to 2.5500000000000003e-05.\n",
            "Epoch 4/10\n",
            "214/214 [==============================] - 26s 121ms/step - loss: 0.0729 - accuracy: 0.9863 - f1_score: 0.9863 - val_loss: 0.0544 - val_accuracy: 0.9925 - val_f1_score: 0.9925 - lr: 2.5500e-05\n",
            "\n",
            "Epoch 5: LearningRateScheduler setting learning rate to 3.366666666666667e-05.\n",
            "Epoch 5/10\n",
            "214/214 [==============================] - 26s 121ms/step - loss: 0.0573 - accuracy: 0.9916 - f1_score: 0.9916 - val_loss: 0.0466 - val_accuracy: 0.9953 - val_f1_score: 0.9953 - lr: 3.3667e-05\n",
            "\n",
            "Epoch 6: LearningRateScheduler setting learning rate to 4.183333333333334e-05.\n",
            "Epoch 6/10\n",
            "214/214 [==============================] - 26s 121ms/step - loss: 0.0627 - accuracy: 0.9893 - f1_score: 0.9893 - val_loss: 0.0362 - val_accuracy: 1.0000 - val_f1_score: 1.0000 - lr: 4.1833e-05\n",
            "\n",
            "Epoch 7: LearningRateScheduler setting learning rate to 5e-05.\n",
            "Epoch 7/10\n",
            "214/214 [==============================] - 24s 110ms/step - loss: 0.0517 - accuracy: 0.9929 - f1_score: 0.9929 - val_loss: 0.0438 - val_accuracy: 0.9949 - val_f1_score: 0.9949 - lr: 5.0000e-05\n",
            "\n",
            "Epoch 8: LearningRateScheduler setting learning rate to 2.0600000000000003e-05.\n",
            "Epoch 8/10\n",
            "214/214 [==============================] - 23s 110ms/step - loss: 0.0415 - accuracy: 0.9973 - f1_score: 0.9973 - val_loss: 0.0332 - val_accuracy: 0.9995 - val_f1_score: 0.9995 - lr: 2.0600e-05\n",
            "\n",
            "Epoch 9: LearningRateScheduler setting learning rate to 8.840000000000003e-06.\n",
            "Epoch 9/10\n",
            "214/214 [==============================] - ETA: 0s - loss: 0.0338 - accuracy: 0.9995 - f1_score: 0.9995\n",
            "Epoch 9: ReduceLROnPlateau reducing learning rate to 4.4200000957062e-06.\n",
            "214/214 [==============================] - 24s 110ms/step - loss: 0.0338 - accuracy: 0.9995 - f1_score: 0.9995 - val_loss: 0.0324 - val_accuracy: 1.0000 - val_f1_score: 1.0000 - lr: 4.4200e-06\n",
            "\n",
            "Epoch 10: LearningRateScheduler setting learning rate to 4.136000000000001e-06.\n",
            "Epoch 10/10\n",
            "214/214 [==============================] - 23s 109ms/step - loss: 0.0329 - accuracy: 0.9999 - f1_score: 0.9999 - val_loss: 0.0325 - val_accuracy: 0.9995 - val_f1_score: 0.9995 - lr: 4.1360e-06\n",
            "Loading best model...\n",
            "54/54 [==============================] - 3s 35ms/step - loss: 0.0362 - accuracy: 1.0000 - f1_score: 1.0000\n"
          ]
        }
      ],
      "source": [
        "\n",
        "MODEL = \"lordtt13/COVID-SciBERT\"\n",
        "tokenizer = AutoTokenizer.from_pretrained(MODEL)\n",
        "\n",
        "fake_valid_list = fake_valid['tweet'].tolist()\n",
        "\n",
        "x_fake_valid = regular_encode(fake_valid_list,tokenizer,maxlen=max_len)\n",
        "x_fake_train = regular_encode(fake_train1_list,tokenizer,maxlen=max_len)\n",
        "\n",
        "\n",
        "\n",
        "y_fake_train = to_categorical(fake_train1.label,2,dtype='int32')\n",
        "y_fake_valid = to_categorical(fake_valid1.label,2,dtype='int32')\n",
        "\n",
        "with strategy.scope():\n",
        "    transformer_layer = TFAutoModel.from_pretrained(MODEL)\n",
        "    model = build_model(transformer_layer, max_len=max_len)\n",
        "model.summary()\n",
        "n_steps = x_fake_train.shape[0] // batch_size\n",
        "\n",
        "train_dataset = get_train_dataset(x_fake_train,y_fake_train)\n",
        "valid_dataset = get_valid_dataset(x_fake_valid,y_fake_valid)\n",
        "cb_lr_schedule = tf.keras.callbacks.ReduceLROnPlateau(\n",
        "        monitor = 'val_f1_score', factor = 0.5, patience = 3, verbose = 1, min_delta = 0.0001, mode = 'max')\n",
        "sv = tf.keras.callbacks.ModelCheckpoint(\n",
        "        'best_model.h5', monitor='val_f1_score', verbose=0, save_best_only=True,\n",
        "        save_weights_only=True, mode='max', save_freq='epoch')\n",
        "train_history = model.fit(\n",
        "    train_dataset,\n",
        "    steps_per_epoch=n_steps,\n",
        "    callbacks = [cb_lr_schedule,lr_warm_up,sv],\n",
        "    validation_data= valid_dataset,\n",
        "    epochs=epochs\n",
        "    )\n",
        "print('Loading best model...')\n",
        "model.load_weights('best_model.h5')\n",
        "x_fake_test = regular_encode(fake_valid_list,tokenizer,maxlen=max_len)\n",
        "score = model.evaluate(valid_dataset)\n",
        "pred = model.predict(x_fake_test)\n",
        "np.savez('single-model',pred)"
      ]
    },
    {
      "cell_type": "code",
      "execution_count": 70,
      "metadata": {
        "colab": {
          "base_uri": "https://localhost:8080/"
        },
        "id": "y7y6Hf3QVeIy",
        "outputId": "b76e4b39-4c19-474c-c73d-063115db11a3"
      },
      "outputs": [
        {
          "output_type": "execute_result",
          "data": {
            "text/plain": [
              "1.0"
            ]
          },
          "metadata": {},
          "execution_count": 70
        }
      ],
      "source": [
        "f1_score(np.array(fake_valid1.label,dtype='int32'),np.argmax(pred,axis=1),average='weighted')"
      ]
    },
    {
      "cell_type": "code",
      "source": [
        "precision_score(np.array(fake_valid1.label,dtype='int32'),np.argmax(pred,axis=1),average='weighted') "
      ],
      "metadata": {
        "colab": {
          "base_uri": "https://localhost:8080/"
        },
        "id": "_CwowBWMdr0R",
        "outputId": "8709d599-5af2-4c6a-9ef4-537a41a49ed0"
      },
      "execution_count": 71,
      "outputs": [
        {
          "output_type": "execute_result",
          "data": {
            "text/plain": [
              "1.0"
            ]
          },
          "metadata": {},
          "execution_count": 71
        }
      ]
    },
    {
      "cell_type": "code",
      "source": [
        "recall_score(np.array(fake_valid1.label,dtype='int32'),np.argmax(pred,axis=1),average='weighted') "
      ],
      "metadata": {
        "colab": {
          "base_uri": "https://localhost:8080/"
        },
        "id": "9x40p1DLc4R1",
        "outputId": "4b8450b0-48ad-40fa-a55a-10890c1921b2"
      },
      "execution_count": 72,
      "outputs": [
        {
          "output_type": "execute_result",
          "data": {
            "text/plain": [
              "1.0"
            ]
          },
          "metadata": {},
          "execution_count": 72
        }
      ]
    },
    {
      "cell_type": "code",
      "source": [
        "accuracy_score(np.array(fake_valid1.label,dtype='int32'),np.argmax(pred,axis=1))"
      ],
      "metadata": {
        "colab": {
          "base_uri": "https://localhost:8080/"
        },
        "id": "2qiO7YPhdAIZ",
        "outputId": "450b1202-8208-49c7-d3b1-42c6c7ebf7c0"
      },
      "execution_count": 73,
      "outputs": [
        {
          "output_type": "execute_result",
          "data": {
            "text/plain": [
              "1.0"
            ]
          },
          "metadata": {},
          "execution_count": 73
        }
      ]
    },
    {
      "cell_type": "code",
      "source": [
        "print('Test set\\n  Loss: {:0.3f}\\n  Accuracy: {:0.3f}'.format(score[0],score[1]))"
      ],
      "metadata": {
        "colab": {
          "base_uri": "https://localhost:8080/"
        },
        "id": "RjKzVmephDkK",
        "outputId": "2a6afeee-445a-448d-f82e-6e7be1c05b54"
      },
      "execution_count": 74,
      "outputs": [
        {
          "output_type": "stream",
          "name": "stdout",
          "text": [
            "Test set\n",
            "  Loss: 0.036\n",
            "  Accuracy: 1.000\n"
          ]
        }
      ]
    },
    {
      "cell_type": "markdown",
      "source": [
        "# Helper Function to plot graphs"
      ],
      "metadata": {
        "id": "ykSZPdzGMPqI"
      }
    },
    {
      "cell_type": "code",
      "source": [
        "def plot_graphs(history, metric):\n",
        "  plt.plot(history.history[metric])\n",
        "  plt.plot(history.history['val_'+metric], '')\n",
        "  plt.xlabel(\"Epochs\")\n",
        "  plt.ylabel(metric)\n",
        "  plt.legend([metric, 'val_'+metric])"
      ],
      "metadata": {
        "id": "xVaoXyjbMN1B"
      },
      "execution_count": 76,
      "outputs": []
    },
    {
      "cell_type": "code",
      "source": [
        "plt.figure(figsize=(16, 8))\n",
        "plt.subplot(1, 2, 1)\n",
        "plot_graphs(train_history, 'accuracy')\n",
        "plt.ylim(None, 1)\n",
        "plt.subplot(1, 2, 2)\n",
        "plot_graphs(train_history, 'loss')\n",
        "plt.ylim(0, None)"
      ],
      "metadata": {
        "colab": {
          "base_uri": "https://localhost:8080/",
          "height": 518
        },
        "id": "C61kBeHmuRBq",
        "outputId": "a486fe24-125d-4363-8d36-2b8d24d8630e"
      },
      "execution_count": 77,
      "outputs": [
        {
          "output_type": "execute_result",
          "data": {
            "text/plain": [
              "(0.0, 0.4173861663788557)"
            ]
          },
          "metadata": {},
          "execution_count": 77
        },
        {
          "output_type": "display_data",
          "data": {
            "text/plain": [
              "<Figure size 1152x576 with 2 Axes>"
            ],
            "image/png": "[encoded data removed]"
          },
          "metadata": {
            "needs_background": "light"
          }
        }
      ]
    },
    {
      "cell_type": "code",
      "source": [
        "y_valid_label_list = fake_valid1.label.to_list()\n",
        "len(y_valid_label_list)"
      ],
      "metadata": {
        "colab": {
          "base_uri": "https://localhost:8080/"
        },
        "id": "o1VV6nLsSKAR",
        "outputId": "15de9080-d6bc-4bc5-aa26-1eb9873fa71c"
      },
      "execution_count": 105,
      "outputs": [
        {
          "output_type": "execute_result",
          "data": {
            "text/plain": [
              "2140"
            ]
          },
          "metadata": {},
          "execution_count": 105
        }
      ]
    },
    {
      "cell_type": "markdown",
      "source": [
        "# Classification report"
      ],
      "metadata": {
        "id": "flu0h5aJmGje"
      }
    },
    {
      "cell_type": "code",
      "source": [
        "print(classification_report(y_valid_label_list, np.argmax(pred,axis=1), labels=[0,1]))"
      ],
      "metadata": {
        "colab": {
          "base_uri": "https://localhost:8080/"
        },
        "id": "tMboBMUSMWgy",
        "outputId": "43254271-9366-4493-8db9-37a0e642724b"
      },
      "execution_count": 106,
      "outputs": [
        {
          "output_type": "stream",
          "name": "stdout",
          "text": [
            "              precision    recall  f1-score   support\n",
            "\n",
            "           0       1.00      1.00      1.00      1020\n",
            "           1       1.00      1.00      1.00      1120\n",
            "\n",
            "    accuracy                           1.00      2140\n",
            "   macro avg       1.00      1.00      1.00      2140\n",
            "weighted avg       1.00      1.00      1.00      2140\n",
            "\n"
          ]
        }
      ]
    },
    {
      "cell_type": "markdown",
      "source": [
        "#Confusion Matrix chart"
      ],
      "metadata": {
        "id": "H_abdMBFmAfK"
      }
    },
    {
      "cell_type": "code",
      "source": [
        "import seaborn as sns"
      ],
      "metadata": {
        "id": "6TvPrtsHh1Z7"
      },
      "execution_count": 108,
      "outputs": []
    },
    {
      "cell_type": "code",
      "source": [
        "conf_mat = confusion_matrix(y_valid_label_list, np.argmax(pred,axis=1), labels=[0,1])\n",
        "sns.heatmap(conf_mat, annot=True)"
      ],
      "metadata": {
        "colab": {
          "base_uri": "https://localhost:8080/",
          "height": 282
        },
        "id": "qlhPX_zUXngk",
        "outputId": "742071f2-1788-4232-f9e6-12ffb615fd44"
      },
      "execution_count": 109,
      "outputs": [
        {
          "output_type": "execute_result",
          "data": {
            "text/plain": [
              "<matplotlib.axes._subplots.AxesSubplot at 0x7fcfaabe96d0>"
            ]
          },
          "metadata": {},
          "execution_count": 109
        },
        {
          "output_type": "display_data",
          "data": {
            "text/plain": [
              "<Figure size 432x288 with 2 Axes>"
            ],
            "image/png": "[encoded data removed]"
          },
          "metadata": {
            "needs_background": "light"
          }
        }
      ]
    },
    {
      "cell_type": "markdown",
      "source": [
        "#Result prediction by the model for the given input from fake_test file"
      ],
      "metadata": {
        "id": "IJbZV-Oql0Bz"
      }
    },
    {
      "cell_type": "code",
      "source": [
        "new_text = fake_test['tweet'][0]\n",
        "fake_test_list = [new_text]\n",
        "x_fake_test_pred = regular_encode(fake_test_list,tokenizer,maxlen=max_len)\n",
        "\n",
        "new_pred = model.predict(x_fake_test_pred)\n",
        "labels = ['fake', 'real']"
      ],
      "metadata": {
        "colab": {
          "base_uri": "https://localhost:8080/"
        },
        "id": "Vt1w_ntfh_Qp",
        "outputId": "870d8995-b8bb-4480-917b-cf627c116895"
      },
      "execution_count": 118,
      "outputs": [
        {
          "output_type": "stream",
          "name": "stderr",
          "text": [
            "/usr/local/lib/python3.7/dist-packages/transformers/tokenization_utils_base.py:2308: FutureWarning: The `pad_to_max_length` argument is deprecated and will be removed in a future version, use `padding=True` or `padding='longest'` to pad to the longest sequence in the batch, or use `padding='max_length'` to pad to a max length. In this case, you can give a specific length with `max_length` (e.g. `max_length=45`) or leave max_length to None to pad to the maximal input size of the model (e.g. 512 for Bert).\n",
            "  FutureWarning,\n"
          ]
        }
      ]
    },
    {
      "cell_type": "code",
      "source": [
        "print(new_pred)\n",
        "print(np.argmax(new_pred))\n",
        "print(labels[np.argmax(new_pred)])"
      ],
      "metadata": {
        "colab": {
          "base_uri": "https://localhost:8080/"
        },
        "id": "8j4G5p_6i3K5",
        "outputId": "ca2dcb8c-f64f-464e-f5b8-ab71586d645a"
      },
      "execution_count": 119,
      "outputs": [
        {
          "output_type": "stream",
          "name": "stdout",
          "text": [
            "[[0.00369031 0.9963097 ]]\n",
            "1\n",
            "real\n"
          ]
        }
      ]
    },
    {
      "cell_type": "code",
      "source": [
        "print(new_text)"
      ],
      "metadata": {
        "colab": {
          "base_uri": "https://localhost:8080/"
        },
        "id": "8aDeJqpvjvHW",
        "outputId": "bbdea7f8-7283-40a6-a24e-bbb9447a726f"
      },
      "execution_count": 120,
      "outputs": [
        {
          "output_type": "stream",
          "name": "stdout",
          "text": [
            "Our daily update is published. States reported 734k tests 39k new cases and 532 deaths. Current hospitalizations fell below 30k for the first time since June 22. https://t.co/wzSYMe0Sht\n"
          ]
        }
      ]
    },
    {
      "cell_type": "markdown",
      "source": [
        "#Result prediction by the model for the input from fake_external2 file"
      ],
      "metadata": {
        "id": "I5uiO1kTlprj"
      }
    },
    {
      "cell_type": "code",
      "source": [
        "new_text1 = fake_external2['tweet'][8]\n",
        "fake_test_list1 = [new_text1]\n",
        "x_fake_test_pred1 = regular_encode(fake_test_list1,tokenizer,maxlen=max_len)\n",
        "\n",
        "new_pred1 = model.predict(x_fake_test_pred1)\n",
        "labels = ['fake', 'real']"
      ],
      "metadata": {
        "id": "m37Qky-Sjw4r"
      },
      "execution_count": 121,
      "outputs": []
    },
    {
      "cell_type": "code",
      "source": [
        "print(new_pred1)\n",
        "print(np.argmax(new_pred1))\n",
        "print(labels[np.argmax(new_pred1)])"
      ],
      "metadata": {
        "colab": {
          "base_uri": "https://localhost:8080/"
        },
        "id": "2w61TIjGk99s",
        "outputId": "277cbd48-9993-4c78-a1b9-f1a115be3a18"
      },
      "execution_count": 122,
      "outputs": [
        {
          "output_type": "stream",
          "name": "stdout",
          "text": [
            "[[0.9970049  0.00299502]]\n",
            "0\n",
            "fake\n"
          ]
        }
      ]
    },
    {
      "cell_type": "code",
      "source": [
        "print(new_text1)"
      ],
      "metadata": {
        "colab": {
          "base_uri": "https://localhost:8080/"
        },
        "id": "ajrCXb_jlCjs",
        "outputId": "fcb9eebf-2d33-4a21-f86f-4e581a0c4514"
      },
      "execution_count": 123,
      "outputs": [
        {
          "output_type": "stream",
          "name": "stdout",
          "text": [
            "\"SARS-CoV-2 is just a mutated form of the common cold\"\n"
          ]
        }
      ]
    },
    {
      "cell_type": "code",
      "source": [
        "fake_external2.head()"
      ],
      "metadata": {
        "colab": {
          "base_uri": "https://localhost:8080/",
          "height": 206
        },
        "id": "a59qFJwTlF2_",
        "outputId": "28da96e3-0e87-4821-938f-e3bbf67a43f7"
      },
      "execution_count": 124,
      "outputs": [
        {
          "output_type": "execute_result",
          "data": {
            "text/plain": [
              "                                               tweet  label\n",
              "0  \"Spraying chlorine or alcohol on the skin kill...      0\n",
              "1   \"Only older adults and young people are at risk\"      0\n",
              "2                     \"Children cannot get COVID-19\"      0\n",
              "3                    \"COVID-19 is just like the flu\"      0\n",
              "4                      \"Everyone with COVID-19 dies\"      0"
            ],
            "text/html": [
              "\n",
              "  <div id=\"df-7f9b160c-21d0-420b-aa19-8f40c78e4136\">\n",
              "    <div class=\"colab-df-container\">\n",
              "      <div>\n",
              "<style scoped>\n",
              "    .dataframe tbody tr th:only-of-type {\n",
              "        vertical-align: middle;\n",
              "    }\n",
              "\n",
              "    .dataframe tbody tr th {\n",
              "        vertical-align: top;\n",
              "    }\n",
              "\n",
              "    .dataframe thead th {\n",
              "        text-align: right;\n",
              "    }\n",
              "</style>\n",
              "<table border=\"1\" class=\"dataframe\">\n",
              "  <thead>\n",
              "    <tr style=\"text-align: right;\">\n",
              "      <th></th>\n",
              "      <th>tweet</th>\n",
              "      <th>label</th>\n",
              "    </tr>\n",
              "  </thead>\n",
              "  <tbody>\n",
              "    <tr>\n",
              "      <th>0</th>\n",
              "      <td>\"Spraying chlorine or alcohol on the skin kill...</td>\n",
              "      <td>0</td>\n",
              "    </tr>\n",
              "    <tr>\n",
              "      <th>1</th>\n",
              "      <td>\"Only older adults and young people are at risk\"</td>\n",
              "      <td>0</td>\n",
              "    </tr>\n",
              "    <tr>\n",
              "      <th>2</th>\n",
              "      <td>\"Children cannot get COVID-19\"</td>\n",
              "      <td>0</td>\n",
              "    </tr>\n",
              "    <tr>\n",
              "      <th>3</th>\n",
              "      <td>\"COVID-19 is just like the flu\"</td>\n",
              "      <td>0</td>\n",
              "    </tr>\n",
              "    <tr>\n",
              "      <th>4</th>\n",
              "      <td>\"Everyone with COVID-19 dies\"</td>\n",
              "      <td>0</td>\n",
              "    </tr>\n",
              "  </tbody>\n",
              "</table>\n",
              "</div>\n",
              "      <button class=\"colab-df-convert\" onclick=\"convertToInteractive('df-7f9b160c-21d0-420b-aa19-8f40c78e4136')\"\n",
              "              title=\"Convert this dataframe to an interactive table.\"\n",
              "              style=\"display:none;\">\n",
              "        \n",
              "  <svg xmlns=\"http://www.w3.org/2000/svg\" height=\"24px\"viewBox=\"0 0 24 24\"\n",
              "       width=\"24px\">\n",
              "    <path d=\"M0 0h24v24H0V0z\" fill=\"none\"/>\n",
              "    <path d=\"M18.56 5.44l.94 2.06.94-2.06 2.06-.94-2.06-.94-.94-2.06-.94 2.06-2.06.94zm-11 1L8.5 8.5l.94-2.06 2.06-.94-2.06-.94L8.5 2.5l-.94 2.06-2.06.94zm10 10l.94 2.06.94-2.06 2.06-.94-2.06-.94-.94-2.06-.94 2.06-2.06.94z\"/><path d=\"M17.41 7.96l-1.37-1.37c-.4-.4-.92-.59-1.43-.59-.52 0-1.04.2-1.43.59L10.3 9.45l-7.72 7.72c-.78.78-.78 2.05 0 2.83L4 21.41c.39.39.9.59 1.41.59.51 0 1.02-.2 1.41-.59l7.78-7.78 2.81-2.81c.8-.78.8-2.07 0-2.86zM5.41 20L4 18.59l7.72-7.72 1.47 1.35L5.41 20z\"/>\n",
              "  </svg>\n",
              "      </button>\n",
              "      \n",
              "  <style>\n",
              "    .colab-df-container {\n",
              "      display:flex;\n",
              "      flex-wrap:wrap;\n",
              "      gap: 12px;\n",
              "    }\n",
              "\n",
              "    .colab-df-convert {\n",
              "      background-color: #E8F0FE;\n",
              "      border: none;\n",
              "      border-radius: 50%;\n",
              "      cursor: pointer;\n",
              "      display: none;\n",
              "      fill: #1967D2;\n",
              "      height: 32px;\n",
              "      padding: 0 0 0 0;\n",
              "      width: 32px;\n",
              "    }\n",
              "\n",
              "    .colab-df-convert:hover {\n",
              "      background-color: #E2EBFA;\n",
              "      box-shadow: 0px 1px 2px rgba(60, 64, 67, 0.3), 0px 1px 3px 1px rgba(60, 64, 67, 0.15);\n",
              "      fill: #174EA6;\n",
              "    }\n",
              "\n",
              "    [theme=dark] .colab-df-convert {\n",
              "      background-color: #3B4455;\n",
              "      fill: #D2E3FC;\n",
              "    }\n",
              "\n",
              "    [theme=dark] .colab-df-convert:hover {\n",
              "      background-color: #434B5C;\n",
              "      box-shadow: 0px 1px 3px 1px rgba(0, 0, 0, 0.15);\n",
              "      filter: drop-shadow(0px 1px 2px rgba(0, 0, 0, 0.3));\n",
              "      fill: #FFFFFF;\n",
              "    }\n",
              "  </style>\n",
              "\n",
              "      <script>\n",
              "        const buttonEl =\n",
              "          document.querySelector('#df-7f9b160c-21d0-420b-aa19-8f40c78e4136 button.colab-df-convert');\n",
              "        buttonEl.style.display =\n",
              "          google.colab.kernel.accessAllowed ? 'block' : 'none';\n",
              "\n",
              "        async function convertToInteractive(key) {\n",
              "          const element = document.querySelector('#df-7f9b160c-21d0-420b-aa19-8f40c78e4136');\n",
              "          const dataTable =\n",
              "            await google.colab.kernel.invokeFunction('convertToInteractive',\n",
              "                                                     [key], {});\n",
              "          if (!dataTable) return;\n",
              "\n",
              "          const docLinkHtml = 'Like what you see? Visit the ' +\n",
              "            '<a target=\"_blank\" href=https://colab.research.google.com/notebooks/data_table.ipynb>data table notebook</a>'\n",
              "            + ' to learn more about interactive tables.';\n",
              "          element.innerHTML = '';\n",
              "          dataTable['output_type'] = 'display_data';\n",
              "          await google.colab.output.renderOutput(dataTable, element);\n",
              "          const docLink = document.createElement('div');\n",
              "          docLink.innerHTML = docLinkHtml;\n",
              "          element.appendChild(docLink);\n",
              "        }\n",
              "      </script>\n",
              "    </div>\n",
              "  </div>\n",
              "  "
            ]
          },
          "metadata": {},
          "execution_count": 124
        }
      ]
    },
    {
      "cell_type": "markdown",
      "source": [
        "# The above two results has been predicted correctly by the model from two different input source files"
      ],
      "metadata": {
        "id": "ta4mgmIKlc9p"
      }
    }
  ],
  "metadata": {
    "accelerator": "TPU",
    "colab": {
      "background_execution": "on",
      "collapsed_sections": [
        "IiUcD-FYVeIu"
      ],
      "machine_shape": "hm",
      "provenance": [],
      "include_colab_link": true
    },
    "gpuClass": "standard",
    "kernelspec": {
      "display_name": "Python 3",
      "language": "python",
      "name": "python3"
    },
    "language_info": {
      "codemirror_mode": {
        "name": "ipython",
        "version": 3
      },
      "file_extension": ".py",
      "mimetype": "text/x-python",
      "name": "python",
      "nbconvert_exporter": "python",
      "pygments_lexer": "ipython3",
      "version": "3.7.6"
    },
    "papermill": {
      "duration": 3571.600563,
      "end_time": "2020-12-22T06:19:47.944257",
      "environment_variables": {},
      "exception": null,
      "input_path": "__notebook__.ipynb",
      "output_path": "__notebook__.ipynb",
      "parameters": {},
      "start_time": "2020-12-22T05:20:16.343694",
      "version": "2.1.0"
    }
  },
  "nbformat": 4,
  "nbformat_minor": 0
}