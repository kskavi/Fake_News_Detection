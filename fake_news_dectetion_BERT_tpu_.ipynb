{
  "cells": [
    {
      "cell_type": "markdown",
      "metadata": {
        "id": "view-in-github",
        "colab_type": "text"
      },
      "source": [
        "<a href=\"https://colab.research.google.com/github/sreebalajisree/Fake_News_Detection/blob/main/fake_news_dectetion_BERT_tpu_.ipynb\" target=\"_parent\"><img src=\"https://colab.research.google.com/assets/colab-badge.svg\" alt=\"Open In Colab\"/></a>"
      ]
    },
    {
      "cell_type": "markdown",
      "metadata": {
        "id": "m9I5Gjr1VeIi"
      },
      "source": [
        "## About this notebook\n"
      ]
    },
    {
      "cell_type": "markdown",
      "metadata": {
        "id": "nJg0-4fFVeIl"
      },
      "source": [
        "Other things to try:\n",
        "\n",
        "Five-fold cross-mean fusion base 0.97709\n",
        "\n",
        "Single Fold base 0.974\n",
        "\n",
        "Five-fold cross-validation, weight fusion 0.9789\n",
        "\n",
        "In-domain data further pre-training\n",
        "\n",
        "1. Add Chinese dataset with xlm-bert\n",
        "\n",
        "2. Fine-tune warm_up 0.9794\n",
        "\n",
        "4. dropout 0.9706\n",
        "\n",
        "3. Utilize pseudo-tags\n",
        "\n",
        "4. Label smoothing 0.9790\n",
        "\n",
        "5: Add Indian language data\n",
        "\n",
        "6: Five-fold cross-validation, average fusion 0.9814\n",
        "\n",
        "7: Five-fold cross-validation, weight fusion 0.9789\n",
        "\n",
        "8: single fold, average fusion\n",
        "\n",
        "9: single fold, weight fusion, 10: length 130 0.978, 192 0.976\n",
        "\n"
      ]
    },
    {
      "cell_type": "markdown",
      "metadata": {
        "id": "gs9ilDhmVeIm"
      },
      "source": [
        "5-fold cross-validation base\n",
        "\n",
        "single fold base\n",
        "\n"
      ]
    },
    {
      "cell_type": "code",
      "execution_count": 81,
      "metadata": {
        "id": "DuA5HibmVw1s"
      },
      "outputs": [],
      "source": [
        "#!pip install tensorflow-addons"
      ]
    },
    {
      "cell_type": "code",
      "execution_count": 82,
      "metadata": {
        "id": "_S_780H0WGDc"
      },
      "outputs": [],
      "source": [
        "#!pip install transformers"
      ]
    },
    {
      "cell_type": "code",
      "execution_count": 83,
      "metadata": {
        "id": "bhie32NuVeIm"
      },
      "outputs": [],
      "source": [
        "import os\n",
        "import numpy as np \n",
        "import tensorflow_addons as tfa\n",
        "from tensorflow_addons.optimizers import AdamW\n",
        "import pandas as pd\n",
        "import tensorflow as tf\n",
        "from tensorflow.keras.layers import Dense, Input,Dropout\n",
        "from tensorflow.keras.utils import to_categorical\n",
        "from tensorflow.keras.optimizers import Adam\n",
        "import copy\n",
        "import random\n",
        "import tensorflow.keras.backend as K\n",
        "from string import digits, punctuation\n",
        "import re\n",
        "from imblearn.under_sampling import RandomUnderSampler\n",
        "from tensorflow.keras.models import Model\n",
        "from tensorflow.keras.callbacks import ModelCheckpoint\n",
        "from transformers import AutoModel\n",
        "import matplotlib.pyplot as plt\n",
        "#from kaggle_datasets import KaggleDatasets\n",
        "import transformers\n",
        "from transformers import BertTokenizer,BertModel,BertConfig,BertForPreTraining\n",
        "from sklearn.model_selection import KFold, train_test_split\n",
        "from sklearn.metrics import f1_score,confusion_matrix,precision_score,recall_score\n",
        "from transformers import TFAutoModel, AutoTokenizer\n",
        "from tqdm.notebook import tqdm\n",
        "from tokenizers import Tokenizer, models, pre_tokenizers, decoders, processors\n",
        "import pandas as pd\n",
        "from gensim.models.word2vec import Word2VecKeyedVectors\n",
        "AUTO = tf.data.experimental.AUTOTUNE"
      ]
    },
    {
      "cell_type": "code",
      "execution_count": 84,
      "metadata": {
        "colab": {
          "base_uri": "https://localhost:8080/",
          "height": 35
        },
        "id": "L7UvbfyYVeIo",
        "outputId": "3d11e485-faff-462b-c71d-b80b0c54b19a"
      },
      "outputs": [
        {
          "output_type": "execute_result",
          "data": {
            "text/plain": [
              "'4.22.0'"
            ],
            "application/vnd.google.colaboratory.intrinsic+json": {
              "type": "string"
            }
          },
          "metadata": {},
          "execution_count": 84
        }
      ],
      "source": [
        "transformers.__version__"
      ]
    },
    {
      "cell_type": "code",
      "execution_count": 85,
      "metadata": {
        "id": "Cr3w3OiQtyWz"
      },
      "outputs": [],
      "source": [
        "fake_train = pd.read_excel(\"/content/sample_data/data/Constraint_English_Train.xlsx\")\n",
        "fake_valid = pd.read_excel(\"/content/sample_data/data/Constraint_English_Val.xlsx\")\n",
        "fake_test = pd.read_excel(\"/content/sample_data/data/Constraint_English_Test_without_labels.xlsx\")\n",
        "fake_external1 = pd.read_excel(\"/content/sample_data/data/external_1.xlsx\")\n",
        "fake_external2 = pd.read_excel(\"/content/sample_data/data/external_2.xlsx\")\n",
        "df_pseudo = pd.read_csv(\"/content/sample_data/data/pseudo_submission.csv\")"
      ]
    },
    {
      "cell_type": "code",
      "execution_count": 86,
      "metadata": {
        "colab": {
          "base_uri": "https://localhost:8080/",
          "height": 206
        },
        "id": "pB1BBOJ6uQBz",
        "outputId": "cd534106-7b16-4d21-9c4b-5eb7ecca589d"
      },
      "outputs": [
        {
          "output_type": "execute_result",
          "data": {
            "text/plain": [
              "    id                                              tweet label\n",
              "0  1.0  The CDC currently reports 99031 deaths. In gen...  real\n",
              "1  2.0  States reported 1121 deaths a small rise from ...  real\n",
              "2  3.0  Politically Correct Woman (Almost) Uses Pandem...  fake\n",
              "3  4.0  #IndiaFightsCorona: We have 1524 #COVID testin...  real\n",
              "4  5.0  Populous states can generate large case counts...  real"
            ],
            "text/html": [
              "\n",
              "  <div id=\"df-a982dce3-eb74-4a47-aea2-cd305262ff84\">\n",
              "    <div class=\"colab-df-container\">\n",
              "      <div>\n",
              "<style scoped>\n",
              "    .dataframe tbody tr th:only-of-type {\n",
              "        vertical-align: middle;\n",
              "    }\n",
              "\n",
              "    .dataframe tbody tr th {\n",
              "        vertical-align: top;\n",
              "    }\n",
              "\n",
              "    .dataframe thead th {\n",
              "        text-align: right;\n",
              "    }\n",
              "</style>\n",
              "<table border=\"1\" class=\"dataframe\">\n",
              "  <thead>\n",
              "    <tr style=\"text-align: right;\">\n",
              "      <th></th>\n",
              "      <th>id</th>\n",
              "      <th>tweet</th>\n",
              "      <th>label</th>\n",
              "    </tr>\n",
              "  </thead>\n",
              "  <tbody>\n",
              "    <tr>\n",
              "      <th>0</th>\n",
              "      <td>1.0</td>\n",
              "      <td>The CDC currently reports 99031 deaths. In gen...</td>\n",
              "      <td>real</td>\n",
              "    </tr>\n",
              "    <tr>\n",
              "      <th>1</th>\n",
              "      <td>2.0</td>\n",
              "      <td>States reported 1121 deaths a small rise from ...</td>\n",
              "      <td>real</td>\n",
              "    </tr>\n",
              "    <tr>\n",
              "      <th>2</th>\n",
              "      <td>3.0</td>\n",
              "      <td>Politically Correct Woman (Almost) Uses Pandem...</td>\n",
              "      <td>fake</td>\n",
              "    </tr>\n",
              "    <tr>\n",
              "      <th>3</th>\n",
              "      <td>4.0</td>\n",
              "      <td>#IndiaFightsCorona: We have 1524 #COVID testin...</td>\n",
              "      <td>real</td>\n",
              "    </tr>\n",
              "    <tr>\n",
              "      <th>4</th>\n",
              "      <td>5.0</td>\n",
              "      <td>Populous states can generate large case counts...</td>\n",
              "      <td>real</td>\n",
              "    </tr>\n",
              "  </tbody>\n",
              "</table>\n",
              "</div>\n",
              "      <button class=\"colab-df-convert\" onclick=\"convertToInteractive('df-a982dce3-eb74-4a47-aea2-cd305262ff84')\"\n",
              "              title=\"Convert this dataframe to an interactive table.\"\n",
              "              style=\"display:none;\">\n",
              "        \n",
              "  <svg xmlns=\"http://www.w3.org/2000/svg\" height=\"24px\"viewBox=\"0 0 24 24\"\n",
              "       width=\"24px\">\n",
              "    <path d=\"M0 0h24v24H0V0z\" fill=\"none\"/>\n",
              "    <path d=\"M18.56 5.44l.94 2.06.94-2.06 2.06-.94-2.06-.94-.94-2.06-.94 2.06-2.06.94zm-11 1L8.5 8.5l.94-2.06 2.06-.94-2.06-.94L8.5 2.5l-.94 2.06-2.06.94zm10 10l.94 2.06.94-2.06 2.06-.94-2.06-.94-.94-2.06-.94 2.06-2.06.94z\"/><path d=\"M17.41 7.96l-1.37-1.37c-.4-.4-.92-.59-1.43-.59-.52 0-1.04.2-1.43.59L10.3 9.45l-7.72 7.72c-.78.78-.78 2.05 0 2.83L4 21.41c.39.39.9.59 1.41.59.51 0 1.02-.2 1.41-.59l7.78-7.78 2.81-2.81c.8-.78.8-2.07 0-2.86zM5.41 20L4 18.59l7.72-7.72 1.47 1.35L5.41 20z\"/>\n",
              "  </svg>\n",
              "      </button>\n",
              "      \n",
              "  <style>\n",
              "    .colab-df-container {\n",
              "      display:flex;\n",
              "      flex-wrap:wrap;\n",
              "      gap: 12px;\n",
              "    }\n",
              "\n",
              "    .colab-df-convert {\n",
              "      background-color: #E8F0FE;\n",
              "      border: none;\n",
              "      border-radius: 50%;\n",
              "      cursor: pointer;\n",
              "      display: none;\n",
              "      fill: #1967D2;\n",
              "      height: 32px;\n",
              "      padding: 0 0 0 0;\n",
              "      width: 32px;\n",
              "    }\n",
              "\n",
              "    .colab-df-convert:hover {\n",
              "      background-color: #E2EBFA;\n",
              "      box-shadow: 0px 1px 2px rgba(60, 64, 67, 0.3), 0px 1px 3px 1px rgba(60, 64, 67, 0.15);\n",
              "      fill: #174EA6;\n",
              "    }\n",
              "\n",
              "    [theme=dark] .colab-df-convert {\n",
              "      background-color: #3B4455;\n",
              "      fill: #D2E3FC;\n",
              "    }\n",
              "\n",
              "    [theme=dark] .colab-df-convert:hover {\n",
              "      background-color: #434B5C;\n",
              "      box-shadow: 0px 1px 3px 1px rgba(0, 0, 0, 0.15);\n",
              "      filter: drop-shadow(0px 1px 2px rgba(0, 0, 0, 0.3));\n",
              "      fill: #FFFFFF;\n",
              "    }\n",
              "  </style>\n",
              "\n",
              "      <script>\n",
              "        const buttonEl =\n",
              "          document.querySelector('#df-a982dce3-eb74-4a47-aea2-cd305262ff84 button.colab-df-convert');\n",
              "        buttonEl.style.display =\n",
              "          google.colab.kernel.accessAllowed ? 'block' : 'none';\n",
              "\n",
              "        async function convertToInteractive(key) {\n",
              "          const element = document.querySelector('#df-a982dce3-eb74-4a47-aea2-cd305262ff84');\n",
              "          const dataTable =\n",
              "            await google.colab.kernel.invokeFunction('convertToInteractive',\n",
              "                                                     [key], {});\n",
              "          if (!dataTable) return;\n",
              "\n",
              "          const docLinkHtml = 'Like what you see? Visit the ' +\n",
              "            '<a target=\"_blank\" href=https://colab.research.google.com/notebooks/data_table.ipynb>data table notebook</a>'\n",
              "            + ' to learn more about interactive tables.';\n",
              "          element.innerHTML = '';\n",
              "          dataTable['output_type'] = 'display_data';\n",
              "          await google.colab.output.renderOutput(dataTable, element);\n",
              "          const docLink = document.createElement('div');\n",
              "          docLink.innerHTML = docLinkHtml;\n",
              "          element.appendChild(docLink);\n",
              "        }\n",
              "      </script>\n",
              "    </div>\n",
              "  </div>\n",
              "  "
            ]
          },
          "metadata": {},
          "execution_count": 86
        }
      ],
      "source": [
        "fake_train.head()"
      ]
    },
    {
      "cell_type": "code",
      "execution_count": 87,
      "metadata": {
        "colab": {
          "base_uri": "https://localhost:8080/",
          "height": 206
        },
        "id": "E95JbgdBuQob",
        "outputId": "324c6c00-82c5-4b4a-d8cd-580ff43be3b4"
      },
      "outputs": [
        {
          "output_type": "execute_result",
          "data": {
            "text/plain": [
              "    id                                              tweet label\n",
              "0  1.0  Chinese converting to Islam after realising th...  fake\n",
              "1  2.0  11 out of 13 people (from the Diamond Princess...  fake\n",
              "2  3.0  COVID-19 Is Caused By A Bacterium, Not Virus A...  fake\n",
              "3  4.0  Mike Pence in RNC speech praises Donald Trump’...  fake\n",
              "4  5.0  6/10 Sky's @EdConwaySky explains the latest #C...  real"
            ],
            "text/html": [
              "\n",
              "  <div id=\"df-c78613a2-fc31-4e63-9c1f-bd4ac023a8c5\">\n",
              "    <div class=\"colab-df-container\">\n",
              "      <div>\n",
              "<style scoped>\n",
              "    .dataframe tbody tr th:only-of-type {\n",
              "        vertical-align: middle;\n",
              "    }\n",
              "\n",
              "    .dataframe tbody tr th {\n",
              "        vertical-align: top;\n",
              "    }\n",
              "\n",
              "    .dataframe thead th {\n",
              "        text-align: right;\n",
              "    }\n",
              "</style>\n",
              "<table border=\"1\" class=\"dataframe\">\n",
              "  <thead>\n",
              "    <tr style=\"text-align: right;\">\n",
              "      <th></th>\n",
              "      <th>id</th>\n",
              "      <th>tweet</th>\n",
              "      <th>label</th>\n",
              "    </tr>\n",
              "  </thead>\n",
              "  <tbody>\n",
              "    <tr>\n",
              "      <th>0</th>\n",
              "      <td>1.0</td>\n",
              "      <td>Chinese converting to Islam after realising th...</td>\n",
              "      <td>fake</td>\n",
              "    </tr>\n",
              "    <tr>\n",
              "      <th>1</th>\n",
              "      <td>2.0</td>\n",
              "      <td>11 out of 13 people (from the Diamond Princess...</td>\n",
              "      <td>fake</td>\n",
              "    </tr>\n",
              "    <tr>\n",
              "      <th>2</th>\n",
              "      <td>3.0</td>\n",
              "      <td>COVID-19 Is Caused By A Bacterium, Not Virus A...</td>\n",
              "      <td>fake</td>\n",
              "    </tr>\n",
              "    <tr>\n",
              "      <th>3</th>\n",
              "      <td>4.0</td>\n",
              "      <td>Mike Pence in RNC speech praises Donald Trump’...</td>\n",
              "      <td>fake</td>\n",
              "    </tr>\n",
              "    <tr>\n",
              "      <th>4</th>\n",
              "      <td>5.0</td>\n",
              "      <td>6/10 Sky's @EdConwaySky explains the latest #C...</td>\n",
              "      <td>real</td>\n",
              "    </tr>\n",
              "  </tbody>\n",
              "</table>\n",
              "</div>\n",
              "      <button class=\"colab-df-convert\" onclick=\"convertToInteractive('df-c78613a2-fc31-4e63-9c1f-bd4ac023a8c5')\"\n",
              "              title=\"Convert this dataframe to an interactive table.\"\n",
              "              style=\"display:none;\">\n",
              "        \n",
              "  <svg xmlns=\"http://www.w3.org/2000/svg\" height=\"24px\"viewBox=\"0 0 24 24\"\n",
              "       width=\"24px\">\n",
              "    <path d=\"M0 0h24v24H0V0z\" fill=\"none\"/>\n",
              "    <path d=\"M18.56 5.44l.94 2.06.94-2.06 2.06-.94-2.06-.94-.94-2.06-.94 2.06-2.06.94zm-11 1L8.5 8.5l.94-2.06 2.06-.94-2.06-.94L8.5 2.5l-.94 2.06-2.06.94zm10 10l.94 2.06.94-2.06 2.06-.94-2.06-.94-.94-2.06-.94 2.06-2.06.94z\"/><path d=\"M17.41 7.96l-1.37-1.37c-.4-.4-.92-.59-1.43-.59-.52 0-1.04.2-1.43.59L10.3 9.45l-7.72 7.72c-.78.78-.78 2.05 0 2.83L4 21.41c.39.39.9.59 1.41.59.51 0 1.02-.2 1.41-.59l7.78-7.78 2.81-2.81c.8-.78.8-2.07 0-2.86zM5.41 20L4 18.59l7.72-7.72 1.47 1.35L5.41 20z\"/>\n",
              "  </svg>\n",
              "      </button>\n",
              "      \n",
              "  <style>\n",
              "    .colab-df-container {\n",
              "      display:flex;\n",
              "      flex-wrap:wrap;\n",
              "      gap: 12px;\n",
              "    }\n",
              "\n",
              "    .colab-df-convert {\n",
              "      background-color: #E8F0FE;\n",
              "      border: none;\n",
              "      border-radius: 50%;\n",
              "      cursor: pointer;\n",
              "      display: none;\n",
              "      fill: #1967D2;\n",
              "      height: 32px;\n",
              "      padding: 0 0 0 0;\n",
              "      width: 32px;\n",
              "    }\n",
              "\n",
              "    .colab-df-convert:hover {\n",
              "      background-color: #E2EBFA;\n",
              "      box-shadow: 0px 1px 2px rgba(60, 64, 67, 0.3), 0px 1px 3px 1px rgba(60, 64, 67, 0.15);\n",
              "      fill: #174EA6;\n",
              "    }\n",
              "\n",
              "    [theme=dark] .colab-df-convert {\n",
              "      background-color: #3B4455;\n",
              "      fill: #D2E3FC;\n",
              "    }\n",
              "\n",
              "    [theme=dark] .colab-df-convert:hover {\n",
              "      background-color: #434B5C;\n",
              "      box-shadow: 0px 1px 3px 1px rgba(0, 0, 0, 0.15);\n",
              "      filter: drop-shadow(0px 1px 2px rgba(0, 0, 0, 0.3));\n",
              "      fill: #FFFFFF;\n",
              "    }\n",
              "  </style>\n",
              "\n",
              "      <script>\n",
              "        const buttonEl =\n",
              "          document.querySelector('#df-c78613a2-fc31-4e63-9c1f-bd4ac023a8c5 button.colab-df-convert');\n",
              "        buttonEl.style.display =\n",
              "          google.colab.kernel.accessAllowed ? 'block' : 'none';\n",
              "\n",
              "        async function convertToInteractive(key) {\n",
              "          const element = document.querySelector('#df-c78613a2-fc31-4e63-9c1f-bd4ac023a8c5');\n",
              "          const dataTable =\n",
              "            await google.colab.kernel.invokeFunction('convertToInteractive',\n",
              "                                                     [key], {});\n",
              "          if (!dataTable) return;\n",
              "\n",
              "          const docLinkHtml = 'Like what you see? Visit the ' +\n",
              "            '<a target=\"_blank\" href=https://colab.research.google.com/notebooks/data_table.ipynb>data table notebook</a>'\n",
              "            + ' to learn more about interactive tables.';\n",
              "          element.innerHTML = '';\n",
              "          dataTable['output_type'] = 'display_data';\n",
              "          await google.colab.output.renderOutput(dataTable, element);\n",
              "          const docLink = document.createElement('div');\n",
              "          docLink.innerHTML = docLinkHtml;\n",
              "          element.appendChild(docLink);\n",
              "        }\n",
              "      </script>\n",
              "    </div>\n",
              "  </div>\n",
              "  "
            ]
          },
          "metadata": {},
          "execution_count": 87
        }
      ],
      "source": [
        "fake_valid.head()"
      ]
    },
    {
      "cell_type": "code",
      "execution_count": 88,
      "metadata": {
        "colab": {
          "base_uri": "https://localhost:8080/",
          "height": 206
        },
        "id": "HzCscaCIuSNk",
        "outputId": "1863d8be-235a-46aa-bd0f-9a5e86b42da5"
      },
      "outputs": [
        {
          "output_type": "execute_result",
          "data": {
            "text/plain": [
              "    id                                              tweet\n",
              "0  1.0  Our daily update is published. States reported...\n",
              "1  2.0             Alfalfa is the only cure for COVID-19.\n",
              "2  3.0  President Trump Asked What He Would Do If He W...\n",
              "3  4.0  States reported 630 deaths. We are still seein...\n",
              "4  5.0  This is the sixth time a global health emergen..."
            ],
            "text/html": [
              "\n",
              "  <div id=\"df-2c444803-077b-464e-9e3b-8ac0a5b7c92c\">\n",
              "    <div class=\"colab-df-container\">\n",
              "      <div>\n",
              "<style scoped>\n",
              "    .dataframe tbody tr th:only-of-type {\n",
              "        vertical-align: middle;\n",
              "    }\n",
              "\n",
              "    .dataframe tbody tr th {\n",
              "        vertical-align: top;\n",
              "    }\n",
              "\n",
              "    .dataframe thead th {\n",
              "        text-align: right;\n",
              "    }\n",
              "</style>\n",
              "<table border=\"1\" class=\"dataframe\">\n",
              "  <thead>\n",
              "    <tr style=\"text-align: right;\">\n",
              "      <th></th>\n",
              "      <th>id</th>\n",
              "      <th>tweet</th>\n",
              "    </tr>\n",
              "  </thead>\n",
              "  <tbody>\n",
              "    <tr>\n",
              "      <th>0</th>\n",
              "      <td>1.0</td>\n",
              "      <td>Our daily update is published. States reported...</td>\n",
              "    </tr>\n",
              "    <tr>\n",
              "      <th>1</th>\n",
              "      <td>2.0</td>\n",
              "      <td>Alfalfa is the only cure for COVID-19.</td>\n",
              "    </tr>\n",
              "    <tr>\n",
              "      <th>2</th>\n",
              "      <td>3.0</td>\n",
              "      <td>President Trump Asked What He Would Do If He W...</td>\n",
              "    </tr>\n",
              "    <tr>\n",
              "      <th>3</th>\n",
              "      <td>4.0</td>\n",
              "      <td>States reported 630 deaths. We are still seein...</td>\n",
              "    </tr>\n",
              "    <tr>\n",
              "      <th>4</th>\n",
              "      <td>5.0</td>\n",
              "      <td>This is the sixth time a global health emergen...</td>\n",
              "    </tr>\n",
              "  </tbody>\n",
              "</table>\n",
              "</div>\n",
              "      <button class=\"colab-df-convert\" onclick=\"convertToInteractive('df-2c444803-077b-464e-9e3b-8ac0a5b7c92c')\"\n",
              "              title=\"Convert this dataframe to an interactive table.\"\n",
              "              style=\"display:none;\">\n",
              "        \n",
              "  <svg xmlns=\"http://www.w3.org/2000/svg\" height=\"24px\"viewBox=\"0 0 24 24\"\n",
              "       width=\"24px\">\n",
              "    <path d=\"M0 0h24v24H0V0z\" fill=\"none\"/>\n",
              "    <path d=\"M18.56 5.44l.94 2.06.94-2.06 2.06-.94-2.06-.94-.94-2.06-.94 2.06-2.06.94zm-11 1L8.5 8.5l.94-2.06 2.06-.94-2.06-.94L8.5 2.5l-.94 2.06-2.06.94zm10 10l.94 2.06.94-2.06 2.06-.94-2.06-.94-.94-2.06-.94 2.06-2.06.94z\"/><path d=\"M17.41 7.96l-1.37-1.37c-.4-.4-.92-.59-1.43-.59-.52 0-1.04.2-1.43.59L10.3 9.45l-7.72 7.72c-.78.78-.78 2.05 0 2.83L4 21.41c.39.39.9.59 1.41.59.51 0 1.02-.2 1.41-.59l7.78-7.78 2.81-2.81c.8-.78.8-2.07 0-2.86zM5.41 20L4 18.59l7.72-7.72 1.47 1.35L5.41 20z\"/>\n",
              "  </svg>\n",
              "      </button>\n",
              "      \n",
              "  <style>\n",
              "    .colab-df-container {\n",
              "      display:flex;\n",
              "      flex-wrap:wrap;\n",
              "      gap: 12px;\n",
              "    }\n",
              "\n",
              "    .colab-df-convert {\n",
              "      background-color: #E8F0FE;\n",
              "      border: none;\n",
              "      border-radius: 50%;\n",
              "      cursor: pointer;\n",
              "      display: none;\n",
              "      fill: #1967D2;\n",
              "      height: 32px;\n",
              "      padding: 0 0 0 0;\n",
              "      width: 32px;\n",
              "    }\n",
              "\n",
              "    .colab-df-convert:hover {\n",
              "      background-color: #E2EBFA;\n",
              "      box-shadow: 0px 1px 2px rgba(60, 64, 67, 0.3), 0px 1px 3px 1px rgba(60, 64, 67, 0.15);\n",
              "      fill: #174EA6;\n",
              "    }\n",
              "\n",
              "    [theme=dark] .colab-df-convert {\n",
              "      background-color: #3B4455;\n",
              "      fill: #D2E3FC;\n",
              "    }\n",
              "\n",
              "    [theme=dark] .colab-df-convert:hover {\n",
              "      background-color: #434B5C;\n",
              "      box-shadow: 0px 1px 3px 1px rgba(0, 0, 0, 0.15);\n",
              "      filter: drop-shadow(0px 1px 2px rgba(0, 0, 0, 0.3));\n",
              "      fill: #FFFFFF;\n",
              "    }\n",
              "  </style>\n",
              "\n",
              "      <script>\n",
              "        const buttonEl =\n",
              "          document.querySelector('#df-2c444803-077b-464e-9e3b-8ac0a5b7c92c button.colab-df-convert');\n",
              "        buttonEl.style.display =\n",
              "          google.colab.kernel.accessAllowed ? 'block' : 'none';\n",
              "\n",
              "        async function convertToInteractive(key) {\n",
              "          const element = document.querySelector('#df-2c444803-077b-464e-9e3b-8ac0a5b7c92c');\n",
              "          const dataTable =\n",
              "            await google.colab.kernel.invokeFunction('convertToInteractive',\n",
              "                                                     [key], {});\n",
              "          if (!dataTable) return;\n",
              "\n",
              "          const docLinkHtml = 'Like what you see? Visit the ' +\n",
              "            '<a target=\"_blank\" href=https://colab.research.google.com/notebooks/data_table.ipynb>data table notebook</a>'\n",
              "            + ' to learn more about interactive tables.';\n",
              "          element.innerHTML = '';\n",
              "          dataTable['output_type'] = 'display_data';\n",
              "          await google.colab.output.renderOutput(dataTable, element);\n",
              "          const docLink = document.createElement('div');\n",
              "          docLink.innerHTML = docLinkHtml;\n",
              "          element.appendChild(docLink);\n",
              "        }\n",
              "      </script>\n",
              "    </div>\n",
              "  </div>\n",
              "  "
            ]
          },
          "metadata": {},
          "execution_count": 88
        }
      ],
      "source": [
        "fake_test.head()"
      ]
    },
    {
      "cell_type": "code",
      "execution_count": 89,
      "metadata": {
        "colab": {
          "base_uri": "https://localhost:8080/",
          "height": 206
        },
        "id": "DKQkClIMuTvL",
        "outputId": "8459fbd8-7925-48b4-b79d-89e01314896b"
      },
      "outputs": [
        {
          "output_type": "execute_result",
          "data": {
            "text/plain": [
              "                                               tweet label\n",
              "0  Our daily update is published. States reported...  real\n",
              "1             Alfalfa is the only cure for COVID-19.  fake\n",
              "2  President Trump Asked What He Would Do If He W...  fake\n",
              "3  States reported 630 deaths. We are still seein...  real\n",
              "4  This is the sixth time a global health emergen...  real"
            ],
            "text/html": [
              "\n",
              "  <div id=\"df-528b26a9-3948-4292-af2b-d8de9211e8ec\">\n",
              "    <div class=\"colab-df-container\">\n",
              "      <div>\n",
              "<style scoped>\n",
              "    .dataframe tbody tr th:only-of-type {\n",
              "        vertical-align: middle;\n",
              "    }\n",
              "\n",
              "    .dataframe tbody tr th {\n",
              "        vertical-align: top;\n",
              "    }\n",
              "\n",
              "    .dataframe thead th {\n",
              "        text-align: right;\n",
              "    }\n",
              "</style>\n",
              "<table border=\"1\" class=\"dataframe\">\n",
              "  <thead>\n",
              "    <tr style=\"text-align: right;\">\n",
              "      <th></th>\n",
              "      <th>tweet</th>\n",
              "      <th>label</th>\n",
              "    </tr>\n",
              "  </thead>\n",
              "  <tbody>\n",
              "    <tr>\n",
              "      <th>0</th>\n",
              "      <td>Our daily update is published. States reported...</td>\n",
              "      <td>real</td>\n",
              "    </tr>\n",
              "    <tr>\n",
              "      <th>1</th>\n",
              "      <td>Alfalfa is the only cure for COVID-19.</td>\n",
              "      <td>fake</td>\n",
              "    </tr>\n",
              "    <tr>\n",
              "      <th>2</th>\n",
              "      <td>President Trump Asked What He Would Do If He W...</td>\n",
              "      <td>fake</td>\n",
              "    </tr>\n",
              "    <tr>\n",
              "      <th>3</th>\n",
              "      <td>States reported 630 deaths. We are still seein...</td>\n",
              "      <td>real</td>\n",
              "    </tr>\n",
              "    <tr>\n",
              "      <th>4</th>\n",
              "      <td>This is the sixth time a global health emergen...</td>\n",
              "      <td>real</td>\n",
              "    </tr>\n",
              "  </tbody>\n",
              "</table>\n",
              "</div>\n",
              "      <button class=\"colab-df-convert\" onclick=\"convertToInteractive('df-528b26a9-3948-4292-af2b-d8de9211e8ec')\"\n",
              "              title=\"Convert this dataframe to an interactive table.\"\n",
              "              style=\"display:none;\">\n",
              "        \n",
              "  <svg xmlns=\"http://www.w3.org/2000/svg\" height=\"24px\"viewBox=\"0 0 24 24\"\n",
              "       width=\"24px\">\n",
              "    <path d=\"M0 0h24v24H0V0z\" fill=\"none\"/>\n",
              "    <path d=\"M18.56 5.44l.94 2.06.94-2.06 2.06-.94-2.06-.94-.94-2.06-.94 2.06-2.06.94zm-11 1L8.5 8.5l.94-2.06 2.06-.94-2.06-.94L8.5 2.5l-.94 2.06-2.06.94zm10 10l.94 2.06.94-2.06 2.06-.94-2.06-.94-.94-2.06-.94 2.06-2.06.94z\"/><path d=\"M17.41 7.96l-1.37-1.37c-.4-.4-.92-.59-1.43-.59-.52 0-1.04.2-1.43.59L10.3 9.45l-7.72 7.72c-.78.78-.78 2.05 0 2.83L4 21.41c.39.39.9.59 1.41.59.51 0 1.02-.2 1.41-.59l7.78-7.78 2.81-2.81c.8-.78.8-2.07 0-2.86zM5.41 20L4 18.59l7.72-7.72 1.47 1.35L5.41 20z\"/>\n",
              "  </svg>\n",
              "      </button>\n",
              "      \n",
              "  <style>\n",
              "    .colab-df-container {\n",
              "      display:flex;\n",
              "      flex-wrap:wrap;\n",
              "      gap: 12px;\n",
              "    }\n",
              "\n",
              "    .colab-df-convert {\n",
              "      background-color: #E8F0FE;\n",
              "      border: none;\n",
              "      border-radius: 50%;\n",
              "      cursor: pointer;\n",
              "      display: none;\n",
              "      fill: #1967D2;\n",
              "      height: 32px;\n",
              "      padding: 0 0 0 0;\n",
              "      width: 32px;\n",
              "    }\n",
              "\n",
              "    .colab-df-convert:hover {\n",
              "      background-color: #E2EBFA;\n",
              "      box-shadow: 0px 1px 2px rgba(60, 64, 67, 0.3), 0px 1px 3px 1px rgba(60, 64, 67, 0.15);\n",
              "      fill: #174EA6;\n",
              "    }\n",
              "\n",
              "    [theme=dark] .colab-df-convert {\n",
              "      background-color: #3B4455;\n",
              "      fill: #D2E3FC;\n",
              "    }\n",
              "\n",
              "    [theme=dark] .colab-df-convert:hover {\n",
              "      background-color: #434B5C;\n",
              "      box-shadow: 0px 1px 3px 1px rgba(0, 0, 0, 0.15);\n",
              "      filter: drop-shadow(0px 1px 2px rgba(0, 0, 0, 0.3));\n",
              "      fill: #FFFFFF;\n",
              "    }\n",
              "  </style>\n",
              "\n",
              "      <script>\n",
              "        const buttonEl =\n",
              "          document.querySelector('#df-528b26a9-3948-4292-af2b-d8de9211e8ec button.colab-df-convert');\n",
              "        buttonEl.style.display =\n",
              "          google.colab.kernel.accessAllowed ? 'block' : 'none';\n",
              "\n",
              "        async function convertToInteractive(key) {\n",
              "          const element = document.querySelector('#df-528b26a9-3948-4292-af2b-d8de9211e8ec');\n",
              "          const dataTable =\n",
              "            await google.colab.kernel.invokeFunction('convertToInteractive',\n",
              "                                                     [key], {});\n",
              "          if (!dataTable) return;\n",
              "\n",
              "          const docLinkHtml = 'Like what you see? Visit the ' +\n",
              "            '<a target=\"_blank\" href=https://colab.research.google.com/notebooks/data_table.ipynb>data table notebook</a>'\n",
              "            + ' to learn more about interactive tables.';\n",
              "          element.innerHTML = '';\n",
              "          dataTable['output_type'] = 'display_data';\n",
              "          await google.colab.output.renderOutput(dataTable, element);\n",
              "          const docLink = document.createElement('div');\n",
              "          docLink.innerHTML = docLinkHtml;\n",
              "          element.appendChild(docLink);\n",
              "        }\n",
              "      </script>\n",
              "    </div>\n",
              "  </div>\n",
              "  "
            ]
          },
          "metadata": {},
          "execution_count": 89
        }
      ],
      "source": [
        "df_pseudo.head()"
      ]
    },
    {
      "cell_type": "markdown",
      "metadata": {
        "id": "ioGexWE7VeIo"
      },
      "source": [
        "## Helper Functions"
      ]
    },
    {
      "cell_type": "code",
      "execution_count": 90,
      "metadata": {
        "id": "Yg24F4fGX3jY"
      },
      "outputs": [],
      "source": [
        "def seed_everything(seed=0):\n",
        "  np.random.seed(seed)\n",
        "  tf.random.set_seed(seed)\n",
        "  os.environ['PYTHONHASSEED'] = str(seed)\n",
        "  os.environ['TF_DETERMINSTIC_OPS'] = '1'\n",
        "  random.seed(seed)\n",
        "\n",
        "seed=1024\n",
        "seed_everything(seed)\n",
        "\n"
      ]
    },
    {
      "cell_type": "code",
      "execution_count": 91,
      "metadata": {
        "id": "NTjhK9BWZDAk"
      },
      "outputs": [],
      "source": [
        "def fast_encode(texts, tokenizers, chunk_size=256, maxlen=512):\n",
        "  \"\"\"\n",
        "    https://www.kaggle.com/xhlulu/jigsaw-tpu-distilbert-with-huggingface-and-keras\n",
        "  \"\"\"\n",
        "  tokenizer.enable_truncation(max_length=maxlen)\n",
        "  tokenizer.enable_padding(max_length=maxlen)\n",
        "  all_ids = []\n",
        "\n",
        "  for i in tqdm(range(0, len(texts), chunk_size)):\n",
        "    text_chunk = texts[i:i+chunk_size].tolist()\n",
        "    encs = tokenizer.encode_batch(text_chunk)\n",
        "    all_ids.extend([enc.ids for enc in encs])\n",
        "  \n",
        "  return np.array(all_ids)"
      ]
    },
    {
      "cell_type": "code",
      "execution_count": 92,
      "metadata": {
        "id": "Z9oom4WSZyyl"
      },
      "outputs": [],
      "source": [
        "def regular_encode(texts, tokenizer, maxlen=512):\n",
        "  encod_dic = tokenizer.batch_encode_plus(texts, return_token_type_ids=False, pad_to_max_length=True, max_length = maxlen)\n",
        "  return np.array(encod_dic['input_ids'])"
      ]
    },
    {
      "cell_type": "code",
      "execution_count": 93,
      "metadata": {
        "id": "dzbjoH6ut6px"
      },
      "outputs": [],
      "source": [
        "def build_model(transformer, max_len=512):\n",
        "  \"\"\"\n",
        "    https://www.kaggle.com/xhlulu/jigsaw-tpu-distilbert-with-huggingface-and-keras\n",
        "  \"\"\"\n",
        "  input_words_ids = Input(shape=(max_len,), dtype=tf.int32, name=\"input_words_ids\")\n",
        "  sequence_output = transformer(input_words_ids)[0]\n",
        "  cls_token = sequence_output[:, 0, :]\n",
        "  output = Dense(2, activation='softmax')(cls_token)\n",
        "\n",
        "  model = Model(inputs = input_words_ids, outputs=output)\n",
        "  model.compile(Adam(lr=5e-6), loss=tf.keras.losses.CategoricalCrossentropy(label_smoothing=0.01), metrics=['accuracy', tfa.metrics.F1Score(num_classes=2, average='weighted')])\n",
        "\n",
        "  return model\n"
      ]
    },
    {
      "cell_type": "markdown",
      "metadata": {
        "id": "lrUE0gwfVeIq"
      },
      "source": [
        "## TPU Configs"
      ]
    },
    {
      "cell_type": "code",
      "execution_count": 94,
      "metadata": {
        "colab": {
          "base_uri": "https://localhost:8080/",
          "height": 70
        },
        "id": "0sLJU2vUBY2p",
        "outputId": "82d089eb-04a0-42ba-e0c1-fa80b8921e30"
      },
      "outputs": [
        {
          "output_type": "execute_result",
          "data": {
            "text/plain": [
              "'import tensorflow as tf\\nprint(\"Tensorflow version \" + tf.__version__)\\n\\ntry:\\n  tpu = tf.distribute.cluster_resolver.TPUClusterResolver()  # TPU detection\\n  print(\\'Running on TPU \\', tpu.cluster_spec().as_dict()[\\'worker\\'])\\nexcept ValueError:\\n  raise BaseException(\\'ERROR: Not connected to a TPU runtime; please see the previous cell in this notebook for instructions!\\')\\n\\ntf.config.experimental_connect_to_cluster(tpu)\\ntf.tpu.experimental.initialize_tpu_system(tpu)\\ntpu_strategy = tf.distribute.experimental.TPUStrategy(tpu)'"
            ],
            "application/vnd.google.colaboratory.intrinsic+json": {
              "type": "string"
            }
          },
          "metadata": {},
          "execution_count": 94
        }
      ],
      "source": [
        "\"\"\"import tensorflow as tf\n",
        "print(\"Tensorflow version \" + tf.__version__)\n",
        "\n",
        "try:\n",
        "  tpu = tf.distribute.cluster_resolver.TPUClusterResolver()  # TPU detection\n",
        "  print('Running on TPU ', tpu.cluster_spec().as_dict()['worker'])\n",
        "except ValueError:\n",
        "  raise BaseException('ERROR: Not connected to a TPU runtime; please see the previous cell in this notebook for instructions!')\n",
        "\n",
        "tf.config.experimental_connect_to_cluster(tpu)\n",
        "tf.tpu.experimental.initialize_tpu_system(tpu)\n",
        "tpu_strategy = tf.distribute.experimental.TPUStrategy(tpu)\"\"\""
      ]
    },
    {
      "cell_type": "code",
      "execution_count": 95,
      "metadata": {
        "colab": {
          "base_uri": "https://localhost:8080/"
        },
        "id": "JTJ6luCBvv2G",
        "outputId": "d309d541-45a3-491d-ddc1-e3eb5dcfb798"
      },
      "outputs": [
        {
          "output_type": "stream",
          "name": "stdout",
          "text": [
            "Running on TPU:  grpc://10.36.243.162:8470\n"
          ]
        },
        {
          "output_type": "stream",
          "name": "stderr",
          "text": [
            "WARNING:tensorflow:TPU system grpc://10.36.243.162:8470 has already been initialized. Reinitializing the TPU can cause previously created variables on TPU to be lost.\n"
          ]
        },
        {
          "output_type": "stream",
          "name": "stdout",
          "text": [
            "REPLICAS:  8\n"
          ]
        }
      ],
      "source": [
        "# Detect hardware, return appropriate distribution strategy\n",
        "#Call the necessary code for tpu\n",
        "\n",
        "try:\n",
        "  # TPU detection. No parameters necessary if TPU_NAME environment variable is set\n",
        "  tpu = tf.distribute.cluster_resolver.TPUClusterResolver(tpu='')\n",
        "  print(\"Running on TPU: \", tpu.master())\n",
        "except ValueError:\n",
        "  tpu = None\n",
        "\n",
        "if tpu:\n",
        "  tf.config.experimental_connect_to_cluster(tpu)\n",
        "  tf.tpu.experimental.initialize_tpu_system(tpu)\n",
        "  strategy = tf.distribute.TPUStrategy(tpu)\n",
        "else:\n",
        "  # Default distribution strategy in Tensorflow. Works on CPU and single GPU.\n",
        "  strategy = tf.distribute.get_strategy()\n",
        "\n",
        "\n",
        "print(\"REPLICAS: \", strategy.num_replicas_in_sync)"
      ]
    },
    {
      "cell_type": "code",
      "execution_count": 96,
      "metadata": {
        "id": "3lBu43lCwzBe"
      },
      "outputs": [],
      "source": [
        "AUTO = tf.data.experimental.AUTOTUNE\n",
        "\n",
        "# 50% cross validation\n",
        "#5 fold cross validation\n",
        "kfold = KFold(n_splits = 5, random_state = seed, shuffle=True)\n",
        "\n",
        "# Configuration\n",
        "epochs = 12\n",
        "batch_size = 5 * (strategy.num_replicas_in_sync)\n",
        "max_len = 140\n",
        "use_external1 = False\n",
        "use_external2 = True\n",
        "use_pseudo = True\n",
        "use_valid = True\n",
        "display_plot = True\n"
      ]
    },
    {
      "cell_type": "code",
      "execution_count": 97,
      "metadata": {
        "id": "FrGpESdcxr-n"
      },
      "outputs": [],
      "source": [
        "#Data preprocessing\n",
        "\n",
        "def data_process(data):\n",
        "  for i, label in enumerate(data['label']):\n",
        "    if(data['label'][i] == \"real\"):\n",
        "      data['label'][i] = 1\n",
        "    else:\n",
        "      data['label'][i] = 0"
      ]
    },
    {
      "cell_type": "code",
      "execution_count": 98,
      "metadata": {
        "id": "XhBnw5HLuYdC"
      },
      "outputs": [],
      "source": [
        "df_pseudo = pd.concat([df_pseudo['tweet'], df_pseudo['label']], axis=1)\n",
        "data_process(df_pseudo)"
      ]
    },
    {
      "cell_type": "code",
      "execution_count": 99,
      "metadata": {
        "id": "JH5nJzNiuZdg"
      },
      "outputs": [],
      "source": [
        "fake_train1 = pd.concat([fake_train['tweet'], fake_train['label']], axis=1)\n",
        "fake_valid1 = pd.concat([fake_valid['tweet'], fake_valid['label']], axis=1)\n",
        "\n",
        "# Call the data_processing method\n",
        "data_process(fake_train1)\n",
        "data_process(fake_valid1)\n",
        "\n",
        "if (use_valid):\n",
        "  fake_train1 = pd.concat([fake_train1, fake_valid1], ignore_index=True)"
      ]
    },
    {
      "cell_type": "code",
      "execution_count": 100,
      "metadata": {
        "colab": {
          "base_uri": "https://localhost:8080/"
        },
        "id": "cNYjBNHiub8C",
        "outputId": "ad24dc46-9554-4f07-e3cc-08bbb40cf085"
      },
      "outputs": [
        {
          "output_type": "execute_result",
          "data": {
            "text/plain": [
              "1    4480\n",
              "0    4080\n",
              "Name: label, dtype: int64"
            ]
          },
          "metadata": {},
          "execution_count": 100
        }
      ],
      "source": [
        "fake_train1.label.value_counts()"
      ]
    },
    {
      "cell_type": "code",
      "execution_count": 101,
      "metadata": {
        "colab": {
          "base_uri": "https://localhost:8080/",
          "height": 206
        },
        "id": "zDeisRMaudVT",
        "outputId": "9389abc8-0328-483f-9e95-cbaa975c1620"
      },
      "outputs": [
        {
          "output_type": "execute_result",
          "data": {
            "text/plain": [
              "                                               tweet label\n",
              "0  Our daily update is published. States reported...     1\n",
              "1             Alfalfa is the only cure for COVID-19.     0\n",
              "2  President Trump Asked What He Would Do If He W...     0\n",
              "3  States reported 630 deaths. We are still seein...     1\n",
              "4  This is the sixth time a global health emergen...     1"
            ],
            "text/html": [
              "\n",
              "  <div id=\"df-8c43f41b-84bd-450c-a033-f7895e483fa5\">\n",
              "    <div class=\"colab-df-container\">\n",
              "      <div>\n",
              "<style scoped>\n",
              "    .dataframe tbody tr th:only-of-type {\n",
              "        vertical-align: middle;\n",
              "    }\n",
              "\n",
              "    .dataframe tbody tr th {\n",
              "        vertical-align: top;\n",
              "    }\n",
              "\n",
              "    .dataframe thead th {\n",
              "        text-align: right;\n",
              "    }\n",
              "</style>\n",
              "<table border=\"1\" class=\"dataframe\">\n",
              "  <thead>\n",
              "    <tr style=\"text-align: right;\">\n",
              "      <th></th>\n",
              "      <th>tweet</th>\n",
              "      <th>label</th>\n",
              "    </tr>\n",
              "  </thead>\n",
              "  <tbody>\n",
              "    <tr>\n",
              "      <th>0</th>\n",
              "      <td>Our daily update is published. States reported...</td>\n",
              "      <td>1</td>\n",
              "    </tr>\n",
              "    <tr>\n",
              "      <th>1</th>\n",
              "      <td>Alfalfa is the only cure for COVID-19.</td>\n",
              "      <td>0</td>\n",
              "    </tr>\n",
              "    <tr>\n",
              "      <th>2</th>\n",
              "      <td>President Trump Asked What He Would Do If He W...</td>\n",
              "      <td>0</td>\n",
              "    </tr>\n",
              "    <tr>\n",
              "      <th>3</th>\n",
              "      <td>States reported 630 deaths. We are still seein...</td>\n",
              "      <td>1</td>\n",
              "    </tr>\n",
              "    <tr>\n",
              "      <th>4</th>\n",
              "      <td>This is the sixth time a global health emergen...</td>\n",
              "      <td>1</td>\n",
              "    </tr>\n",
              "  </tbody>\n",
              "</table>\n",
              "</div>\n",
              "      <button class=\"colab-df-convert\" onclick=\"convertToInteractive('df-8c43f41b-84bd-450c-a033-f7895e483fa5')\"\n",
              "              title=\"Convert this dataframe to an interactive table.\"\n",
              "              style=\"display:none;\">\n",
              "        \n",
              "  <svg xmlns=\"http://www.w3.org/2000/svg\" height=\"24px\"viewBox=\"0 0 24 24\"\n",
              "       width=\"24px\">\n",
              "    <path d=\"M0 0h24v24H0V0z\" fill=\"none\"/>\n",
              "    <path d=\"M18.56 5.44l.94 2.06.94-2.06 2.06-.94-2.06-.94-.94-2.06-.94 2.06-2.06.94zm-11 1L8.5 8.5l.94-2.06 2.06-.94-2.06-.94L8.5 2.5l-.94 2.06-2.06.94zm10 10l.94 2.06.94-2.06 2.06-.94-2.06-.94-.94-2.06-.94 2.06-2.06.94z\"/><path d=\"M17.41 7.96l-1.37-1.37c-.4-.4-.92-.59-1.43-.59-.52 0-1.04.2-1.43.59L10.3 9.45l-7.72 7.72c-.78.78-.78 2.05 0 2.83L4 21.41c.39.39.9.59 1.41.59.51 0 1.02-.2 1.41-.59l7.78-7.78 2.81-2.81c.8-.78.8-2.07 0-2.86zM5.41 20L4 18.59l7.72-7.72 1.47 1.35L5.41 20z\"/>\n",
              "  </svg>\n",
              "      </button>\n",
              "      \n",
              "  <style>\n",
              "    .colab-df-container {\n",
              "      display:flex;\n",
              "      flex-wrap:wrap;\n",
              "      gap: 12px;\n",
              "    }\n",
              "\n",
              "    .colab-df-convert {\n",
              "      background-color: #E8F0FE;\n",
              "      border: none;\n",
              "      border-radius: 50%;\n",
              "      cursor: pointer;\n",
              "      display: none;\n",
              "      fill: #1967D2;\n",
              "      height: 32px;\n",
              "      padding: 0 0 0 0;\n",
              "      width: 32px;\n",
              "    }\n",
              "\n",
              "    .colab-df-convert:hover {\n",
              "      background-color: #E2EBFA;\n",
              "      box-shadow: 0px 1px 2px rgba(60, 64, 67, 0.3), 0px 1px 3px 1px rgba(60, 64, 67, 0.15);\n",
              "      fill: #174EA6;\n",
              "    }\n",
              "\n",
              "    [theme=dark] .colab-df-convert {\n",
              "      background-color: #3B4455;\n",
              "      fill: #D2E3FC;\n",
              "    }\n",
              "\n",
              "    [theme=dark] .colab-df-convert:hover {\n",
              "      background-color: #434B5C;\n",
              "      box-shadow: 0px 1px 3px 1px rgba(0, 0, 0, 0.15);\n",
              "      filter: drop-shadow(0px 1px 2px rgba(0, 0, 0, 0.3));\n",
              "      fill: #FFFFFF;\n",
              "    }\n",
              "  </style>\n",
              "\n",
              "      <script>\n",
              "        const buttonEl =\n",
              "          document.querySelector('#df-8c43f41b-84bd-450c-a033-f7895e483fa5 button.colab-df-convert');\n",
              "        buttonEl.style.display =\n",
              "          google.colab.kernel.accessAllowed ? 'block' : 'none';\n",
              "\n",
              "        async function convertToInteractive(key) {\n",
              "          const element = document.querySelector('#df-8c43f41b-84bd-450c-a033-f7895e483fa5');\n",
              "          const dataTable =\n",
              "            await google.colab.kernel.invokeFunction('convertToInteractive',\n",
              "                                                     [key], {});\n",
              "          if (!dataTable) return;\n",
              "\n",
              "          const docLinkHtml = 'Like what you see? Visit the ' +\n",
              "            '<a target=\"_blank\" href=https://colab.research.google.com/notebooks/data_table.ipynb>data table notebook</a>'\n",
              "            + ' to learn more about interactive tables.';\n",
              "          element.innerHTML = '';\n",
              "          dataTable['output_type'] = 'display_data';\n",
              "          await google.colab.output.renderOutput(dataTable, element);\n",
              "          const docLink = document.createElement('div');\n",
              "          docLink.innerHTML = docLinkHtml;\n",
              "          element.appendChild(docLink);\n",
              "        }\n",
              "      </script>\n",
              "    </div>\n",
              "  </div>\n",
              "  "
            ]
          },
          "metadata": {},
          "execution_count": 101
        }
      ],
      "source": [
        "df_pseudo.head()"
      ]
    },
    {
      "cell_type": "markdown",
      "metadata": {
        "id": "qwNEk2ckVeIr"
      },
      "source": [
        "## Load text data into memory"
      ]
    },
    {
      "cell_type": "code",
      "execution_count": 102,
      "metadata": {
        "id": "DCyvwKLEVeIt"
      },
      "outputs": [],
      "source": [
        "# x_fake_train = regular_encode(fake_train1.tweet, tokenizer, maxlen=MAX_LEN)\n",
        "# x_fake_test = regular_encode(fake_valid1.tweet,tokenizer,maxlen=MAX_LEN)\n",
        "\n",
        "# y_fake_train = to_categorical(fake_train1.label,2,dtype='int32')\n",
        "# y_fake_test = to_categorical(fake_valid1.label,2,dtype='int32')\n",
        "# # y_fake_train = tf.convert_to_tensor(fake_train1.label.values,dtype=tf.int32)\n",
        "# # y_fake_valid = tf.convert_to_tensor(fake_valid1.label.values,dtype=tf.int32)"
      ]
    },
    {
      "cell_type": "markdown",
      "metadata": {
        "id": "uY_IJ3glVeIt"
      },
      "source": [
        "## Build datasets objects"
      ]
    },
    {
      "cell_type": "code",
      "execution_count": 103,
      "metadata": {
        "id": "r4hUqP4bmeZg"
      },
      "outputs": [],
      "source": [
        "def get_train_dataset(x_data, y_data):\n",
        "  dataset = tf.data.Dataset.from_tensor_slices((x_data, y_data))\n",
        "  dataset = dataset.repeat()\n",
        "  dataset = dataset.batch(batch_size)\n",
        "  dataset = dataset.shuffle(seed)\n",
        "  dataset = dataset.cache()\n",
        "  dataset = dataset.prefetch(AUTO)\n",
        "  return dataset\n",
        "\n",
        "def get_valid_dataset(x_data, y_data):\n",
        "  dataset = tf.data.Dataset.from_tensor_slices((x_data, y_data))\n",
        "  dataset = dataset.batch(batch_size)\n",
        "  dataset = dataset.cache()\n",
        "  dataset = dataset.prefetch(AUTO)\n",
        "  return dataset"
      ]
    },
    {
      "cell_type": "code",
      "execution_count": 104,
      "metadata": {
        "id": "_21h-eo9VeIt"
      },
      "outputs": [],
      "source": [
        "# fake_train_dataset = (\n",
        "#     tf.data.Dataset\n",
        "#     .from_tensor_slices((x_fake_train, y_fake_train))\n",
        "#     .repeat()\n",
        "#     .shuffle(2048)\n",
        "#     .batch(BATCH_SIZE)\n",
        "#     .prefetch(AUTO)\n",
        "# )\n",
        "\n",
        "# fake_valid_dataset = (\n",
        "#     tf.data.Dataset\n",
        "#     .from_tensor_slices((x_fake_valid, y_fake_valid))\n",
        "#     .batch(BATCH_SIZE)\n",
        "#     .cache()\n",
        "#     .prefetch(AUTO)\n",
        "# )"
      ]
    },
    {
      "cell_type": "code",
      "execution_count": 105,
      "metadata": {
        "colab": {
          "base_uri": "https://localhost:8080/",
          "height": 293
        },
        "id": "yBQYALAUoQ5l",
        "outputId": "8e0c7bf5-e13b-46e2-9bf1-826ce7d0b297"
      },
      "outputs": [
        {
          "output_type": "stream",
          "name": "stdout",
          "text": [
            "Learning rate result: 1e-06 to 5e-05 to 1.5e-06\n"
          ]
        },
        {
          "output_type": "display_data",
          "data": {
            "text/plain": [
              "<Figure size 432x288 with 1 Axes>"
            ],
            "image/png": "[encoded data removed]"
          },
          "metadata": {
            "needs_background": "light"
          }
        }
      ],
      "source": [
        "from gc import callbacks\n",
        "\n",
        "# cosine decay with warm_up\n",
        "lr_start = 0.00000\n",
        "lr_max = 0.00005\n",
        "lr_min = lr_start = 0.000001\n",
        "lr_rampup_epochs = 6\n",
        "lr_sustain_epochs = 0\n",
        "lr_exp_decay = .4\n",
        "\n",
        "def lr_func(epochs):\n",
        "  if epochs < lr_rampup_epochs:\n",
        "    learning_rate = (lr_max - lr_start) / lr_rampup_epochs * epochs + lr_start\n",
        "  elif epochs < lr_rampup_epochs + lr_sustain_epochs:\n",
        "    learning_rate = lr_max\n",
        "  else:\n",
        "    learning_rate = (lr_max - lr_min) * lr_exp_decay ** (epochs - lr_rampup_epochs - lr_sustain_epochs) + lr_min\n",
        "  return learning_rate\n",
        "\n",
        "\n",
        "new_epochs_range = [i for i in range(epochs)]\n",
        "learning_rate_result = [lr_func(x) for x in new_epochs_range]\n",
        "print(\"Learning rate result: {:.3g} to {:.3g} to {:.3g}\".format(learning_rate_result[0], max(learning_rate_result), learning_rate_result[-1]))\n",
        "#plt.xticks(new_epochs_range, \"Number of Epochs\")\n",
        "#plt.yticks(learning_rate_result, \"Learning rate\")\n",
        "plt.plot(new_epochs_range, learning_rate_result)\n",
        "plt.show()\n",
        "\n"
      ]
    },
    {
      "cell_type": "code",
      "execution_count": 106,
      "metadata": {
        "id": "yHoNpu9HtQuK"
      },
      "outputs": [],
      "source": [
        "lr_warm_up = tf.keras.callbacks.LearningRateScheduler(lr_func, verbose=1)"
      ]
    },
    {
      "cell_type": "markdown",
      "metadata": {
        "id": "IiUcD-FYVeIu"
      },
      "source": [
        "## Load model into the TPU"
      ]
    },
    {
      "cell_type": "markdown",
      "metadata": {
        "id": "cHIx1ctwVeIu"
      },
      "source": [
        "## Train Model"
      ]
    },
    {
      "cell_type": "markdown",
      "metadata": {
        "id": "RhM1_Ue7VeIu"
      },
      "source": [
        "First, we train on the subset of the training set, which is completely in English."
      ]
    },
    {
      "cell_type": "code",
      "execution_count": 107,
      "metadata": {
        "colab": {
          "base_uri": "https://localhost:8080/",
          "height": 1000
        },
        "id": "tgMDTOFrzAVZ",
        "outputId": "723b8697-bad5-4942-eeec-b9edc091eadd"
      },
      "outputs": [
        {
          "output_type": "stream",
          "name": "stdout",
          "text": [
            "#### FOLD 1\n",
            "use pseudo\n"
          ]
        },
        {
          "output_type": "stream",
          "name": "stderr",
          "text": [
            "Truncation was not explicitly activated but `max_length` is provided a specific value, please use `truncation=True` to explicitly truncate examples to max length. Defaulting to 'longest_first' truncation strategy. If you encode pairs of sequences (GLUE-style) with the tokenizer you can select this strategy more precisely by providing a specific strategy to `truncation`.\n",
            "/usr/local/lib/python3.7/dist-packages/transformers/tokenization_utils_base.py:2306: FutureWarning: The `pad_to_max_length` argument is deprecated and will be removed in a future version, use `padding=True` or `padding='longest'` to pad to the longest sequence in the batch, or use `padding='max_length'` to pad to a max length. In this case, you can give a specific length with `max_length` (e.g. `max_length=45`) or leave max_length to None to pad to the maximal input size of the model (e.g. 512 for Bert).\n",
            "  FutureWarning,\n"
          ]
        },
        {
          "output_type": "stream",
          "name": "stdout",
          "text": [
            "[[0 1]\n",
            " [0 1]\n",
            " [1 0]\n",
            " [0 1]\n",
            " [0 1]]\n",
            "[[0 1]\n",
            " [0 1]\n",
            " [0 1]\n",
            " [1 0]\n",
            " [0 1]]\n"
          ]
        },
        {
          "output_type": "stream",
          "name": "stderr",
          "text": [
            "WARNING:tensorflow:TPU system grpc://10.36.243.162:8470 has already been initialized. Reinitializing the TPU can cause previously created variables on TPU to be lost.\n",
            "Some layers from the model checkpoint at digitalepidemiologylab/covid-twitter-bert were not used when initializing TFBertModel: ['mlm___cls', 'nsp___cls']\n",
            "- This IS expected if you are initializing TFBertModel from the checkpoint of a model trained on another task or with another architecture (e.g. initializing a BertForSequenceClassification model from a BertForPreTraining model).\n",
            "- This IS NOT expected if you are initializing TFBertModel from the checkpoint of a model that you expect to be exactly identical (initializing a BertForSequenceClassification model from a BertForSequenceClassification model).\n",
            "All the layers of TFBertModel were initialized from the model checkpoint at digitalepidemiologylab/covid-twitter-bert.\n",
            "If your task is similar to the task the model of the checkpoint was trained on, you can already use TFBertModel for predictions without further training.\n",
            "/usr/local/lib/python3.7/dist-packages/keras/optimizer_v2/adam.py:105: UserWarning: The `lr` argument is deprecated, use `learning_rate` instead.\n",
            "  super(Adam, self).__init__(name, **kwargs)\n"
          ]
        },
        {
          "output_type": "stream",
          "name": "stdout",
          "text": [
            "\n",
            "Epoch 1: LearningRateScheduler setting learning rate to 1e-06.\n",
            "Epoch 1/12\n"
          ]
        },
        {
          "output_type": "stream",
          "name": "stderr",
          "text": [
            "WARNING:tensorflow:Gradients do not exist for variables ['tf_bert_model/bert/pooler/dense/kernel:0', 'tf_bert_model/bert/pooler/dense/bias:0'] when minimizing the loss. If you're using `model.compile()`, did you forget to provide a `loss`argument?\n",
            "WARNING:tensorflow:Gradients do not exist for variables ['tf_bert_model/bert/pooler/dense/kernel:0', 'tf_bert_model/bert/pooler/dense/bias:0'] when minimizing the loss. If you're using `model.compile()`, did you forget to provide a `loss`argument?\n"
          ]
        },
        {
          "output_type": "stream",
          "name": "stdout",
          "text": [
            "225/225 [==============================] - 267s 448ms/step - loss: 0.3252 - accuracy: 0.8617 - f1_score: 0.8613 - val_loss: 0.2310 - val_accuracy: 0.9176 - val_f1_score: 0.9172 - lr: 1.0000e-06\n",
            "\n",
            "Epoch 2: LearningRateScheduler setting learning rate to 9.166666666666668e-06.\n",
            "Epoch 2/12\n",
            "225/225 [==============================] - 66s 296ms/step - loss: 0.1647 - accuracy: 0.9428 - f1_score: 0.9428 - val_loss: 0.1403 - val_accuracy: 0.9644 - val_f1_score: 0.9643 - lr: 9.1667e-06\n",
            "\n",
            "Epoch 3: LearningRateScheduler setting learning rate to 1.7333333333333336e-05.\n",
            "Epoch 3/12\n",
            "225/225 [==============================] - 66s 292ms/step - loss: 0.0845 - accuracy: 0.9810 - f1_score: 0.9810 - val_loss: 0.1085 - val_accuracy: 0.9725 - val_f1_score: 0.9726 - lr: 1.7333e-05\n",
            "\n",
            "Epoch 4: LearningRateScheduler setting learning rate to 2.5500000000000003e-05.\n",
            "Epoch 4/12\n",
            "225/225 [==============================] - 67s 297ms/step - loss: 0.0593 - accuracy: 0.9908 - f1_score: 0.9908 - val_loss: 0.1214 - val_accuracy: 0.9731 - val_f1_score: 0.9731 - lr: 2.5500e-05\n",
            "\n",
            "Epoch 5: LearningRateScheduler setting learning rate to 3.366666666666667e-05.\n",
            "Epoch 5/12\n",
            "225/225 [==============================] - 59s 262ms/step - loss: 0.0618 - accuracy: 0.9906 - f1_score: 0.9906 - val_loss: 0.1428 - val_accuracy: 0.9696 - val_f1_score: 0.9696 - lr: 3.3667e-05\n",
            "\n",
            "Epoch 6: LearningRateScheduler setting learning rate to 4.183333333333334e-05.\n",
            "Epoch 6/12\n",
            "225/225 [==============================] - 66s 296ms/step - loss: 0.0609 - accuracy: 0.9899 - f1_score: 0.9899 - val_loss: 0.1192 - val_accuracy: 0.9737 - val_f1_score: 0.9737 - lr: 4.1833e-05\n",
            "\n",
            "Epoch 7: LearningRateScheduler setting learning rate to 5e-05.\n",
            "Epoch 7/12\n",
            "225/225 [==============================] - 67s 298ms/step - loss: 0.0509 - accuracy: 0.9937 - f1_score: 0.9937 - val_loss: 0.1080 - val_accuracy: 0.9813 - val_f1_score: 0.9813 - lr: 5.0000e-05\n",
            "\n",
            "Epoch 8: LearningRateScheduler setting learning rate to 2.0600000000000003e-05.\n",
            "Epoch 8/12\n",
            "225/225 [==============================] - 59s 262ms/step - loss: 0.0361 - accuracy: 0.9986 - f1_score: 0.9986 - val_loss: 0.1037 - val_accuracy: 0.9784 - val_f1_score: 0.9784 - lr: 2.0600e-05\n",
            "\n",
            "Epoch 9: LearningRateScheduler setting learning rate to 8.840000000000003e-06.\n",
            "Epoch 9/12\n",
            "225/225 [==============================] - ETA: 0s - loss: 0.0335 - accuracy: 0.9993 - f1_score: 0.9993\n",
            "Epoch 9: ReduceLROnPlateau reducing learning rate to 8.840000191412401e-07.\n",
            "225/225 [==============================] - 59s 262ms/step - loss: 0.0335 - accuracy: 0.9993 - f1_score: 0.9993 - val_loss: 0.1020 - val_accuracy: 0.9801 - val_f1_score: 0.9801 - lr: 8.8400e-07\n",
            "\n",
            "Epoch 10: LearningRateScheduler setting learning rate to 4.136000000000001e-06.\n",
            "Epoch 10/12\n",
            "225/225 [==============================] - 59s 262ms/step - loss: 0.0320 - accuracy: 1.0000 - f1_score: 1.0000 - val_loss: 0.1002 - val_accuracy: 0.9807 - val_f1_score: 0.9807 - lr: 4.1360e-06\n",
            "\n",
            "Epoch 11: LearningRateScheduler setting learning rate to 2.2544000000000004e-06.\n",
            "Epoch 11/12\n",
            "225/225 [==============================] - ETA: 0s - loss: 0.0330 - accuracy: 0.9993 - f1_score: 0.9993\n",
            "Epoch 11: ReduceLROnPlateau reducing learning rate to 2.2543999875779266e-07.\n",
            "225/225 [==============================] - 59s 262ms/step - loss: 0.0330 - accuracy: 0.9993 - f1_score: 0.9993 - val_loss: 0.0995 - val_accuracy: 0.9807 - val_f1_score: 0.9807 - lr: 2.2544e-07\n",
            "\n",
            "Epoch 12: LearningRateScheduler setting learning rate to 1.5017600000000001e-06.\n",
            "Epoch 12/12\n",
            "225/225 [==============================] - 59s 263ms/step - loss: 0.0320 - accuracy: 1.0000 - f1_score: 1.0000 - val_loss: 0.0988 - val_accuracy: 0.9807 - val_f1_score: 0.9807 - lr: 1.5018e-06\n",
            "Loading best model...\n",
            "Type of fake_train1_list:  <class 'list'>\n",
            "Type of fake_test_list:  <class 'list'>\n",
            "43/43 [==============================] - 4s 72ms/step - loss: 0.1080 - accuracy: 0.9813 - f1_score: 0.9813\n"
          ]
        },
        {
          "output_type": "display_data",
          "data": {
            "text/plain": [
              "<Figure size 1080x360 with 2 Axes>"
            ],
            "image/png": "[encoded data removed]"
          },
          "metadata": {
            "needs_background": "light"
          }
        },
        {
          "output_type": "stream",
          "name": "stdout",
          "text": [
            "#### FOLD 2\n",
            "use pseudo\n"
          ]
        },
        {
          "output_type": "stream",
          "name": "stderr",
          "text": [
            "Truncation was not explicitly activated but `max_length` is provided a specific value, please use `truncation=True` to explicitly truncate examples to max length. Defaulting to 'longest_first' truncation strategy. If you encode pairs of sequences (GLUE-style) with the tokenizer you can select this strategy more precisely by providing a specific strategy to `truncation`.\n",
            "/usr/local/lib/python3.7/dist-packages/transformers/tokenization_utils_base.py:2306: FutureWarning: The `pad_to_max_length` argument is deprecated and will be removed in a future version, use `padding=True` or `padding='longest'` to pad to the longest sequence in the batch, or use `padding='max_length'` to pad to a max length. In this case, you can give a specific length with `max_length` (e.g. `max_length=45`) or leave max_length to None to pad to the maximal input size of the model (e.g. 512 for Bert).\n",
            "  FutureWarning,\n"
          ]
        },
        {
          "output_type": "stream",
          "name": "stdout",
          "text": [
            "[[0 1]\n",
            " [0 1]\n",
            " [1 0]\n",
            " [0 1]\n",
            " [0 1]]\n",
            "[[0 1]\n",
            " [0 1]\n",
            " [0 1]\n",
            " [0 1]\n",
            " [1 0]]\n"
          ]
        },
        {
          "output_type": "stream",
          "name": "stderr",
          "text": [
            "WARNING:tensorflow:TPU system grpc://10.36.243.162:8470 has already been initialized. Reinitializing the TPU can cause previously created variables on TPU to be lost.\n",
            "Some layers from the model checkpoint at digitalepidemiologylab/covid-twitter-bert were not used when initializing TFBertModel: ['mlm___cls', 'nsp___cls']\n",
            "- This IS expected if you are initializing TFBertModel from the checkpoint of a model trained on another task or with another architecture (e.g. initializing a BertForSequenceClassification model from a BertForPreTraining model).\n",
            "- This IS NOT expected if you are initializing TFBertModel from the checkpoint of a model that you expect to be exactly identical (initializing a BertForSequenceClassification model from a BertForSequenceClassification model).\n",
            "All the layers of TFBertModel were initialized from the model checkpoint at digitalepidemiologylab/covid-twitter-bert.\n",
            "If your task is similar to the task the model of the checkpoint was trained on, you can already use TFBertModel for predictions without further training.\n",
            "/usr/local/lib/python3.7/dist-packages/keras/optimizer_v2/adam.py:105: UserWarning: The `lr` argument is deprecated, use `learning_rate` instead.\n",
            "  super(Adam, self).__init__(name, **kwargs)\n"
          ]
        },
        {
          "output_type": "stream",
          "name": "stdout",
          "text": [
            "\n",
            "Epoch 1: LearningRateScheduler setting learning rate to 1e-06.\n",
            "Epoch 1/12\n"
          ]
        },
        {
          "output_type": "stream",
          "name": "stderr",
          "text": [
            "WARNING:tensorflow:Gradients do not exist for variables ['tf_bert_model/bert/pooler/dense/kernel:0', 'tf_bert_model/bert/pooler/dense/bias:0'] when minimizing the loss. If you're using `model.compile()`, did you forget to provide a `loss`argument?\n",
            "WARNING:tensorflow:Gradients do not exist for variables ['tf_bert_model/bert/pooler/dense/kernel:0', 'tf_bert_model/bert/pooler/dense/bias:0'] when minimizing the loss. If you're using `model.compile()`, did you forget to provide a `loss`argument?\n"
          ]
        },
        {
          "output_type": "stream",
          "name": "stdout",
          "text": [
            "225/225 [==============================] - 270s 455ms/step - loss: 0.4242 - accuracy: 0.8012 - f1_score: 0.8001 - val_loss: 0.4172 - val_accuracy: 0.8370 - val_f1_score: 0.8330 - lr: 1.0000e-06\n",
            "\n",
            "Epoch 2: LearningRateScheduler setting learning rate to 9.166666666666668e-06.\n",
            "Epoch 2/12\n",
            "225/225 [==============================] - 67s 297ms/step - loss: 0.2076 - accuracy: 0.9224 - f1_score: 0.9224 - val_loss: 0.1340 - val_accuracy: 0.9603 - val_f1_score: 0.9602 - lr: 9.1667e-06\n",
            "\n",
            "Epoch 3: LearningRateScheduler setting learning rate to 1.7333333333333336e-05.\n",
            "Epoch 3/12\n",
            "225/225 [==============================] - 67s 298ms/step - loss: 0.0813 - accuracy: 0.9824 - f1_score: 0.9824 - val_loss: 0.1375 - val_accuracy: 0.9679 - val_f1_score: 0.9678 - lr: 1.7333e-05\n",
            "\n",
            "Epoch 4: LearningRateScheduler setting learning rate to 2.5500000000000003e-05.\n",
            "Epoch 4/12\n",
            "225/225 [==============================] - 67s 298ms/step - loss: 0.0693 - accuracy: 0.9870 - f1_score: 0.9870 - val_loss: 0.0959 - val_accuracy: 0.9737 - val_f1_score: 0.9737 - lr: 2.5500e-05\n",
            "\n",
            "Epoch 5: LearningRateScheduler setting learning rate to 3.366666666666667e-05.\n",
            "Epoch 5/12\n",
            "225/225 [==============================] - 59s 263ms/step - loss: 0.0563 - accuracy: 0.9908 - f1_score: 0.9908 - val_loss: 0.1660 - val_accuracy: 0.9667 - val_f1_score: 0.9667 - lr: 3.3667e-05\n",
            "\n",
            "Epoch 6: LearningRateScheduler setting learning rate to 4.183333333333334e-05.\n",
            "Epoch 6/12\n",
            "225/225 [==============================] - 67s 298ms/step - loss: 0.0575 - accuracy: 0.9919 - f1_score: 0.9919 - val_loss: 0.1059 - val_accuracy: 0.9801 - val_f1_score: 0.9801 - lr: 4.1833e-05\n",
            "\n",
            "Epoch 7: LearningRateScheduler setting learning rate to 5e-05.\n",
            "Epoch 7/12\n",
            "225/225 [==============================] - 59s 263ms/step - loss: 0.0553 - accuracy: 0.9926 - f1_score: 0.9926 - val_loss: 0.0953 - val_accuracy: 0.9790 - val_f1_score: 0.9790 - lr: 5.0000e-05\n",
            "\n",
            "Epoch 8: LearningRateScheduler setting learning rate to 2.0600000000000003e-05.\n",
            "Epoch 8/12\n",
            "225/225 [==============================] - ETA: 0s - loss: 0.0373 - accuracy: 0.9979 - f1_score: 0.9979\n",
            "Epoch 8: ReduceLROnPlateau reducing learning rate to 2.060000042547472e-06.\n",
            "225/225 [==============================] - 59s 263ms/step - loss: 0.0373 - accuracy: 0.9979 - f1_score: 0.9979 - val_loss: 0.0953 - val_accuracy: 0.9796 - val_f1_score: 0.9795 - lr: 2.0600e-06\n",
            "\n",
            "Epoch 9: LearningRateScheduler setting learning rate to 8.840000000000003e-06.\n",
            "Epoch 9/12\n",
            "225/225 [==============================] - 67s 299ms/step - loss: 0.0332 - accuracy: 0.9997 - f1_score: 0.9997 - val_loss: 0.0754 - val_accuracy: 0.9860 - val_f1_score: 0.9860 - lr: 8.8400e-06\n",
            "\n",
            "Epoch 10: LearningRateScheduler setting learning rate to 4.136000000000001e-06.\n",
            "Epoch 10/12\n",
            "225/225 [==============================] - 59s 263ms/step - loss: 0.0319 - accuracy: 1.0000 - f1_score: 1.0000 - val_loss: 0.0787 - val_accuracy: 0.9860 - val_f1_score: 0.9860 - lr: 4.1360e-06\n",
            "\n",
            "Epoch 11: LearningRateScheduler setting learning rate to 2.2544000000000004e-06.\n",
            "Epoch 11/12\n",
            "225/225 [==============================] - ETA: 0s - loss: 0.0318 - accuracy: 1.0000 - f1_score: 1.0000\n",
            "Epoch 11: ReduceLROnPlateau reducing learning rate to 2.2543999875779266e-07.\n",
            "225/225 [==============================] - 59s 264ms/step - loss: 0.0318 - accuracy: 1.0000 - f1_score: 1.0000 - val_loss: 0.0789 - val_accuracy: 0.9854 - val_f1_score: 0.9854 - lr: 2.2544e-07\n",
            "\n",
            "Epoch 12: LearningRateScheduler setting learning rate to 1.5017600000000001e-06.\n",
            "Epoch 12/12\n",
            "225/225 [==============================] - 59s 264ms/step - loss: 0.0318 - accuracy: 1.0000 - f1_score: 1.0000 - val_loss: 0.0793 - val_accuracy: 0.9854 - val_f1_score: 0.9854 - lr: 1.5018e-06\n",
            "Loading best model...\n",
            "Type of fake_train1_list:  <class 'list'>\n",
            "Type of fake_test_list:  <class 'list'>\n",
            "43/43 [==============================] - 4s 72ms/step - loss: 0.0754 - accuracy: 0.9860 - f1_score: 0.9860\n"
          ]
        },
        {
          "output_type": "display_data",
          "data": {
            "text/plain": [
              "<Figure size 1080x360 with 2 Axes>"
            ],
            "image/png": "[encoded data removed]"
          },
          "metadata": {
            "needs_background": "light"
          }
        },
        {
          "output_type": "stream",
          "name": "stdout",
          "text": [
            "#### FOLD 3\n",
            "use pseudo\n"
          ]
        },
        {
          "output_type": "stream",
          "name": "stderr",
          "text": [
            "Truncation was not explicitly activated but `max_length` is provided a specific value, please use `truncation=True` to explicitly truncate examples to max length. Defaulting to 'longest_first' truncation strategy. If you encode pairs of sequences (GLUE-style) with the tokenizer you can select this strategy more precisely by providing a specific strategy to `truncation`.\n",
            "/usr/local/lib/python3.7/dist-packages/transformers/tokenization_utils_base.py:2306: FutureWarning: The `pad_to_max_length` argument is deprecated and will be removed in a future version, use `padding=True` or `padding='longest'` to pad to the longest sequence in the batch, or use `padding='max_length'` to pad to a max length. In this case, you can give a specific length with `max_length` (e.g. `max_length=45`) or leave max_length to None to pad to the maximal input size of the model (e.g. 512 for Bert).\n",
            "  FutureWarning,\n"
          ]
        },
        {
          "output_type": "stream",
          "name": "stdout",
          "text": [
            "[[1 0]\n",
            " [0 1]\n",
            " [0 1]\n",
            " [0 1]\n",
            " [0 1]]\n",
            "[[0 1]\n",
            " [0 1]\n",
            " [0 1]\n",
            " [1 0]\n",
            " [1 0]]\n"
          ]
        },
        {
          "output_type": "stream",
          "name": "stderr",
          "text": [
            "WARNING:tensorflow:TPU system grpc://10.36.243.162:8470 has already been initialized. Reinitializing the TPU can cause previously created variables on TPU to be lost.\n",
            "Some layers from the model checkpoint at digitalepidemiologylab/covid-twitter-bert were not used when initializing TFBertModel: ['mlm___cls', 'nsp___cls']\n",
            "- This IS expected if you are initializing TFBertModel from the checkpoint of a model trained on another task or with another architecture (e.g. initializing a BertForSequenceClassification model from a BertForPreTraining model).\n",
            "- This IS NOT expected if you are initializing TFBertModel from the checkpoint of a model that you expect to be exactly identical (initializing a BertForSequenceClassification model from a BertForSequenceClassification model).\n",
            "All the layers of TFBertModel were initialized from the model checkpoint at digitalepidemiologylab/covid-twitter-bert.\n",
            "If your task is similar to the task the model of the checkpoint was trained on, you can already use TFBertModel for predictions without further training.\n",
            "/usr/local/lib/python3.7/dist-packages/keras/optimizer_v2/adam.py:105: UserWarning: The `lr` argument is deprecated, use `learning_rate` instead.\n",
            "  super(Adam, self).__init__(name, **kwargs)\n"
          ]
        },
        {
          "output_type": "stream",
          "name": "stdout",
          "text": [
            "\n",
            "Epoch 1: LearningRateScheduler setting learning rate to 1e-06.\n",
            "Epoch 1/12\n"
          ]
        },
        {
          "output_type": "stream",
          "name": "stderr",
          "text": [
            "WARNING:tensorflow:Gradients do not exist for variables ['tf_bert_model/bert/pooler/dense/kernel:0', 'tf_bert_model/bert/pooler/dense/bias:0'] when minimizing the loss. If you're using `model.compile()`, did you forget to provide a `loss`argument?\n",
            "WARNING:tensorflow:Gradients do not exist for variables ['tf_bert_model/bert/pooler/dense/kernel:0', 'tf_bert_model/bert/pooler/dense/bias:0'] when minimizing the loss. If you're using `model.compile()`, did you forget to provide a `loss`argument?\n"
          ]
        },
        {
          "output_type": "stream",
          "name": "stdout",
          "text": [
            "225/225 [==============================] - 271s 452ms/step - loss: 0.4913 - accuracy: 0.7530 - f1_score: 0.7514 - val_loss: 0.2803 - val_accuracy: 0.8949 - val_f1_score: 0.8936 - lr: 1.0000e-06\n",
            "\n",
            "Epoch 2: LearningRateScheduler setting learning rate to 9.166666666666668e-06.\n",
            "Epoch 2/12\n",
            "225/225 [==============================] - 68s 300ms/step - loss: 0.1705 - accuracy: 0.9433 - f1_score: 0.9433 - val_loss: 0.0963 - val_accuracy: 0.9737 - val_f1_score: 0.9737 - lr: 9.1667e-06\n",
            "\n",
            "Epoch 3: LearningRateScheduler setting learning rate to 1.7333333333333336e-05.\n",
            "Epoch 3/12\n",
            "225/225 [==============================] - 60s 265ms/step - loss: 0.0907 - accuracy: 0.9767 - f1_score: 0.9767 - val_loss: 0.2245 - val_accuracy: 0.9410 - val_f1_score: 0.9410 - lr: 1.7333e-05\n",
            "\n",
            "Epoch 4: LearningRateScheduler setting learning rate to 2.5500000000000003e-05.\n",
            "Epoch 4/12\n",
            "225/225 [==============================] - 67s 298ms/step - loss: 0.0798 - accuracy: 0.9819 - f1_score: 0.9819 - val_loss: 0.0934 - val_accuracy: 0.9790 - val_f1_score: 0.9790 - lr: 2.5500e-05\n",
            "\n",
            "Epoch 5: LearningRateScheduler setting learning rate to 3.366666666666667e-05.\n",
            "Epoch 5/12\n",
            "225/225 [==============================] - 67s 297ms/step - loss: 0.0562 - accuracy: 0.9912 - f1_score: 0.9912 - val_loss: 0.0821 - val_accuracy: 0.9819 - val_f1_score: 0.9819 - lr: 3.3667e-05\n",
            "\n",
            "Epoch 6: LearningRateScheduler setting learning rate to 4.183333333333334e-05.\n",
            "Epoch 6/12\n",
            "225/225 [==============================] - 67s 298ms/step - loss: 0.0543 - accuracy: 0.9924 - f1_score: 0.9924 - val_loss: 0.0829 - val_accuracy: 0.9842 - val_f1_score: 0.9842 - lr: 4.1833e-05\n",
            "\n",
            "Epoch 7: LearningRateScheduler setting learning rate to 5e-05.\n",
            "Epoch 7/12\n",
            "225/225 [==============================] - 59s 263ms/step - loss: 0.0581 - accuracy: 0.9913 - f1_score: 0.9913 - val_loss: 0.1062 - val_accuracy: 0.9813 - val_f1_score: 0.9813 - lr: 5.0000e-05\n",
            "\n",
            "Epoch 8: LearningRateScheduler setting learning rate to 2.0600000000000003e-05.\n",
            "Epoch 8/12\n",
            "225/225 [==============================] - 67s 299ms/step - loss: 0.0396 - accuracy: 0.9976 - f1_score: 0.9976 - val_loss: 0.0841 - val_accuracy: 0.9866 - val_f1_score: 0.9866 - lr: 2.0600e-05\n",
            "\n",
            "Epoch 9: LearningRateScheduler setting learning rate to 8.840000000000003e-06.\n",
            "Epoch 9/12\n",
            "225/225 [==============================] - 59s 263ms/step - loss: 0.0331 - accuracy: 0.9996 - f1_score: 0.9996 - val_loss: 0.0778 - val_accuracy: 0.9866 - val_f1_score: 0.9866 - lr: 8.8400e-06\n",
            "\n",
            "Epoch 10: LearningRateScheduler setting learning rate to 4.136000000000001e-06.\n",
            "Epoch 10/12\n",
            "225/225 [==============================] - 67s 299ms/step - loss: 0.0320 - accuracy: 0.9999 - f1_score: 0.9999 - val_loss: 0.0716 - val_accuracy: 0.9877 - val_f1_score: 0.9877 - lr: 4.1360e-06\n",
            "\n",
            "Epoch 11: LearningRateScheduler setting learning rate to 2.2544000000000004e-06.\n",
            "Epoch 11/12\n",
            "225/225 [==============================] - 67s 297ms/step - loss: 0.0320 - accuracy: 0.9999 - f1_score: 0.9999 - val_loss: 0.0683 - val_accuracy: 0.9895 - val_f1_score: 0.9895 - lr: 2.2544e-06\n",
            "\n",
            "Epoch 12: LearningRateScheduler setting learning rate to 1.5017600000000001e-06.\n",
            "Epoch 12/12\n",
            "225/225 [==============================] - 59s 263ms/step - loss: 0.0318 - accuracy: 1.0000 - f1_score: 1.0000 - val_loss: 0.0695 - val_accuracy: 0.9895 - val_f1_score: 0.9895 - lr: 1.5018e-06\n",
            "Loading best model...\n",
            "Type of fake_train1_list:  <class 'list'>\n",
            "Type of fake_test_list:  <class 'list'>\n",
            "43/43 [==============================] - 4s 72ms/step - loss: 0.0683 - accuracy: 0.9895 - f1_score: 0.9895\n"
          ]
        },
        {
          "output_type": "display_data",
          "data": {
            "text/plain": [
              "<Figure size 1080x360 with 2 Axes>"
            ],
            "image/png": "[encoded data removed]"
          },
          "metadata": {
            "needs_background": "light"
          }
        },
        {
          "output_type": "stream",
          "name": "stdout",
          "text": [
            "#### FOLD 4\n",
            "use pseudo\n"
          ]
        },
        {
          "output_type": "stream",
          "name": "stderr",
          "text": [
            "Truncation was not explicitly activated but `max_length` is provided a specific value, please use `truncation=True` to explicitly truncate examples to max length. Defaulting to 'longest_first' truncation strategy. If you encode pairs of sequences (GLUE-style) with the tokenizer you can select this strategy more precisely by providing a specific strategy to `truncation`.\n",
            "/usr/local/lib/python3.7/dist-packages/transformers/tokenization_utils_base.py:2306: FutureWarning: The `pad_to_max_length` argument is deprecated and will be removed in a future version, use `padding=True` or `padding='longest'` to pad to the longest sequence in the batch, or use `padding='max_length'` to pad to a max length. In this case, you can give a specific length with `max_length` (e.g. `max_length=45`) or leave max_length to None to pad to the maximal input size of the model (e.g. 512 for Bert).\n",
            "  FutureWarning,\n"
          ]
        },
        {
          "output_type": "stream",
          "name": "stdout",
          "text": [
            "[[0 1]\n",
            " [0 1]\n",
            " [1 0]\n",
            " [0 1]\n",
            " [0 1]]\n",
            "[[0 1]\n",
            " [0 1]\n",
            " [1 0]\n",
            " [0 1]\n",
            " [0 1]]\n"
          ]
        },
        {
          "output_type": "stream",
          "name": "stderr",
          "text": [
            "WARNING:tensorflow:TPU system grpc://10.36.243.162:8470 has already been initialized. Reinitializing the TPU can cause previously created variables on TPU to be lost.\n",
            "Some layers from the model checkpoint at digitalepidemiologylab/covid-twitter-bert were not used when initializing TFBertModel: ['mlm___cls', 'nsp___cls']\n",
            "- This IS expected if you are initializing TFBertModel from the checkpoint of a model trained on another task or with another architecture (e.g. initializing a BertForSequenceClassification model from a BertForPreTraining model).\n",
            "- This IS NOT expected if you are initializing TFBertModel from the checkpoint of a model that you expect to be exactly identical (initializing a BertForSequenceClassification model from a BertForSequenceClassification model).\n",
            "All the layers of TFBertModel were initialized from the model checkpoint at digitalepidemiologylab/covid-twitter-bert.\n",
            "If your task is similar to the task the model of the checkpoint was trained on, you can already use TFBertModel for predictions without further training.\n",
            "/usr/local/lib/python3.7/dist-packages/keras/optimizer_v2/adam.py:105: UserWarning: The `lr` argument is deprecated, use `learning_rate` instead.\n",
            "  super(Adam, self).__init__(name, **kwargs)\n"
          ]
        },
        {
          "output_type": "stream",
          "name": "stdout",
          "text": [
            "\n",
            "Epoch 1: LearningRateScheduler setting learning rate to 1e-06.\n",
            "Epoch 1/12\n"
          ]
        },
        {
          "output_type": "stream",
          "name": "stderr",
          "text": [
            "WARNING:tensorflow:Gradients do not exist for variables ['tf_bert_model/bert/pooler/dense/kernel:0', 'tf_bert_model/bert/pooler/dense/bias:0'] when minimizing the loss. If you're using `model.compile()`, did you forget to provide a `loss`argument?\n",
            "WARNING:tensorflow:Gradients do not exist for variables ['tf_bert_model/bert/pooler/dense/kernel:0', 'tf_bert_model/bert/pooler/dense/bias:0'] when minimizing the loss. If you're using `model.compile()`, did you forget to provide a `loss`argument?\n"
          ]
        },
        {
          "output_type": "stream",
          "name": "stdout",
          "text": [
            "225/225 [==============================] - 271s 448ms/step - loss: 0.4508 - accuracy: 0.7840 - f1_score: 0.7824 - val_loss: 0.2546 - val_accuracy: 0.8937 - val_f1_score: 0.8926 - lr: 1.0000e-06\n",
            "\n",
            "Epoch 2: LearningRateScheduler setting learning rate to 9.166666666666668e-06.\n",
            "Epoch 2/12\n",
            "225/225 [==============================] - 67s 297ms/step - loss: 0.1495 - accuracy: 0.9510 - f1_score: 0.9510 - val_loss: 0.0853 - val_accuracy: 0.9813 - val_f1_score: 0.9813 - lr: 9.1667e-06\n",
            "\n",
            "Epoch 3: LearningRateScheduler setting learning rate to 1.7333333333333336e-05.\n",
            "Epoch 3/12\n",
            "225/225 [==============================] - 67s 299ms/step - loss: 0.0725 - accuracy: 0.9866 - f1_score: 0.9866 - val_loss: 0.0655 - val_accuracy: 0.9895 - val_f1_score: 0.9895 - lr: 1.7333e-05\n",
            "\n",
            "Epoch 4: LearningRateScheduler setting learning rate to 2.5500000000000003e-05.\n",
            "Epoch 4/12\n",
            "225/225 [==============================] - 59s 264ms/step - loss: 0.0562 - accuracy: 0.9917 - f1_score: 0.9917 - val_loss: 0.1030 - val_accuracy: 0.9790 - val_f1_score: 0.9789 - lr: 2.5500e-05\n",
            "\n",
            "Epoch 5: LearningRateScheduler setting learning rate to 3.366666666666667e-05.\n",
            "Epoch 5/12\n",
            "225/225 [==============================] - ETA: 0s - loss: 0.0624 - accuracy: 0.9901 - f1_score: 0.9901\n",
            "Epoch 5: ReduceLROnPlateau reducing learning rate to 3.3666667150100695e-06.\n",
            "225/225 [==============================] - 59s 264ms/step - loss: 0.0624 - accuracy: 0.9901 - f1_score: 0.9901 - val_loss: 0.0698 - val_accuracy: 0.9860 - val_f1_score: 0.9860 - lr: 3.3667e-06\n",
            "\n",
            "Epoch 6: LearningRateScheduler setting learning rate to 4.183333333333334e-05.\n",
            "Epoch 6/12\n",
            "225/225 [==============================] - 59s 264ms/step - loss: 0.0460 - accuracy: 0.9954 - f1_score: 0.9954 - val_loss: 0.0992 - val_accuracy: 0.9807 - val_f1_score: 0.9807 - lr: 4.1833e-05\n",
            "\n",
            "Epoch 7: LearningRateScheduler setting learning rate to 5e-05.\n",
            "Epoch 7/12\n",
            "225/225 [==============================] - ETA: 0s - loss: 0.0672 - accuracy: 0.9881 - f1_score: 0.9881\n",
            "Epoch 7: ReduceLROnPlateau reducing learning rate to 4.999999873689376e-06.\n",
            "225/225 [==============================] - 60s 265ms/step - loss: 0.0672 - accuracy: 0.9881 - f1_score: 0.9881 - val_loss: 0.1295 - val_accuracy: 0.9720 - val_f1_score: 0.9720 - lr: 5.0000e-06\n",
            "\n",
            "Epoch 8: LearningRateScheduler setting learning rate to 2.0600000000000003e-05.\n",
            "Epoch 8/12\n",
            "225/225 [==============================] - 59s 264ms/step - loss: 0.0386 - accuracy: 0.9979 - f1_score: 0.9979 - val_loss: 0.0863 - val_accuracy: 0.9848 - val_f1_score: 0.9848 - lr: 2.0600e-05\n",
            "\n",
            "Epoch 9: LearningRateScheduler setting learning rate to 8.840000000000003e-06.\n",
            "Epoch 9/12\n",
            "225/225 [==============================] - ETA: 0s - loss: 0.0342 - accuracy: 0.9994 - f1_score: 0.9994\n",
            "Epoch 9: ReduceLROnPlateau reducing learning rate to 8.840000191412401e-07.\n",
            "225/225 [==============================] - 59s 264ms/step - loss: 0.0342 - accuracy: 0.9994 - f1_score: 0.9994 - val_loss: 0.0857 - val_accuracy: 0.9848 - val_f1_score: 0.9848 - lr: 8.8400e-07\n",
            "\n",
            "Epoch 10: LearningRateScheduler setting learning rate to 4.136000000000001e-06.\n",
            "Epoch 10/12\n",
            "225/225 [==============================] - 59s 264ms/step - loss: 0.0334 - accuracy: 0.9994 - f1_score: 0.9994 - val_loss: 0.0757 - val_accuracy: 0.9860 - val_f1_score: 0.9860 - lr: 4.1360e-06\n",
            "\n",
            "Epoch 11: LearningRateScheduler setting learning rate to 2.2544000000000004e-06.\n",
            "Epoch 11/12\n",
            "225/225 [==============================] - ETA: 0s - loss: 0.0325 - accuracy: 0.9999 - f1_score: 0.9999\n",
            "Epoch 11: ReduceLROnPlateau reducing learning rate to 2.2543999875779266e-07.\n",
            "225/225 [==============================] - 59s 264ms/step - loss: 0.0325 - accuracy: 0.9999 - f1_score: 0.9999 - val_loss: 0.0786 - val_accuracy: 0.9860 - val_f1_score: 0.9860 - lr: 2.2544e-07\n",
            "\n",
            "Epoch 12: LearningRateScheduler setting learning rate to 1.5017600000000001e-06.\n",
            "Epoch 12/12\n",
            "225/225 [==============================] - 59s 264ms/step - loss: 0.0322 - accuracy: 1.0000 - f1_score: 1.0000 - val_loss: 0.0766 - val_accuracy: 0.9866 - val_f1_score: 0.9866 - lr: 1.5018e-06\n",
            "Loading best model...\n",
            "Type of fake_train1_list:  <class 'list'>\n",
            "Type of fake_test_list:  <class 'list'>\n",
            "43/43 [==============================] - 4s 72ms/step - loss: 0.0655 - accuracy: 0.9895 - f1_score: 0.9895\n"
          ]
        },
        {
          "output_type": "display_data",
          "data": {
            "text/plain": [
              "<Figure size 1080x360 with 2 Axes>"
            ],
            "image/png": "[encoded data removed]"
          },
          "metadata": {
            "needs_background": "light"
          }
        },
        {
          "output_type": "stream",
          "name": "stdout",
          "text": [
            "#### FOLD 5\n",
            "use pseudo\n"
          ]
        },
        {
          "output_type": "stream",
          "name": "stderr",
          "text": [
            "Truncation was not explicitly activated but `max_length` is provided a specific value, please use `truncation=True` to explicitly truncate examples to max length. Defaulting to 'longest_first' truncation strategy. If you encode pairs of sequences (GLUE-style) with the tokenizer you can select this strategy more precisely by providing a specific strategy to `truncation`.\n",
            "/usr/local/lib/python3.7/dist-packages/transformers/tokenization_utils_base.py:2306: FutureWarning: The `pad_to_max_length` argument is deprecated and will be removed in a future version, use `padding=True` or `padding='longest'` to pad to the longest sequence in the batch, or use `padding='max_length'` to pad to a max length. In this case, you can give a specific length with `max_length` (e.g. `max_length=45`) or leave max_length to None to pad to the maximal input size of the model (e.g. 512 for Bert).\n",
            "  FutureWarning,\n"
          ]
        },
        {
          "output_type": "stream",
          "name": "stdout",
          "text": [
            "[[0 1]\n",
            " [0 1]\n",
            " [0 1]\n",
            " [0 1]\n",
            " [0 1]]\n",
            "[[1 0]\n",
            " [1 0]\n",
            " [1 0]\n",
            " [1 0]\n",
            " [0 1]]\n"
          ]
        },
        {
          "output_type": "stream",
          "name": "stderr",
          "text": [
            "WARNING:tensorflow:TPU system grpc://10.36.243.162:8470 has already been initialized. Reinitializing the TPU can cause previously created variables on TPU to be lost.\n",
            "Some layers from the model checkpoint at digitalepidemiologylab/covid-twitter-bert were not used when initializing TFBertModel: ['mlm___cls', 'nsp___cls']\n",
            "- This IS expected if you are initializing TFBertModel from the checkpoint of a model trained on another task or with another architecture (e.g. initializing a BertForSequenceClassification model from a BertForPreTraining model).\n",
            "- This IS NOT expected if you are initializing TFBertModel from the checkpoint of a model that you expect to be exactly identical (initializing a BertForSequenceClassification model from a BertForSequenceClassification model).\n",
            "All the layers of TFBertModel were initialized from the model checkpoint at digitalepidemiologylab/covid-twitter-bert.\n",
            "If your task is similar to the task the model of the checkpoint was trained on, you can already use TFBertModel for predictions without further training.\n",
            "/usr/local/lib/python3.7/dist-packages/keras/optimizer_v2/adam.py:105: UserWarning: The `lr` argument is deprecated, use `learning_rate` instead.\n",
            "  super(Adam, self).__init__(name, **kwargs)\n"
          ]
        },
        {
          "output_type": "stream",
          "name": "stdout",
          "text": [
            "\n",
            "Epoch 1: LearningRateScheduler setting learning rate to 1e-06.\n",
            "Epoch 1/12\n"
          ]
        },
        {
          "output_type": "stream",
          "name": "stderr",
          "text": [
            "WARNING:tensorflow:Gradients do not exist for variables ['tf_bert_model/bert/pooler/dense/kernel:0', 'tf_bert_model/bert/pooler/dense/bias:0'] when minimizing the loss. If you're using `model.compile()`, did you forget to provide a `loss`argument?\n",
            "WARNING:tensorflow:Gradients do not exist for variables ['tf_bert_model/bert/pooler/dense/kernel:0', 'tf_bert_model/bert/pooler/dense/bias:0'] when minimizing the loss. If you're using `model.compile()`, did you forget to provide a `loss`argument?\n"
          ]
        },
        {
          "output_type": "stream",
          "name": "stdout",
          "text": [
            "225/225 [==============================] - 272s 449ms/step - loss: 0.3797 - accuracy: 0.8258 - f1_score: 0.8253 - val_loss: 0.2428 - val_accuracy: 0.9042 - val_f1_score: 0.9032 - lr: 1.0000e-06\n",
            "\n",
            "Epoch 2: LearningRateScheduler setting learning rate to 9.166666666666668e-06.\n",
            "Epoch 2/12\n",
            "225/225 [==============================] - 68s 303ms/step - loss: 0.1512 - accuracy: 0.9510 - f1_score: 0.9510 - val_loss: 0.0958 - val_accuracy: 0.9743 - val_f1_score: 0.9743 - lr: 9.1667e-06\n",
            "\n",
            "Epoch 3: LearningRateScheduler setting learning rate to 1.7333333333333336e-05.\n",
            "Epoch 3/12\n",
            "225/225 [==============================] - 67s 299ms/step - loss: 0.0774 - accuracy: 0.9841 - f1_score: 0.9841 - val_loss: 0.0828 - val_accuracy: 0.9825 - val_f1_score: 0.9825 - lr: 1.7333e-05\n",
            "\n",
            "Epoch 4: LearningRateScheduler setting learning rate to 2.5500000000000003e-05.\n",
            "Epoch 4/12\n",
            "225/225 [==============================] - 67s 300ms/step - loss: 0.0607 - accuracy: 0.9893 - f1_score: 0.9893 - val_loss: 0.0870 - val_accuracy: 0.9831 - val_f1_score: 0.9831 - lr: 2.5500e-05\n",
            "\n",
            "Epoch 5: LearningRateScheduler setting learning rate to 3.366666666666667e-05.\n",
            "Epoch 5/12\n",
            "225/225 [==============================] - 67s 298ms/step - loss: 0.0545 - accuracy: 0.9927 - f1_score: 0.9927 - val_loss: 0.0825 - val_accuracy: 0.9854 - val_f1_score: 0.9854 - lr: 3.3667e-05\n",
            "\n",
            "Epoch 6: LearningRateScheduler setting learning rate to 4.183333333333334e-05.\n",
            "Epoch 6/12\n",
            "225/225 [==============================] - 59s 264ms/step - loss: 0.0574 - accuracy: 0.9917 - f1_score: 0.9917 - val_loss: 0.0850 - val_accuracy: 0.9813 - val_f1_score: 0.9813 - lr: 4.1833e-05\n",
            "\n",
            "Epoch 7: LearningRateScheduler setting learning rate to 5e-05.\n",
            "Epoch 7/12\n",
            "225/225 [==============================] - ETA: 0s - loss: 0.0482 - accuracy: 0.9946 - f1_score: 0.9946\n",
            "Epoch 7: ReduceLROnPlateau reducing learning rate to 4.999999873689376e-06.\n",
            "225/225 [==============================] - 60s 266ms/step - loss: 0.0482 - accuracy: 0.9946 - f1_score: 0.9946 - val_loss: 0.1443 - val_accuracy: 0.9743 - val_f1_score: 0.9743 - lr: 5.0000e-06\n",
            "\n",
            "Epoch 8: LearningRateScheduler setting learning rate to 2.0600000000000003e-05.\n",
            "Epoch 8/12\n",
            "225/225 [==============================] - 59s 264ms/step - loss: 0.0390 - accuracy: 0.9978 - f1_score: 0.9978 - val_loss: 0.0832 - val_accuracy: 0.9848 - val_f1_score: 0.9848 - lr: 2.0600e-05\n",
            "\n",
            "Epoch 9: LearningRateScheduler setting learning rate to 8.840000000000003e-06.\n",
            "Epoch 9/12\n",
            "225/225 [==============================] - ETA: 0s - loss: 0.0342 - accuracy: 0.9993 - f1_score: 0.9993\n",
            "Epoch 9: ReduceLROnPlateau reducing learning rate to 8.840000191412401e-07.\n",
            "225/225 [==============================] - 59s 263ms/step - loss: 0.0342 - accuracy: 0.9993 - f1_score: 0.9993 - val_loss: 0.0822 - val_accuracy: 0.9842 - val_f1_score: 0.9842 - lr: 8.8400e-07\n",
            "\n",
            "Epoch 10: LearningRateScheduler setting learning rate to 4.136000000000001e-06.\n",
            "Epoch 10/12\n",
            "225/225 [==============================] - 67s 299ms/step - loss: 0.0328 - accuracy: 0.9998 - f1_score: 0.9998 - val_loss: 0.0731 - val_accuracy: 0.9860 - val_f1_score: 0.9860 - lr: 4.1360e-06\n",
            "\n",
            "Epoch 11: LearningRateScheduler setting learning rate to 2.2544000000000004e-06.\n",
            "Epoch 11/12\n",
            "225/225 [==============================] - 67s 298ms/step - loss: 0.0323 - accuracy: 0.9999 - f1_score: 0.9999 - val_loss: 0.0737 - val_accuracy: 0.9866 - val_f1_score: 0.9866 - lr: 2.2544e-06\n",
            "\n",
            "Epoch 12: LearningRateScheduler setting learning rate to 1.5017600000000001e-06.\n",
            "Epoch 12/12\n",
            "225/225 [==============================] - 59s 263ms/step - loss: 0.0321 - accuracy: 1.0000 - f1_score: 1.0000 - val_loss: 0.0730 - val_accuracy: 0.9866 - val_f1_score: 0.9866 - lr: 1.5018e-06\n",
            "Loading best model...\n",
            "Type of fake_train1_list:  <class 'list'>\n",
            "Type of fake_test_list:  <class 'list'>\n",
            "43/43 [==============================] - 4s 72ms/step - loss: 0.0737 - accuracy: 0.9866 - f1_score: 0.9866\n"
          ]
        },
        {
          "output_type": "display_data",
          "data": {
            "text/plain": [
              "<Figure size 1080x360 with 2 Axes>"
            ],
            "image/png": "[encoded data removed]"
          },
          "metadata": {
            "needs_background": "light"
          }
        }
      ],
      "source": [
        "preds = []\n",
        "weights = []\n",
        "models = [\"digitalepidemiologylab/covid-twitter-bert\",\"distilroberta-base\",\"nghuyong/ernie-2.0-en\",\"lordtt13/COVID-SciBERT\",\"digitalepidemiologylab/covid-twitter-bert-v2\"]\n",
        "for fold,(train,valid) in enumerate(kfold.split(fake_train1.tweet,fake_train1.label)):\n",
        "    print('#### FOLD',fold+1)\n",
        "    x_train,x_valid,y_train,y_valid = fake_train1.tweet[train],fake_train1.tweet[valid]\\\n",
        "    ,fake_train1.label[train],fake_train1.label[valid]\n",
        "    if (use_pseudo):\n",
        "        print(\"use pseudo\")\n",
        "        x_train = pd.concat([x_train, df_pseudo.tweet]).reset_index(drop=True)\n",
        "        y_train = pd.concat([y_train, df_pseudo.label]).reset_index(drop=True)\n",
        "    if (use_external2):\n",
        "        x_train = pd.concat([x_train, fake_external2.tweet]).reset_index(drop=True)\n",
        "        y_train = pd.concat([y_train, fake_external2.label]).reset_index(drop=True)\n",
        "    \n",
        "    x_train = x_train.tolist()\n",
        "    y_train = y_train.tolist()\n",
        "    y_valid = y_valid.tolist()\n",
        "    x_valid = x_valid.tolist()\n",
        "\n",
        "    \n",
        "    tokenizer = AutoTokenizer.from_pretrained(models[0])\n",
        "    \n",
        "    x_fake_train = regular_encode(x_train,tokenizer, maxlen=max_len)\n",
        "    x_fake_valid = regular_encode(x_valid,tokenizer,maxlen=max_len)\n",
        "\n",
        "    y_fake_train = to_categorical(y_train,dtype='int32')\n",
        "    y_fake_valid = to_categorical(y_valid,dtype='int32')\n",
        "\n",
        "    print(y_fake_train[0:5])\n",
        "    print(y_fake_valid[0:5])\n",
        "    \n",
        "    train_dataset = get_train_dataset(x_fake_train,y_fake_train)\n",
        "    valid_dataset = get_valid_dataset(x_fake_valid,y_fake_valid)\n",
        "    \n",
        "    \n",
        "    n_steps = x_fake_train.shape[0] // batch_size\n",
        "\n",
        "    # BUILD MODEL\n",
        "    K.clear_session()\n",
        "    tf.tpu.experimental.initialize_tpu_system(tpu)\n",
        "    with strategy.scope():\n",
        "        transformer_layer = TFAutoModel.from_pretrained(models[0])\n",
        "        model = build_model(transformer_layer, max_len=max_len)\n",
        "    \n",
        "    #early_stopping = tf.keras.callbacks.EarlyStopping(monitor='val_loss', min_delta=0, patience=2, verbose=0, mode='auto', baseline=None, restore_best_weights=False)\n",
        "        \n",
        "    sv = tf.keras.callbacks.ModelCheckpoint(\n",
        "        'fold-%i.h5'%fold, monitor='val_f1_score', verbose=0, save_best_only=True,\n",
        "        save_weights_only=True, mode='max', save_freq='epoch')\n",
        "    cb_lr_schedule = tf.keras.callbacks.ReduceLROnPlateau(\n",
        "        monitor = 'val_f1_score', factor = 0.1, patience = 2, verbose = 2, min_delta = 0.0001, mode = 'max')\n",
        "    \n",
        "    train_history = model.fit(\n",
        "    train_dataset,\n",
        "    steps_per_epoch=n_steps,\n",
        "    callbacks = [cb_lr_schedule,sv,lr_warm_up],\n",
        "    validation_data= valid_dataset, epochs=epochs)\n",
        "    \n",
        "    \n",
        "    print('Loading best model...')\n",
        "    model.load_weights('fold-%i.h5'%fold)\n",
        "\n",
        "    fake_train1_list = fake_train1['tweet'].tolist()\n",
        "    fake_test_list = fake_test['tweet'].tolist()\n",
        "\n",
        "    print(\"Type of fake_train1_list: \", type(fake_train1_list))\n",
        "    print(\"Type of fake_test_list: \", type(fake_test_list))\n",
        "    \n",
        "        \n",
        "    x_full_train = regular_encode(fake_train1_list, tokenizer, maxlen=max_len)\n",
        "    \n",
        "    \n",
        "    weights.append(model.evaluate(valid_dataset)[2])\n",
        "    x_fake_test = regular_encode(fake_test_list,tokenizer,maxlen=max_len)\n",
        "    preds.append(model.predict(x_fake_test))\n",
        "    \n",
        "    \n",
        "    if display_plot:\n",
        "        plt.figure(figsize=(15,5))\n",
        "        plt.plot(np.arange(epochs),train_history.history['f1_score'],'-o',label='Train F1 Score',color='#ff7f0e')\n",
        "        plt.plot(np.arange(epochs),train_history.history['val_f1_score'],'-o',label='Val F1 Score',color='#1f77b4')\n",
        "        x = np.argmax( train_history.history['val_f1_score'] ); y = np.max( train_history.history['val_f1_score'] )\n",
        "        xdist = plt.xlim()[1] - plt.xlim()[0]; ydist = plt.ylim()[1] - plt.ylim()[0]\n",
        "        plt.scatter(x,y,s=200,color='#1f77b4'); plt.text(x-0.03*xdist,y-0.13*ydist,'max score\\n%.2f'%y,size=14)\n",
        "        plt.ylabel('F1 Score',size=14); plt.xlabel('Epoch',size=14)\n",
        "        plt.legend(loc=2)\n",
        "        plt2 = plt.gca().twinx()\n",
        "        plt2.plot(np.arange(epochs),train_history.history['loss'],'-o',label='Train Loss',color='#2ca02c')\n",
        "        plt2.plot(np.arange(epochs),train_history.history['val_loss'],'-o',label='Val Loss',color='#d62728')\n",
        "        x = np.argmin( train_history.history['val_loss'] ); y = np.min( train_history.history['val_loss'] )\n",
        "        ydist = plt.ylim()[1] - plt.ylim()[0]\n",
        "        plt.scatter(x,y,s=200,color='#d62728'); plt.text(x-0.03*xdist,y+0.05*ydist,'min loss',size=14)\n",
        "        plt.ylabel('Loss',size=14)\n",
        "        plt.title('FOLD %i'%(fold+1),size=18)\n",
        "        plt.legend(loc=3)\n",
        "        plt.show()  \n",
        "        \n",
        "    del model"
      ]
    },
    {
      "cell_type": "code",
      "execution_count": 108,
      "metadata": {
        "id": "24Gc8rRMVeIu"
      },
      "outputs": [],
      "source": [
        "def weight_ensemble(weights,predictions):\n",
        "    weight_sum = np.sum(weights)  \n",
        "    prediction_sum = 0\n",
        "    for i in range(len(weights)):\n",
        "        prediction_sum += (weights[i]/weight_sum)*predictions[i]\n",
        "    print(prediction_sum)\n",
        "    np.savez('model_predict_weight',prediction_sum)\n",
        "    result = np.argmax(prediction_sum,axis=1)\n",
        "    return result"
      ]
    },
    {
      "cell_type": "code",
      "execution_count": 109,
      "metadata": {
        "id": "sXzyZFhKVeIv"
      },
      "outputs": [],
      "source": [
        "def mean_ensemble(predictions):\n",
        "    result = np.argmax(np.mean(predictions,axis=0),axis=1)\n",
        "    np.savez('model_predict_mean',np.mean(predictions,axis=0))\n",
        "    return result"
      ]
    },
    {
      "cell_type": "code",
      "execution_count": 110,
      "metadata": {
        "colab": {
          "base_uri": "https://localhost:8080/"
        },
        "id": "KB4BRbCSVeIv",
        "outputId": "45f8fedb-c174-4cc2-b38e-0d0809226cbc"
      },
      "outputs": [
        {
          "output_type": "stream",
          "name": "stdout",
          "text": [
            "[[0.00284702 0.997153  ]\n",
            " [0.996856   0.00314397]\n",
            " [0.9968453  0.0031547 ]\n",
            " ...\n",
            " [0.00295697 0.997043  ]\n",
            " [0.00325947 0.9967406 ]\n",
            " [0.00324808 0.9967519 ]]\n"
          ]
        }
      ],
      "source": [
        "weight_result= weight_ensemble(weights,preds)"
      ]
    },
    {
      "cell_type": "code",
      "execution_count": 111,
      "metadata": {
        "id": "6rMHbupLVeIv"
      },
      "outputs": [],
      "source": [
        "data1 = np.load('./model_predict_weight.npz')"
      ]
    },
    {
      "cell_type": "code",
      "execution_count": 112,
      "metadata": {
        "id": "DEgkXZYwVeIv",
        "colab": {
          "base_uri": "https://localhost:8080/"
        },
        "outputId": "0167f02a-f2d8-4907-a957-1144a8c07b36"
      },
      "outputs": [
        {
          "output_type": "execute_result",
          "data": {
            "text/plain": [
              "0.4803738317757009"
            ]
          },
          "metadata": {},
          "execution_count": 112
        }
      ],
      "source": [
        "mean_result = mean_ensemble(preds)\n",
        "f1_Score= f1_score(np.array(fake_valid1.label,dtype='int32'),mean_result,average='weighted')\n",
        "f1_Score"
      ]
    },
    {
      "cell_type": "code",
      "execution_count": 113,
      "metadata": {
        "id": "w5LB2TOIVeIv",
        "colab": {
          "base_uri": "https://localhost:8080/"
        },
        "outputId": "34385fa7-50d0-4ab2-cb8f-847fd7927132"
      },
      "outputs": [
        {
          "output_type": "execute_result",
          "data": {
            "text/plain": [
              "0.4803738317757009"
            ]
          },
          "metadata": {},
          "execution_count": 113
        }
      ],
      "source": [
        "result = np.argmax(preds[4],axis=1)\n",
        "f1_score(np.array(fake_valid1.label,dtype='int32'),result,average='weighted')"
      ]
    },
    {
      "cell_type": "code",
      "execution_count": 114,
      "metadata": {
        "id": "iDhC0E8OVeIv"
      },
      "outputs": [],
      "source": [
        "def make_submission(result):\n",
        "    submission = pd.DataFrame(columns=['id','label'])\n",
        "    submission.label = result\n",
        "    nlist = range(1,result.shape[0]+1)\n",
        "    submission.id = nlist\n",
        "    submission.to_csv('answer.txt', index=False)"
      ]
    },
    {
      "cell_type": "code",
      "execution_count": 115,
      "metadata": {
        "id": "rZHqVOK7VeIv"
      },
      "outputs": [],
      "source": [
        "make_submission(weight_result)"
      ]
    },
    {
      "cell_type": "code",
      "source": [
        "make_submission(mean_result)"
      ],
      "metadata": {
        "id": "Oz-eH-mmHjmY"
      },
      "execution_count": 116,
      "outputs": []
    },
    {
      "cell_type": "code",
      "execution_count": 117,
      "metadata": {
        "colab": {
          "base_uri": "https://localhost:8080/"
        },
        "id": "jOp9NFvvVeIv",
        "outputId": "c00f37d1-7c92-46f1-8a07-7684dae03843"
      },
      "outputs": [
        {
          "output_type": "execute_result",
          "data": {
            "text/plain": [
              "11"
            ]
          },
          "metadata": {},
          "execution_count": 117
        }
      ],
      "source": [
        "x"
      ]
    },
    {
      "cell_type": "code",
      "execution_count": 118,
      "metadata": {
        "id": "kd2jOeQ7VeIy"
      },
      "outputs": [],
      "source": [
        "submission = pd.DataFrame(columns=['id','label'])\n",
        "submission.label = weight_result\n",
        "nlist = range(1,weight_result.shape[0]+1)\n",
        "submission.id = nlist\n",
        "submission.to_csv('answer.txt', index=False)"
      ]
    },
    {
      "cell_type": "code",
      "execution_count": 119,
      "metadata": {
        "colab": {
          "base_uri": "https://localhost:8080/",
          "height": 1000,
          "referenced_widgets": [
            "9754c67b40574197802a99cce77616ea",
            "c5ab5405f3514ba8ade30914335fb85e",
            "9f8c35af8de94461a81d0630e57172f4",
            "fdf7c85bada84c0b94934109dc337abc",
            "7914d354521647858722fb547e65df7f",
            "f47e258a1cb2444b8c0da3e6077f8e13",
            "820675d3673441708b3ebfcaa91fa602",
            "2789f392d9254d3387f249f68b98b396",
            "03e9ae243b354cf3be92efbbe5ce764b",
            "929ebdbd3f5d4715ae158ce52f8e4823",
            "0c001a2400584a7b8b269e654e92ba98",
            "35c85010e60b4db7aca6a2cd3ba849d4",
            "184c48755ec348b5bea7cd686562a17c",
            "1ee85169d3924499ac64962c367e3a01",
            "5ede8dad23254872911a2e778f570860",
            "131e91ff0ae14c09b60e0a6629c58816",
            "4389c1e8631849e093db943ac2e8a314",
            "b984bd5f2bf5419283f1715422a1f899",
            "68ec3b99cee84b2b9bfc84a20ea0decf",
            "0595c7e341b94efdb4537c299797a5f1",
            "e12b3daeefba4be0b16273c3e7332cd5",
            "a58b37dbcad24d1187f531ba10d1dee4",
            "8c194627aac6412087c823b325725c21",
            "da7ab8707b954b13aefea02b8bbc3155",
            "564de2ef099d430d89821a59b1e84e33",
            "855bbdbe3c814d98b6e5d317f43eb1cb",
            "519fb0628ab940e69bd6ad7c52800381",
            "8511437510ee4e26b914592819285afb",
            "97b6dc3618fe4d2e9736c0cbec024719",
            "c1576cff5a1f4402beb825671af65a57",
            "9abaa060462f45b6baa1fa5789d70058",
            "26592b28e8bb4e67b49739fbaf16a28b",
            "041ce8aa9b254025b9d260e8e48250a8",
            "3014e9b0f4c9403fb58b3acb77067fd1",
            "4dad06ab47f146d6b67d9954405fec75",
            "6826e016e6aa44d5bcd95d127c932382",
            "fd26ac4327634f83b9f7e56e62ee3fff",
            "e39066d389d24e9cb4614f5d00021752",
            "3ce1bd581c2b4d378a3243ee02f8282b",
            "5117be5a8d304596929c46115b4d91dd",
            "e573854f9cc04b5cb6cf04432a725841",
            "c41ac9d3d98b427b8a2f21f38144a815",
            "470b4fd202904dfe8adb9a6dd050bce3",
            "0a18a78a1e26457090c2620f6809016e",
            "a632af44e2214323bae60dc8a8d5ba0a",
            "bde714f4691c4ab787db70050a681bca",
            "18eec9671fdf4232bbac672cb253fb87",
            "81903085b25d47acb627a1fcf4999b1e",
            "4c56b453215143d2958f00dc9d00b79d",
            "94f3df30b2814b47ae7398f3d6c40aa8",
            "c5f5b042010040b996708d6456337c72",
            "e2ca478f541245d78534232cef7d6c68",
            "54572f9bbcfd4732b376a24787efca18",
            "1d468554be4c432b93fc13e5c97e0c09",
            "dfd8556d3854448db479e5764a9a5530",
            "dbc5d9e3115847d68907d2307500f593",
            "8a8bd3f38c3a4ebfbf3a6b90bc17147c",
            "96cd1d316444452aa2aa31bb01cdc5a0",
            "219b761b411340a68e7e217dc4404496",
            "acfddb11322c4d4d8535cb9e9970e634",
            "8f8e80e6de23409b9286c49acfc76472",
            "2ef0a1e0b1454dc7936f363ee369261b",
            "a3437d384bdf427e9a4cd58e65dde61f",
            "7927eb8f79c940f9add371bd6275ae1c",
            "709440b3fefb46ff832b1fafd8f939b0",
            "cb47ca32131e45a18d88f096ffc6d0f9"
          ]
        },
        "id": "z0e3GyAPVeIy",
        "outputId": "44c22075-197f-47ae-d4b5-ce64bcfd7258"
      },
      "outputs": [
        {
          "output_type": "display_data",
          "data": {
            "text/plain": [
              "Downloading:   0%|          | 0.00/2.00 [00:00<?, ?B/s]"
            ],
            "application/vnd.jupyter.widget-view+json": {
              "version_major": 2,
              "version_minor": 0,
              "model_id": "9754c67b40574197802a99cce77616ea"
            }
          },
          "metadata": {}
        },
        {
          "output_type": "display_data",
          "data": {
            "text/plain": [
              "Downloading:   0%|          | 0.00/468 [00:00<?, ?B/s]"
            ],
            "application/vnd.jupyter.widget-view+json": {
              "version_major": 2,
              "version_minor": 0,
              "model_id": "35c85010e60b4db7aca6a2cd3ba849d4"
            }
          },
          "metadata": {}
        },
        {
          "output_type": "display_data",
          "data": {
            "text/plain": [
              "Downloading:   0%|          | 0.00/228k [00:00<?, ?B/s]"
            ],
            "application/vnd.jupyter.widget-view+json": {
              "version_major": 2,
              "version_minor": 0,
              "model_id": "8c194627aac6412087c823b325725c21"
            }
          },
          "metadata": {}
        },
        {
          "output_type": "display_data",
          "data": {
            "text/plain": [
              "Downloading:   0%|          | 0.00/15.6k [00:00<?, ?B/s]"
            ],
            "application/vnd.jupyter.widget-view+json": {
              "version_major": 2,
              "version_minor": 0,
              "model_id": "3014e9b0f4c9403fb58b3acb77067fd1"
            }
          },
          "metadata": {}
        },
        {
          "output_type": "display_data",
          "data": {
            "text/plain": [
              "Downloading:   0%|          | 0.00/112 [00:00<?, ?B/s]"
            ],
            "application/vnd.jupyter.widget-view+json": {
              "version_major": 2,
              "version_minor": 0,
              "model_id": "a632af44e2214323bae60dc8a8d5ba0a"
            }
          },
          "metadata": {}
        },
        {
          "output_type": "stream",
          "name": "stderr",
          "text": [
            "Truncation was not explicitly activated but `max_length` is provided a specific value, please use `truncation=True` to explicitly truncate examples to max length. Defaulting to 'longest_first' truncation strategy. If you encode pairs of sequences (GLUE-style) with the tokenizer you can select this strategy more precisely by providing a specific strategy to `truncation`.\n",
            "/usr/local/lib/python3.7/dist-packages/transformers/tokenization_utils_base.py:2306: FutureWarning: The `pad_to_max_length` argument is deprecated and will be removed in a future version, use `padding=True` or `padding='longest'` to pad to the longest sequence in the batch, or use `padding='max_length'` to pad to a max length. In this case, you can give a specific length with `max_length` (e.g. `max_length=45`) or leave max_length to None to pad to the maximal input size of the model (e.g. 512 for Bert).\n",
            "  FutureWarning,\n"
          ]
        },
        {
          "output_type": "display_data",
          "data": {
            "text/plain": [
              "Downloading:   0%|          | 0.00/545M [00:00<?, ?B/s]"
            ],
            "application/vnd.jupyter.widget-view+json": {
              "version_major": 2,
              "version_minor": 0,
              "model_id": "dbc5d9e3115847d68907d2307500f593"
            }
          },
          "metadata": {}
        },
        {
          "output_type": "stream",
          "name": "stderr",
          "text": [
            "Some layers from the model checkpoint at lordtt13/COVID-SciBERT were not used when initializing TFBertModel: ['mlm___cls']\n",
            "- This IS expected if you are initializing TFBertModel from the checkpoint of a model trained on another task or with another architecture (e.g. initializing a BertForSequenceClassification model from a BertForPreTraining model).\n",
            "- This IS NOT expected if you are initializing TFBertModel from the checkpoint of a model that you expect to be exactly identical (initializing a BertForSequenceClassification model from a BertForSequenceClassification model).\n",
            "All the layers of TFBertModel were initialized from the model checkpoint at lordtt13/COVID-SciBERT.\n",
            "If your task is similar to the task the model of the checkpoint was trained on, you can already use TFBertModel for predictions without further training.\n"
          ]
        },
        {
          "output_type": "stream",
          "name": "stdout",
          "text": [
            "Model: \"model_1\"\n",
            "_________________________________________________________________\n",
            " Layer (type)                Output Shape              Param #   \n",
            "=================================================================\n",
            " input_words_ids (InputLayer  [(None, 140)]            0         \n",
            " )                                                               \n",
            "                                                                 \n",
            " tf_bert_model_1 (TFBertMode  TFBaseModelOutputWithPoo  110572032\n",
            " l)                          lingAndCrossAttentions(l            \n",
            "                             ast_hidden_state=(None,             \n",
            "                             140, 768),                          \n",
            "                              pooler_output=(None, 76            \n",
            "                             8),                                 \n",
            "                              past_key_values=None, h            \n",
            "                             idden_states=None, atten            \n",
            "                             tions=None, cross_attent            \n",
            "                             ions=None)                          \n",
            "                                                                 \n",
            " tf.__operators__.getitem_1   (None, 768)              0         \n",
            " (SlicingOpLambda)                                               \n",
            "                                                                 \n",
            " dense_1 (Dense)             (None, 2)                 1538      \n",
            "                                                                 \n",
            "=================================================================\n",
            "Total params: 110,573,570\n",
            "Trainable params: 110,573,570\n",
            "Non-trainable params: 0\n",
            "_________________________________________________________________\n"
          ]
        },
        {
          "output_type": "stream",
          "name": "stderr",
          "text": [
            "/usr/local/lib/python3.7/dist-packages/keras/optimizer_v2/adam.py:105: UserWarning: The `lr` argument is deprecated, use `learning_rate` instead.\n",
            "  super(Adam, self).__init__(name, **kwargs)\n"
          ]
        },
        {
          "output_type": "stream",
          "name": "stdout",
          "text": [
            "\n",
            "Epoch 1: LearningRateScheduler setting learning rate to 1e-06.\n",
            "Epoch 1/12\n"
          ]
        },
        {
          "output_type": "stream",
          "name": "stderr",
          "text": [
            "WARNING:tensorflow:Gradients do not exist for variables ['tf_bert_model_1/bert/pooler/dense/kernel:0', 'tf_bert_model_1/bert/pooler/dense/bias:0'] when minimizing the loss. If you're using `model.compile()`, did you forget to provide a `loss`argument?\n",
            "WARNING:tensorflow:Gradients do not exist for variables ['tf_bert_model_1/bert/pooler/dense/kernel:0', 'tf_bert_model_1/bert/pooler/dense/bias:0'] when minimizing the loss. If you're using `model.compile()`, did you forget to provide a `loss`argument?\n"
          ]
        },
        {
          "output_type": "stream",
          "name": "stdout",
          "text": [
            "214/214 [==============================] - 135s 212ms/step - loss: 0.3862 - accuracy: 0.8299 - f1_score: 0.8298 - val_loss: 0.2548 - val_accuracy: 0.8991 - val_f1_score: 0.8987 - lr: 1.0000e-06\n",
            "\n",
            "Epoch 2: LearningRateScheduler setting learning rate to 9.166666666666668e-06.\n",
            "Epoch 2/12\n",
            "214/214 [==============================] - 25s 119ms/step - loss: 0.1684 - accuracy: 0.9417 - f1_score: 0.9417 - val_loss: 0.1016 - val_accuracy: 0.9738 - val_f1_score: 0.9738 - lr: 9.1667e-06\n",
            "\n",
            "Epoch 3: LearningRateScheduler setting learning rate to 1.7333333333333336e-05.\n",
            "Epoch 3/12\n",
            "214/214 [==============================] - 26s 120ms/step - loss: 0.0963 - accuracy: 0.9769 - f1_score: 0.9769 - val_loss: 0.0560 - val_accuracy: 0.9921 - val_f1_score: 0.9921 - lr: 1.7333e-05\n",
            "\n",
            "Epoch 4: LearningRateScheduler setting learning rate to 2.5500000000000003e-05.\n",
            "Epoch 4/12\n",
            "214/214 [==============================] - 26s 120ms/step - loss: 0.0705 - accuracy: 0.9880 - f1_score: 0.9880 - val_loss: 0.0434 - val_accuracy: 0.9986 - val_f1_score: 0.9986 - lr: 2.5500e-05\n",
            "\n",
            "Epoch 5: LearningRateScheduler setting learning rate to 3.366666666666667e-05.\n",
            "Epoch 5/12\n",
            "214/214 [==============================] - 23s 109ms/step - loss: 0.0604 - accuracy: 0.9902 - f1_score: 0.9902 - val_loss: 0.0436 - val_accuracy: 0.9958 - val_f1_score: 0.9958 - lr: 3.3667e-05\n",
            "\n",
            "Epoch 6: LearningRateScheduler setting learning rate to 4.183333333333334e-05.\n",
            "Epoch 6/12\n",
            "214/214 [==============================] - 23s 109ms/step - loss: 0.0547 - accuracy: 0.9916 - f1_score: 0.9916 - val_loss: 0.0388 - val_accuracy: 0.9977 - val_f1_score: 0.9977 - lr: 4.1833e-05\n",
            "\n",
            "Epoch 7: LearningRateScheduler setting learning rate to 5e-05.\n",
            "Epoch 7/12\n",
            "214/214 [==============================] - ETA: 0s - loss: 0.0450 - accuracy: 0.9946 - f1_score: 0.9946\n",
            "Epoch 7: ReduceLROnPlateau reducing learning rate to 2.499999936844688e-05.\n",
            "214/214 [==============================] - 23s 109ms/step - loss: 0.0450 - accuracy: 0.9946 - f1_score: 0.9946 - val_loss: 0.0507 - val_accuracy: 0.9939 - val_f1_score: 0.9939 - lr: 2.5000e-05\n",
            "\n",
            "Epoch 8: LearningRateScheduler setting learning rate to 2.0600000000000003e-05.\n",
            "Epoch 8/12\n",
            "214/214 [==============================] - 25s 119ms/step - loss: 0.0403 - accuracy: 0.9975 - f1_score: 0.9975 - val_loss: 0.0343 - val_accuracy: 0.9995 - val_f1_score: 0.9995 - lr: 2.0600e-05\n",
            "\n",
            "Epoch 9: LearningRateScheduler setting learning rate to 8.840000000000003e-06.\n",
            "Epoch 9/12\n",
            "214/214 [==============================] - 26s 120ms/step - loss: 0.0340 - accuracy: 0.9996 - f1_score: 0.9996 - val_loss: 0.0325 - val_accuracy: 1.0000 - val_f1_score: 1.0000 - lr: 8.8400e-06\n",
            "\n",
            "Epoch 10: LearningRateScheduler setting learning rate to 4.136000000000001e-06.\n",
            "Epoch 10/12\n",
            "214/214 [==============================] - 23s 109ms/step - loss: 0.0333 - accuracy: 0.9998 - f1_score: 0.9998 - val_loss: 0.0328 - val_accuracy: 0.9995 - val_f1_score: 0.9995 - lr: 4.1360e-06\n",
            "\n",
            "Epoch 11: LearningRateScheduler setting learning rate to 2.2544000000000004e-06.\n",
            "Epoch 11/12\n",
            "214/214 [==============================] - 23s 109ms/step - loss: 0.0330 - accuracy: 0.9999 - f1_score: 0.9999 - val_loss: 0.0322 - val_accuracy: 1.0000 - val_f1_score: 1.0000 - lr: 2.2544e-06\n",
            "\n",
            "Epoch 12: LearningRateScheduler setting learning rate to 1.5017600000000001e-06.\n",
            "Epoch 12/12\n",
            "214/214 [==============================] - ETA: 0s - loss: 0.0328 - accuracy: 1.0000 - f1_score: 1.0000\n",
            "Epoch 12: ReduceLROnPlateau reducing learning rate to 7.508800194955256e-07.\n",
            "214/214 [==============================] - 23s 109ms/step - loss: 0.0328 - accuracy: 1.0000 - f1_score: 1.0000 - val_loss: 0.0322 - val_accuracy: 1.0000 - val_f1_score: 1.0000 - lr: 7.5088e-07\n",
            "Loading best model...\n",
            "54/54 [==============================] - 3s 35ms/step - loss: 0.0325 - accuracy: 1.0000 - f1_score: 1.0000\n"
          ]
        }
      ],
      "source": [
        "\n",
        "MODEL = \"lordtt13/COVID-SciBERT\"\n",
        "tokenizer = AutoTokenizer.from_pretrained(MODEL)\n",
        "\n",
        "fake_valid_list = fake_valid['tweet'].tolist()\n",
        "\n",
        "x_fake_valid = regular_encode(fake_valid_list,tokenizer,maxlen=max_len)\n",
        "x_fake_train = regular_encode(fake_train1_list,tokenizer,maxlen=max_len)\n",
        "\n",
        "\n",
        "\n",
        "y_fake_train = to_categorical(fake_train1.label,2,dtype='int32')\n",
        "y_fake_valid = to_categorical(fake_valid1.label,2,dtype='int32')\n",
        "\n",
        "with strategy.scope():\n",
        "    transformer_layer = TFAutoModel.from_pretrained(MODEL)\n",
        "    model = build_model(transformer_layer, max_len=max_len)\n",
        "model.summary()\n",
        "n_steps = x_fake_train.shape[0] // batch_size\n",
        "\n",
        "train_dataset = get_train_dataset(x_fake_train,y_fake_train)\n",
        "valid_dataset = get_valid_dataset(x_fake_valid,y_fake_valid)\n",
        "cb_lr_schedule = tf.keras.callbacks.ReduceLROnPlateau(\n",
        "        monitor = 'val_f1_score', factor = 0.5, patience = 3, verbose = 1, min_delta = 0.0001, mode = 'max')\n",
        "sv = tf.keras.callbacks.ModelCheckpoint(\n",
        "        'best_model.h5', monitor='val_f1_score', verbose=0, save_best_only=True,\n",
        "        save_weights_only=True, mode='max', save_freq='epoch')\n",
        "train_history = model.fit(\n",
        "    train_dataset,\n",
        "    steps_per_epoch=n_steps,\n",
        "    callbacks = [cb_lr_schedule,lr_warm_up,sv],\n",
        "    validation_data= valid_dataset,\n",
        "    epochs=epochs\n",
        "    )\n",
        "print('Loading best model...')\n",
        "model.load_weights('best_model.h5')\n",
        "x_fake_test = regular_encode(fake_valid_list,tokenizer,maxlen=max_len)\n",
        "score = model.evaluate(valid_dataset)[2]\n",
        "pred = model.predict(x_fake_test)\n",
        "np.savez('single-model',pred)"
      ]
    },
    {
      "cell_type": "code",
      "execution_count": 120,
      "metadata": {
        "colab": {
          "base_uri": "https://localhost:8080/"
        },
        "id": "y7y6Hf3QVeIy",
        "outputId": "5dfd0623-6378-44f9-bdbf-50ab7aa45096"
      },
      "outputs": [
        {
          "output_type": "execute_result",
          "data": {
            "text/plain": [
              "1.0"
            ]
          },
          "metadata": {},
          "execution_count": 120
        }
      ],
      "source": [
        "f1_score(np.array(fake_valid1.label,dtype='int32'),np.argmax(pred,axis=1),average='weighted')"
      ]
    }
  ],
  "metadata": {
    "accelerator": "TPU",
    "colab": {
      "background_execution": "on",
      "collapsed_sections": [
        "IiUcD-FYVeIu"
      ],
      "machine_shape": "hm",
      "provenance": [],
      "include_colab_link": true
    },
    "gpuClass": "standard",
    "kernelspec": {
      "display_name": "Python 3",
      "language": "python",
      "name": "python3"
    },
    "language_info": {
      "codemirror_mode": {
        "name": "ipython",
        "version": 3
      },
      "file_extension": ".py",
      "mimetype": "text/x-python",
      "name": "python",
      "nbconvert_exporter": "python",
      "pygments_lexer": "ipython3",
      "version": "3.7.6"
    },
    "papermill": {
      "duration": 3571.600563,
      "end_time": "2020-12-22T06:19:47.944257",
      "environment_variables": {},
      "exception": null,
      "input_path": "__notebook__.ipynb",
      "output_path": "__notebook__.ipynb",
      "parameters": {},
      "start_time": "2020-12-22T05:20:16.343694",
      "version": "2.1.0"
    },
    "widgets": {
      "application/vnd.jupyter.widget-state+json": {
        "9754c67b40574197802a99cce77616ea": {
          "model_module": "@jupyter-widgets/controls",
          "model_name": "HBoxModel",
          "model_module_version": "1.5.0",
          "state": {
            "_dom_classes": [],
            "_model_module": "@jupyter-widgets/controls",
            "_model_module_version": "1.5.0",
            "_model_name": "HBoxModel",
            "_view_count": null,
            "_view_module": "@jupyter-widgets/controls",
            "_view_module_version": "1.5.0",
            "_view_name": "HBoxView",
            "box_style": "",
            "children": [
              "IPY_MODEL_c5ab5405f3514ba8ade30914335fb85e",
              "IPY_MODEL_9f8c35af8de94461a81d0630e57172f4",
              "IPY_MODEL_fdf7c85bada84c0b94934109dc337abc"
            ],
            "layout": "IPY_MODEL_7914d354521647858722fb547e65df7f"
          }
        },
        "c5ab5405f3514ba8ade30914335fb85e": {
          "model_module": "@jupyter-widgets/controls",
          "model_name": "HTMLModel",
          "model_module_version": "1.5.0",
          "state": {
            "_dom_classes": [],
            "_model_module": "@jupyter-widgets/controls",
            "_model_module_version": "1.5.0",
            "_model_name": "HTMLModel",
            "_view_count": null,
            "_view_module": "@jupyter-widgets/controls",
            "_view_module_version": "1.5.0",
            "_view_name": "HTMLView",
            "description": "",
            "description_tooltip": null,
            "layout": "IPY_MODEL_f47e258a1cb2444b8c0da3e6077f8e13",
            "placeholder": "​",
            "style": "IPY_MODEL_820675d3673441708b3ebfcaa91fa602",
            "value": "Downloading: 100%"
          }
        },
        "9f8c35af8de94461a81d0630e57172f4": {
          "model_module": "@jupyter-widgets/controls",
          "model_name": "FloatProgressModel",
          "model_module_version": "1.5.0",
          "state": {
            "_dom_classes": [],
            "_model_module": "@jupyter-widgets/controls",
            "_model_module_version": "1.5.0",
            "_model_name": "FloatProgressModel",
            "_view_count": null,
            "_view_module": "@jupyter-widgets/controls",
            "_view_module_version": "1.5.0",
            "_view_name": "ProgressView",
            "bar_style": "success",
            "description": "",
            "description_tooltip": null,
            "layout": "IPY_MODEL_2789f392d9254d3387f249f68b98b396",
            "max": 2,
            "min": 0,
            "orientation": "horizontal",
            "style": "IPY_MODEL_03e9ae243b354cf3be92efbbe5ce764b",
            "value": 2
          }
        },
        "fdf7c85bada84c0b94934109dc337abc": {
          "model_module": "@jupyter-widgets/controls",
          "model_name": "HTMLModel",
          "model_module_version": "1.5.0",
          "state": {
            "_dom_classes": [],
            "_model_module": "@jupyter-widgets/controls",
            "_model_module_version": "1.5.0",
            "_model_name": "HTMLModel",
            "_view_count": null,
            "_view_module": "@jupyter-widgets/controls",
            "_view_module_version": "1.5.0",
            "_view_name": "HTMLView",
            "description": "",
            "description_tooltip": null,
            "layout": "IPY_MODEL_929ebdbd3f5d4715ae158ce52f8e4823",
            "placeholder": "​",
            "style": "IPY_MODEL_0c001a2400584a7b8b269e654e92ba98",
            "value": " 2.00/2.00 [00:00&lt;00:00, 67.2B/s]"
          }
        },
        "7914d354521647858722fb547e65df7f": {
          "model_module": "@jupyter-widgets/base",
          "model_name": "LayoutModel",
          "model_module_version": "1.2.0",
          "state": {
            "_model_module": "@jupyter-widgets/base",
            "_model_module_version": "1.2.0",
            "_model_name": "LayoutModel",
            "_view_count": null,
            "_view_module": "@jupyter-widgets/base",
            "_view_module_version": "1.2.0",
            "_view_name": "LayoutView",
            "align_content": null,
            "align_items": null,
            "align_self": null,
            "border": null,
            "bottom": null,
            "display": null,
            "flex": null,
            "flex_flow": null,
            "grid_area": null,
            "grid_auto_columns": null,
            "grid_auto_flow": null,
            "grid_auto_rows": null,
            "grid_column": null,
            "grid_gap": null,
            "grid_row": null,
            "grid_template_areas": null,
            "grid_template_columns": null,
            "grid_template_rows": null,
            "height": null,
            "justify_content": null,
            "justify_items": null,
            "left": null,
            "margin": null,
            "max_height": null,
            "max_width": null,
            "min_height": null,
            "min_width": null,
            "object_fit": null,
            "object_position": null,
            "order": null,
            "overflow": null,
            "overflow_x": null,
            "overflow_y": null,
            "padding": null,
            "right": null,
            "top": null,
            "visibility": null,
            "width": null
          }
        },
        "f47e258a1cb2444b8c0da3e6077f8e13": {
          "model_module": "@jupyter-widgets/base",
          "model_name": "LayoutModel",
          "model_module_version": "1.2.0",
          "state": {
            "_model_module": "@jupyter-widgets/base",
            "_model_module_version": "1.2.0",
            "_model_name": "LayoutModel",
            "_view_count": null,
            "_view_module": "@jupyter-widgets/base",
            "_view_module_version": "1.2.0",
            "_view_name": "LayoutView",
            "align_content": null,
            "align_items": null,
            "align_self": null,
            "border": null,
            "bottom": null,
            "display": null,
            "flex": null,
            "flex_flow": null,
            "grid_area": null,
            "grid_auto_columns": null,
            "grid_auto_flow": null,
            "grid_auto_rows": null,
            "grid_column": null,
            "grid_gap": null,
            "grid_row": null,
            "grid_template_areas": null,
            "grid_template_columns": null,
            "grid_template_rows": null,
            "height": null,
            "justify_content": null,
            "justify_items": null,
            "left": null,
            "margin": null,
            "max_height": null,
            "max_width": null,
            "min_height": null,
            "min_width": null,
            "object_fit": null,
            "object_position": null,
            "order": null,
            "overflow": null,
            "overflow_x": null,
            "overflow_y": null,
            "padding": null,
            "right": null,
            "top": null,
            "visibility": null,
            "width": null
          }
        },
        "820675d3673441708b3ebfcaa91fa602": {
          "model_module": "@jupyter-widgets/controls",
          "model_name": "DescriptionStyleModel",
          "model_module_version": "1.5.0",
          "state": {
            "_model_module": "@jupyter-widgets/controls",
            "_model_module_version": "1.5.0",
            "_model_name": "DescriptionStyleModel",
            "_view_count": null,
            "_view_module": "@jupyter-widgets/base",
            "_view_module_version": "1.2.0",
            "_view_name": "StyleView",
            "description_width": ""
          }
        },
        "2789f392d9254d3387f249f68b98b396": {
          "model_module": "@jupyter-widgets/base",
          "model_name": "LayoutModel",
          "model_module_version": "1.2.0",
          "state": {
            "_model_module": "@jupyter-widgets/base",
            "_model_module_version": "1.2.0",
            "_model_name": "LayoutModel",
            "_view_count": null,
            "_view_module": "@jupyter-widgets/base",
            "_view_module_version": "1.2.0",
            "_view_name": "LayoutView",
            "align_content": null,
            "align_items": null,
            "align_self": null,
            "border": null,
            "bottom": null,
            "display": null,
            "flex": null,
            "flex_flow": null,
            "grid_area": null,
            "grid_auto_columns": null,
            "grid_auto_flow": null,
            "grid_auto_rows": null,
            "grid_column": null,
            "grid_gap": null,
            "grid_row": null,
            "grid_template_areas": null,
            "grid_template_columns": null,
            "grid_template_rows": null,
            "height": null,
            "justify_content": null,
            "justify_items": null,
            "left": null,
            "margin": null,
            "max_height": null,
            "max_width": null,
            "min_height": null,
            "min_width": null,
            "object_fit": null,
            "object_position": null,
            "order": null,
            "overflow": null,
            "overflow_x": null,
            "overflow_y": null,
            "padding": null,
            "right": null,
            "top": null,
            "visibility": null,
            "width": null
          }
        },
        "03e9ae243b354cf3be92efbbe5ce764b": {
          "model_module": "@jupyter-widgets/controls",
          "model_name": "ProgressStyleModel",
          "model_module_version": "1.5.0",
          "state": {
            "_model_module": "@jupyter-widgets/controls",
            "_model_module_version": "1.5.0",
            "_model_name": "ProgressStyleModel",
            "_view_count": null,
            "_view_module": "@jupyter-widgets/base",
            "_view_module_version": "1.2.0",
            "_view_name": "StyleView",
            "bar_color": null,
            "description_width": ""
          }
        },
        "929ebdbd3f5d4715ae158ce52f8e4823": {
          "model_module": "@jupyter-widgets/base",
          "model_name": "LayoutModel",
          "model_module_version": "1.2.0",
          "state": {
            "_model_module": "@jupyter-widgets/base",
            "_model_module_version": "1.2.0",
            "_model_name": "LayoutModel",
            "_view_count": null,
            "_view_module": "@jupyter-widgets/base",
            "_view_module_version": "1.2.0",
            "_view_name": "LayoutView",
            "align_content": null,
            "align_items": null,
            "align_self": null,
            "border": null,
            "bottom": null,
            "display": null,
            "flex": null,
            "flex_flow": null,
            "grid_area": null,
            "grid_auto_columns": null,
            "grid_auto_flow": null,
            "grid_auto_rows": null,
            "grid_column": null,
            "grid_gap": null,
            "grid_row": null,
            "grid_template_areas": null,
            "grid_template_columns": null,
            "grid_template_rows": null,
            "height": null,
            "justify_content": null,
            "justify_items": null,
            "left": null,
            "margin": null,
            "max_height": null,
            "max_width": null,
            "min_height": null,
            "min_width": null,
            "object_fit": null,
            "object_position": null,
            "order": null,
            "overflow": null,
            "overflow_x": null,
            "overflow_y": null,
            "padding": null,
            "right": null,
            "top": null,
            "visibility": null,
            "width": null
          }
        },
        "0c001a2400584a7b8b269e654e92ba98": {
          "model_module": "@jupyter-widgets/controls",
          "model_name": "DescriptionStyleModel",
          "model_module_version": "1.5.0",
          "state": {
            "_model_module": "@jupyter-widgets/controls",
            "_model_module_version": "1.5.0",
            "_model_name": "DescriptionStyleModel",
            "_view_count": null,
            "_view_module": "@jupyter-widgets/base",
            "_view_module_version": "1.2.0",
            "_view_name": "StyleView",
            "description_width": ""
          }
        },
        "35c85010e60b4db7aca6a2cd3ba849d4": {
          "model_module": "@jupyter-widgets/controls",
          "model_name": "HBoxModel",
          "model_module_version": "1.5.0",
          "state": {
            "_dom_classes": [],
            "_model_module": "@jupyter-widgets/controls",
            "_model_module_version": "1.5.0",
            "_model_name": "HBoxModel",
            "_view_count": null,
            "_view_module": "@jupyter-widgets/controls",
            "_view_module_version": "1.5.0",
            "_view_name": "HBoxView",
            "box_style": "",
            "children": [
              "IPY_MODEL_184c48755ec348b5bea7cd686562a17c",
              "IPY_MODEL_1ee85169d3924499ac64962c367e3a01",
              "IPY_MODEL_5ede8dad23254872911a2e778f570860"
            ],
            "layout": "IPY_MODEL_131e91ff0ae14c09b60e0a6629c58816"
          }
        },
        "184c48755ec348b5bea7cd686562a17c": {
          "model_module": "@jupyter-widgets/controls",
          "model_name": "HTMLModel",
          "model_module_version": "1.5.0",
          "state": {
            "_dom_classes": [],
            "_model_module": "@jupyter-widgets/controls",
            "_model_module_version": "1.5.0",
            "_model_name": "HTMLModel",
            "_view_count": null,
            "_view_module": "@jupyter-widgets/controls",
            "_view_module_version": "1.5.0",
            "_view_name": "HTMLView",
            "description": "",
            "description_tooltip": null,
            "layout": "IPY_MODEL_4389c1e8631849e093db943ac2e8a314",
            "placeholder": "​",
            "style": "IPY_MODEL_b984bd5f2bf5419283f1715422a1f899",
            "value": "Downloading: 100%"
          }
        },
        "1ee85169d3924499ac64962c367e3a01": {
          "model_module": "@jupyter-widgets/controls",
          "model_name": "FloatProgressModel",
          "model_module_version": "1.5.0",
          "state": {
            "_dom_classes": [],
            "_model_module": "@jupyter-widgets/controls",
            "_model_module_version": "1.5.0",
            "_model_name": "FloatProgressModel",
            "_view_count": null,
            "_view_module": "@jupyter-widgets/controls",
            "_view_module_version": "1.5.0",
            "_view_name": "ProgressView",
            "bar_style": "success",
            "description": "",
            "description_tooltip": null,
            "layout": "IPY_MODEL_68ec3b99cee84b2b9bfc84a20ea0decf",
            "max": 468,
            "min": 0,
            "orientation": "horizontal",
            "style": "IPY_MODEL_0595c7e341b94efdb4537c299797a5f1",
            "value": 468
          }
        },
        "5ede8dad23254872911a2e778f570860": {
          "model_module": "@jupyter-widgets/controls",
          "model_name": "HTMLModel",
          "model_module_version": "1.5.0",
          "state": {
            "_dom_classes": [],
            "_model_module": "@jupyter-widgets/controls",
            "_model_module_version": "1.5.0",
            "_model_name": "HTMLModel",
            "_view_count": null,
            "_view_module": "@jupyter-widgets/controls",
            "_view_module_version": "1.5.0",
            "_view_name": "HTMLView",
            "description": "",
            "description_tooltip": null,
            "layout": "IPY_MODEL_e12b3daeefba4be0b16273c3e7332cd5",
            "placeholder": "​",
            "style": "IPY_MODEL_a58b37dbcad24d1187f531ba10d1dee4",
            "value": " 468/468 [00:00&lt;00:00, 16.5kB/s]"
          }
        },
        "131e91ff0ae14c09b60e0a6629c58816": {
          "model_module": "@jupyter-widgets/base",
          "model_name": "LayoutModel",
          "model_module_version": "1.2.0",
          "state": {
            "_model_module": "@jupyter-widgets/base",
            "_model_module_version": "1.2.0",
            "_model_name": "LayoutModel",
            "_view_count": null,
            "_view_module": "@jupyter-widgets/base",
            "_view_module_version": "1.2.0",
            "_view_name": "LayoutView",
            "align_content": null,
            "align_items": null,
            "align_self": null,
            "border": null,
            "bottom": null,
            "display": null,
            "flex": null,
            "flex_flow": null,
            "grid_area": null,
            "grid_auto_columns": null,
            "grid_auto_flow": null,
            "grid_auto_rows": null,
            "grid_column": null,
            "grid_gap": null,
            "grid_row": null,
            "grid_template_areas": null,
            "grid_template_columns": null,
            "grid_template_rows": null,
            "height": null,
            "justify_content": null,
            "justify_items": null,
            "left": null,
            "margin": null,
            "max_height": null,
            "max_width": null,
            "min_height": null,
            "min_width": null,
            "object_fit": null,
            "object_position": null,
            "order": null,
            "overflow": null,
            "overflow_x": null,
            "overflow_y": null,
            "padding": null,
            "right": null,
            "top": null,
            "visibility": null,
            "width": null
          }
        },
        "4389c1e8631849e093db943ac2e8a314": {
          "model_module": "@jupyter-widgets/base",
          "model_name": "LayoutModel",
          "model_module_version": "1.2.0",
          "state": {
            "_model_module": "@jupyter-widgets/base",
            "_model_module_version": "1.2.0",
            "_model_name": "LayoutModel",
            "_view_count": null,
            "_view_module": "@jupyter-widgets/base",
            "_view_module_version": "1.2.0",
            "_view_name": "LayoutView",
            "align_content": null,
            "align_items": null,
            "align_self": null,
            "border": null,
            "bottom": null,
            "display": null,
            "flex": null,
            "flex_flow": null,
            "grid_area": null,
            "grid_auto_columns": null,
            "grid_auto_flow": null,
            "grid_auto_rows": null,
            "grid_column": null,
            "grid_gap": null,
            "grid_row": null,
            "grid_template_areas": null,
            "grid_template_columns": null,
            "grid_template_rows": null,
            "height": null,
            "justify_content": null,
            "justify_items": null,
            "left": null,
            "margin": null,
            "max_height": null,
            "max_width": null,
            "min_height": null,
            "min_width": null,
            "object_fit": null,
            "object_position": null,
            "order": null,
            "overflow": null,
            "overflow_x": null,
            "overflow_y": null,
            "padding": null,
            "right": null,
            "top": null,
            "visibility": null,
            "width": null
          }
        },
        "b984bd5f2bf5419283f1715422a1f899": {
          "model_module": "@jupyter-widgets/controls",
          "model_name": "DescriptionStyleModel",
          "model_module_version": "1.5.0",
          "state": {
            "_model_module": "@jupyter-widgets/controls",
            "_model_module_version": "1.5.0",
            "_model_name": "DescriptionStyleModel",
            "_view_count": null,
            "_view_module": "@jupyter-widgets/base",
            "_view_module_version": "1.2.0",
            "_view_name": "StyleView",
            "description_width": ""
          }
        },
        "68ec3b99cee84b2b9bfc84a20ea0decf": {
          "model_module": "@jupyter-widgets/base",
          "model_name": "LayoutModel",
          "model_module_version": "1.2.0",
          "state": {
            "_model_module": "@jupyter-widgets/base",
            "_model_module_version": "1.2.0",
            "_model_name": "LayoutModel",
            "_view_count": null,
            "_view_module": "@jupyter-widgets/base",
            "_view_module_version": "1.2.0",
            "_view_name": "LayoutView",
            "align_content": null,
            "align_items": null,
            "align_self": null,
            "border": null,
            "bottom": null,
            "display": null,
            "flex": null,
            "flex_flow": null,
            "grid_area": null,
            "grid_auto_columns": null,
            "grid_auto_flow": null,
            "grid_auto_rows": null,
            "grid_column": null,
            "grid_gap": null,
            "grid_row": null,
            "grid_template_areas": null,
            "grid_template_columns": null,
            "grid_template_rows": null,
            "height": null,
            "justify_content": null,
            "justify_items": null,
            "left": null,
            "margin": null,
            "max_height": null,
            "max_width": null,
            "min_height": null,
            "min_width": null,
            "object_fit": null,
            "object_position": null,
            "order": null,
            "overflow": null,
            "overflow_x": null,
            "overflow_y": null,
            "padding": null,
            "right": null,
            "top": null,
            "visibility": null,
            "width": null
          }
        },
        "0595c7e341b94efdb4537c299797a5f1": {
          "model_module": "@jupyter-widgets/controls",
          "model_name": "ProgressStyleModel",
          "model_module_version": "1.5.0",
          "state": {
            "_model_module": "@jupyter-widgets/controls",
            "_model_module_version": "1.5.0",
            "_model_name": "ProgressStyleModel",
            "_view_count": null,
            "_view_module": "@jupyter-widgets/base",
            "_view_module_version": "1.2.0",
            "_view_name": "StyleView",
            "bar_color": null,
            "description_width": ""
          }
        },
        "e12b3daeefba4be0b16273c3e7332cd5": {
          "model_module": "@jupyter-widgets/base",
          "model_name": "LayoutModel",
          "model_module_version": "1.2.0",
          "state": {
            "_model_module": "@jupyter-widgets/base",
            "_model_module_version": "1.2.0",
            "_model_name": "LayoutModel",
            "_view_count": null,
            "_view_module": "@jupyter-widgets/base",
            "_view_module_version": "1.2.0",
            "_view_name": "LayoutView",
            "align_content": null,
            "align_items": null,
            "align_self": null,
            "border": null,
            "bottom": null,
            "display": null,
            "flex": null,
            "flex_flow": null,
            "grid_area": null,
            "grid_auto_columns": null,
            "grid_auto_flow": null,
            "grid_auto_rows": null,
            "grid_column": null,
            "grid_gap": null,
            "grid_row": null,
            "grid_template_areas": null,
            "grid_template_columns": null,
            "grid_template_rows": null,
            "height": null,
            "justify_content": null,
            "justify_items": null,
            "left": null,
            "margin": null,
            "max_height": null,
            "max_width": null,
            "min_height": null,
            "min_width": null,
            "object_fit": null,
            "object_position": null,
            "order": null,
            "overflow": null,
            "overflow_x": null,
            "overflow_y": null,
            "padding": null,
            "right": null,
            "top": null,
            "visibility": null,
            "width": null
          }
        },
        "a58b37dbcad24d1187f531ba10d1dee4": {
          "model_module": "@jupyter-widgets/controls",
          "model_name": "DescriptionStyleModel",
          "model_module_version": "1.5.0",
          "state": {
            "_model_module": "@jupyter-widgets/controls",
            "_model_module_version": "1.5.0",
            "_model_name": "DescriptionStyleModel",
            "_view_count": null,
            "_view_module": "@jupyter-widgets/base",
            "_view_module_version": "1.2.0",
            "_view_name": "StyleView",
            "description_width": ""
          }
        },
        "8c194627aac6412087c823b325725c21": {
          "model_module": "@jupyter-widgets/controls",
          "model_name": "HBoxModel",
          "model_module_version": "1.5.0",
          "state": {
            "_dom_classes": [],
            "_model_module": "@jupyter-widgets/controls",
            "_model_module_version": "1.5.0",
            "_model_name": "HBoxModel",
            "_view_count": null,
            "_view_module": "@jupyter-widgets/controls",
            "_view_module_version": "1.5.0",
            "_view_name": "HBoxView",
            "box_style": "",
            "children": [
              "IPY_MODEL_da7ab8707b954b13aefea02b8bbc3155",
              "IPY_MODEL_564de2ef099d430d89821a59b1e84e33",
              "IPY_MODEL_855bbdbe3c814d98b6e5d317f43eb1cb"
            ],
            "layout": "IPY_MODEL_519fb0628ab940e69bd6ad7c52800381"
          }
        },
        "da7ab8707b954b13aefea02b8bbc3155": {
          "model_module": "@jupyter-widgets/controls",
          "model_name": "HTMLModel",
          "model_module_version": "1.5.0",
          "state": {
            "_dom_classes": [],
            "_model_module": "@jupyter-widgets/controls",
            "_model_module_version": "1.5.0",
            "_model_name": "HTMLModel",
            "_view_count": null,
            "_view_module": "@jupyter-widgets/controls",
            "_view_module_version": "1.5.0",
            "_view_name": "HTMLView",
            "description": "",
            "description_tooltip": null,
            "layout": "IPY_MODEL_8511437510ee4e26b914592819285afb",
            "placeholder": "​",
            "style": "IPY_MODEL_97b6dc3618fe4d2e9736c0cbec024719",
            "value": "Downloading: 100%"
          }
        },
        "564de2ef099d430d89821a59b1e84e33": {
          "model_module": "@jupyter-widgets/controls",
          "model_name": "FloatProgressModel",
          "model_module_version": "1.5.0",
          "state": {
            "_dom_classes": [],
            "_model_module": "@jupyter-widgets/controls",
            "_model_module_version": "1.5.0",
            "_model_name": "FloatProgressModel",
            "_view_count": null,
            "_view_module": "@jupyter-widgets/controls",
            "_view_module_version": "1.5.0",
            "_view_name": "ProgressView",
            "bar_style": "success",
            "description": "",
            "description_tooltip": null,
            "layout": "IPY_MODEL_c1576cff5a1f4402beb825671af65a57",
            "max": 227845,
            "min": 0,
            "orientation": "horizontal",
            "style": "IPY_MODEL_9abaa060462f45b6baa1fa5789d70058",
            "value": 227845
          }
        },
        "855bbdbe3c814d98b6e5d317f43eb1cb": {
          "model_module": "@jupyter-widgets/controls",
          "model_name": "HTMLModel",
          "model_module_version": "1.5.0",
          "state": {
            "_dom_classes": [],
            "_model_module": "@jupyter-widgets/controls",
            "_model_module_version": "1.5.0",
            "_model_name": "HTMLModel",
            "_view_count": null,
            "_view_module": "@jupyter-widgets/controls",
            "_view_module_version": "1.5.0",
            "_view_name": "HTMLView",
            "description": "",
            "description_tooltip": null,
            "layout": "IPY_MODEL_26592b28e8bb4e67b49739fbaf16a28b",
            "placeholder": "​",
            "style": "IPY_MODEL_041ce8aa9b254025b9d260e8e48250a8",
            "value": " 228k/228k [00:00&lt;00:00, 1.57MB/s]"
          }
        },
        "519fb0628ab940e69bd6ad7c52800381": {
          "model_module": "@jupyter-widgets/base",
          "model_name": "LayoutModel",
          "model_module_version": "1.2.0",
          "state": {
            "_model_module": "@jupyter-widgets/base",
            "_model_module_version": "1.2.0",
            "_model_name": "LayoutModel",
            "_view_count": null,
            "_view_module": "@jupyter-widgets/base",
            "_view_module_version": "1.2.0",
            "_view_name": "LayoutView",
            "align_content": null,
            "align_items": null,
            "align_self": null,
            "border": null,
            "bottom": null,
            "display": null,
            "flex": null,
            "flex_flow": null,
            "grid_area": null,
            "grid_auto_columns": null,
            "grid_auto_flow": null,
            "grid_auto_rows": null,
            "grid_column": null,
            "grid_gap": null,
            "grid_row": null,
            "grid_template_areas": null,
            "grid_template_columns": null,
            "grid_template_rows": null,
            "height": null,
            "justify_content": null,
            "justify_items": null,
            "left": null,
            "margin": null,
            "max_height": null,
            "max_width": null,
            "min_height": null,
            "min_width": null,
            "object_fit": null,
            "object_position": null,
            "order": null,
            "overflow": null,
            "overflow_x": null,
            "overflow_y": null,
            "padding": null,
            "right": null,
            "top": null,
            "visibility": null,
            "width": null
          }
        },
        "8511437510ee4e26b914592819285afb": {
          "model_module": "@jupyter-widgets/base",
          "model_name": "LayoutModel",
          "model_module_version": "1.2.0",
          "state": {
            "_model_module": "@jupyter-widgets/base",
            "_model_module_version": "1.2.0",
            "_model_name": "LayoutModel",
            "_view_count": null,
            "_view_module": "@jupyter-widgets/base",
            "_view_module_version": "1.2.0",
            "_view_name": "LayoutView",
            "align_content": null,
            "align_items": null,
            "align_self": null,
            "border": null,
            "bottom": null,
            "display": null,
            "flex": null,
            "flex_flow": null,
            "grid_area": null,
            "grid_auto_columns": null,
            "grid_auto_flow": null,
            "grid_auto_rows": null,
            "grid_column": null,
            "grid_gap": null,
            "grid_row": null,
            "grid_template_areas": null,
            "grid_template_columns": null,
            "grid_template_rows": null,
            "height": null,
            "justify_content": null,
            "justify_items": null,
            "left": null,
            "margin": null,
            "max_height": null,
            "max_width": null,
            "min_height": null,
            "min_width": null,
            "object_fit": null,
            "object_position": null,
            "order": null,
            "overflow": null,
            "overflow_x": null,
            "overflow_y": null,
            "padding": null,
            "right": null,
            "top": null,
            "visibility": null,
            "width": null
          }
        },
        "97b6dc3618fe4d2e9736c0cbec024719": {
          "model_module": "@jupyter-widgets/controls",
          "model_name": "DescriptionStyleModel",
          "model_module_version": "1.5.0",
          "state": {
            "_model_module": "@jupyter-widgets/controls",
            "_model_module_version": "1.5.0",
            "_model_name": "DescriptionStyleModel",
            "_view_count": null,
            "_view_module": "@jupyter-widgets/base",
            "_view_module_version": "1.2.0",
            "_view_name": "StyleView",
            "description_width": ""
          }
        },
        "c1576cff5a1f4402beb825671af65a57": {
          "model_module": "@jupyter-widgets/base",
          "model_name": "LayoutModel",
          "model_module_version": "1.2.0",
          "state": {
            "_model_module": "@jupyter-widgets/base",
            "_model_module_version": "1.2.0",
            "_model_name": "LayoutModel",
            "_view_count": null,
            "_view_module": "@jupyter-widgets/base",
            "_view_module_version": "1.2.0",
            "_view_name": "LayoutView",
            "align_content": null,
            "align_items": null,
            "align_self": null,
            "border": null,
            "bottom": null,
            "display": null,
            "flex": null,
            "flex_flow": null,
            "grid_area": null,
            "grid_auto_columns": null,
            "grid_auto_flow": null,
            "grid_auto_rows": null,
            "grid_column": null,
            "grid_gap": null,
            "grid_row": null,
            "grid_template_areas": null,
            "grid_template_columns": null,
            "grid_template_rows": null,
            "height": null,
            "justify_content": null,
            "justify_items": null,
            "left": null,
            "margin": null,
            "max_height": null,
            "max_width": null,
            "min_height": null,
            "min_width": null,
            "object_fit": null,
            "object_position": null,
            "order": null,
            "overflow": null,
            "overflow_x": null,
            "overflow_y": null,
            "padding": null,
            "right": null,
            "top": null,
            "visibility": null,
            "width": null
          }
        },
        "9abaa060462f45b6baa1fa5789d70058": {
          "model_module": "@jupyter-widgets/controls",
          "model_name": "ProgressStyleModel",
          "model_module_version": "1.5.0",
          "state": {
            "_model_module": "@jupyter-widgets/controls",
            "_model_module_version": "1.5.0",
            "_model_name": "ProgressStyleModel",
            "_view_count": null,
            "_view_module": "@jupyter-widgets/base",
            "_view_module_version": "1.2.0",
            "_view_name": "StyleView",
            "bar_color": null,
            "description_width": ""
          }
        },
        "26592b28e8bb4e67b49739fbaf16a28b": {
          "model_module": "@jupyter-widgets/base",
          "model_name": "LayoutModel",
          "model_module_version": "1.2.0",
          "state": {
            "_model_module": "@jupyter-widgets/base",
            "_model_module_version": "1.2.0",
            "_model_name": "LayoutModel",
            "_view_count": null,
            "_view_module": "@jupyter-widgets/base",
            "_view_module_version": "1.2.0",
            "_view_name": "LayoutView",
            "align_content": null,
            "align_items": null,
            "align_self": null,
            "border": null,
            "bottom": null,
            "display": null,
            "flex": null,
            "flex_flow": null,
            "grid_area": null,
            "grid_auto_columns": null,
            "grid_auto_flow": null,
            "grid_auto_rows": null,
            "grid_column": null,
            "grid_gap": null,
            "grid_row": null,
            "grid_template_areas": null,
            "grid_template_columns": null,
            "grid_template_rows": null,
            "height": null,
            "justify_content": null,
            "justify_items": null,
            "left": null,
            "margin": null,
            "max_height": null,
            "max_width": null,
            "min_height": null,
            "min_width": null,
            "object_fit": null,
            "object_position": null,
            "order": null,
            "overflow": null,
            "overflow_x": null,
            "overflow_y": null,
            "padding": null,
            "right": null,
            "top": null,
            "visibility": null,
            "width": null
          }
        },
        "041ce8aa9b254025b9d260e8e48250a8": {
          "model_module": "@jupyter-widgets/controls",
          "model_name": "DescriptionStyleModel",
          "model_module_version": "1.5.0",
          "state": {
            "_model_module": "@jupyter-widgets/controls",
            "_model_module_version": "1.5.0",
            "_model_name": "DescriptionStyleModel",
            "_view_count": null,
            "_view_module": "@jupyter-widgets/base",
            "_view_module_version": "1.2.0",
            "_view_name": "StyleView",
            "description_width": ""
          }
        },
        "3014e9b0f4c9403fb58b3acb77067fd1": {
          "model_module": "@jupyter-widgets/controls",
          "model_name": "HBoxModel",
          "model_module_version": "1.5.0",
          "state": {
            "_dom_classes": [],
            "_model_module": "@jupyter-widgets/controls",
            "_model_module_version": "1.5.0",
            "_model_name": "HBoxModel",
            "_view_count": null,
            "_view_module": "@jupyter-widgets/controls",
            "_view_module_version": "1.5.0",
            "_view_name": "HBoxView",
            "box_style": "",
            "children": [
              "IPY_MODEL_4dad06ab47f146d6b67d9954405fec75",
              "IPY_MODEL_6826e016e6aa44d5bcd95d127c932382",
              "IPY_MODEL_fd26ac4327634f83b9f7e56e62ee3fff"
            ],
            "layout": "IPY_MODEL_e39066d389d24e9cb4614f5d00021752"
          }
        },
        "4dad06ab47f146d6b67d9954405fec75": {
          "model_module": "@jupyter-widgets/controls",
          "model_name": "HTMLModel",
          "model_module_version": "1.5.0",
          "state": {
            "_dom_classes": [],
            "_model_module": "@jupyter-widgets/controls",
            "_model_module_version": "1.5.0",
            "_model_name": "HTMLModel",
            "_view_count": null,
            "_view_module": "@jupyter-widgets/controls",
            "_view_module_version": "1.5.0",
            "_view_name": "HTMLView",
            "description": "",
            "description_tooltip": null,
            "layout": "IPY_MODEL_3ce1bd581c2b4d378a3243ee02f8282b",
            "placeholder": "​",
            "style": "IPY_MODEL_5117be5a8d304596929c46115b4d91dd",
            "value": "Downloading: 100%"
          }
        },
        "6826e016e6aa44d5bcd95d127c932382": {
          "model_module": "@jupyter-widgets/controls",
          "model_name": "FloatProgressModel",
          "model_module_version": "1.5.0",
          "state": {
            "_dom_classes": [],
            "_model_module": "@jupyter-widgets/controls",
            "_model_module_version": "1.5.0",
            "_model_name": "FloatProgressModel",
            "_view_count": null,
            "_view_module": "@jupyter-widgets/controls",
            "_view_module_version": "1.5.0",
            "_view_name": "ProgressView",
            "bar_style": "success",
            "description": "",
            "description_tooltip": null,
            "layout": "IPY_MODEL_e573854f9cc04b5cb6cf04432a725841",
            "max": 15604,
            "min": 0,
            "orientation": "horizontal",
            "style": "IPY_MODEL_c41ac9d3d98b427b8a2f21f38144a815",
            "value": 15604
          }
        },
        "fd26ac4327634f83b9f7e56e62ee3fff": {
          "model_module": "@jupyter-widgets/controls",
          "model_name": "HTMLModel",
          "model_module_version": "1.5.0",
          "state": {
            "_dom_classes": [],
            "_model_module": "@jupyter-widgets/controls",
            "_model_module_version": "1.5.0",
            "_model_name": "HTMLModel",
            "_view_count": null,
            "_view_module": "@jupyter-widgets/controls",
            "_view_module_version": "1.5.0",
            "_view_name": "HTMLView",
            "description": "",
            "description_tooltip": null,
            "layout": "IPY_MODEL_470b4fd202904dfe8adb9a6dd050bce3",
            "placeholder": "​",
            "style": "IPY_MODEL_0a18a78a1e26457090c2620f6809016e",
            "value": " 15.6k/15.6k [00:00&lt;00:00, 504kB/s]"
          }
        },
        "e39066d389d24e9cb4614f5d00021752": {
          "model_module": "@jupyter-widgets/base",
          "model_name": "LayoutModel",
          "model_module_version": "1.2.0",
          "state": {
            "_model_module": "@jupyter-widgets/base",
            "_model_module_version": "1.2.0",
            "_model_name": "LayoutModel",
            "_view_count": null,
            "_view_module": "@jupyter-widgets/base",
            "_view_module_version": "1.2.0",
            "_view_name": "LayoutView",
            "align_content": null,
            "align_items": null,
            "align_self": null,
            "border": null,
            "bottom": null,
            "display": null,
            "flex": null,
            "flex_flow": null,
            "grid_area": null,
            "grid_auto_columns": null,
            "grid_auto_flow": null,
            "grid_auto_rows": null,
            "grid_column": null,
            "grid_gap": null,
            "grid_row": null,
            "grid_template_areas": null,
            "grid_template_columns": null,
            "grid_template_rows": null,
            "height": null,
            "justify_content": null,
            "justify_items": null,
            "left": null,
            "margin": null,
            "max_height": null,
            "max_width": null,
            "min_height": null,
            "min_width": null,
            "object_fit": null,
            "object_position": null,
            "order": null,
            "overflow": null,
            "overflow_x": null,
            "overflow_y": null,
            "padding": null,
            "right": null,
            "top": null,
            "visibility": null,
            "width": null
          }
        },
        "3ce1bd581c2b4d378a3243ee02f8282b": {
          "model_module": "@jupyter-widgets/base",
          "model_name": "LayoutModel",
          "model_module_version": "1.2.0",
          "state": {
            "_model_module": "@jupyter-widgets/base",
            "_model_module_version": "1.2.0",
            "_model_name": "LayoutModel",
            "_view_count": null,
            "_view_module": "@jupyter-widgets/base",
            "_view_module_version": "1.2.0",
            "_view_name": "LayoutView",
            "align_content": null,
            "align_items": null,
            "align_self": null,
            "border": null,
            "bottom": null,
            "display": null,
            "flex": null,
            "flex_flow": null,
            "grid_area": null,
            "grid_auto_columns": null,
            "grid_auto_flow": null,
            "grid_auto_rows": null,
            "grid_column": null,
            "grid_gap": null,
            "grid_row": null,
            "grid_template_areas": null,
            "grid_template_columns": null,
            "grid_template_rows": null,
            "height": null,
            "justify_content": null,
            "justify_items": null,
            "left": null,
            "margin": null,
            "max_height": null,
            "max_width": null,
            "min_height": null,
            "min_width": null,
            "object_fit": null,
            "object_position": null,
            "order": null,
            "overflow": null,
            "overflow_x": null,
            "overflow_y": null,
            "padding": null,
            "right": null,
            "top": null,
            "visibility": null,
            "width": null
          }
        },
        "5117be5a8d304596929c46115b4d91dd": {
          "model_module": "@jupyter-widgets/controls",
          "model_name": "DescriptionStyleModel",
          "model_module_version": "1.5.0",
          "state": {
            "_model_module": "@jupyter-widgets/controls",
            "_model_module_version": "1.5.0",
            "_model_name": "DescriptionStyleModel",
            "_view_count": null,
            "_view_module": "@jupyter-widgets/base",
            "_view_module_version": "1.2.0",
            "_view_name": "StyleView",
            "description_width": ""
          }
        },
        "e573854f9cc04b5cb6cf04432a725841": {
          "model_module": "@jupyter-widgets/base",
          "model_name": "LayoutModel",
          "model_module_version": "1.2.0",
          "state": {
            "_model_module": "@jupyter-widgets/base",
            "_model_module_version": "1.2.0",
            "_model_name": "LayoutModel",
            "_view_count": null,
            "_view_module": "@jupyter-widgets/base",
            "_view_module_version": "1.2.0",
            "_view_name": "LayoutView",
            "align_content": null,
            "align_items": null,
            "align_self": null,
            "border": null,
            "bottom": null,
            "display": null,
            "flex": null,
            "flex_flow": null,
            "grid_area": null,
            "grid_auto_columns": null,
            "grid_auto_flow": null,
            "grid_auto_rows": null,
            "grid_column": null,
            "grid_gap": null,
            "grid_row": null,
            "grid_template_areas": null,
            "grid_template_columns": null,
            "grid_template_rows": null,
            "height": null,
            "justify_content": null,
            "justify_items": null,
            "left": null,
            "margin": null,
            "max_height": null,
            "max_width": null,
            "min_height": null,
            "min_width": null,
            "object_fit": null,
            "object_position": null,
            "order": null,
            "overflow": null,
            "overflow_x": null,
            "overflow_y": null,
            "padding": null,
            "right": null,
            "top": null,
            "visibility": null,
            "width": null
          }
        },
        "c41ac9d3d98b427b8a2f21f38144a815": {
          "model_module": "@jupyter-widgets/controls",
          "model_name": "ProgressStyleModel",
          "model_module_version": "1.5.0",
          "state": {
            "_model_module": "@jupyter-widgets/controls",
            "_model_module_version": "1.5.0",
            "_model_name": "ProgressStyleModel",
            "_view_count": null,
            "_view_module": "@jupyter-widgets/base",
            "_view_module_version": "1.2.0",
            "_view_name": "StyleView",
            "bar_color": null,
            "description_width": ""
          }
        },
        "470b4fd202904dfe8adb9a6dd050bce3": {
          "model_module": "@jupyter-widgets/base",
          "model_name": "LayoutModel",
          "model_module_version": "1.2.0",
          "state": {
            "_model_module": "@jupyter-widgets/base",
            "_model_module_version": "1.2.0",
            "_model_name": "LayoutModel",
            "_view_count": null,
            "_view_module": "@jupyter-widgets/base",
            "_view_module_version": "1.2.0",
            "_view_name": "LayoutView",
            "align_content": null,
            "align_items": null,
            "align_self": null,
            "border": null,
            "bottom": null,
            "display": null,
            "flex": null,
            "flex_flow": null,
            "grid_area": null,
            "grid_auto_columns": null,
            "grid_auto_flow": null,
            "grid_auto_rows": null,
            "grid_column": null,
            "grid_gap": null,
            "grid_row": null,
            "grid_template_areas": null,
            "grid_template_columns": null,
            "grid_template_rows": null,
            "height": null,
            "justify_content": null,
            "justify_items": null,
            "left": null,
            "margin": null,
            "max_height": null,
            "max_width": null,
            "min_height": null,
            "min_width": null,
            "object_fit": null,
            "object_position": null,
            "order": null,
            "overflow": null,
            "overflow_x": null,
            "overflow_y": null,
            "padding": null,
            "right": null,
            "top": null,
            "visibility": null,
            "width": null
          }
        },
        "0a18a78a1e26457090c2620f6809016e": {
          "model_module": "@jupyter-widgets/controls",
          "model_name": "DescriptionStyleModel",
          "model_module_version": "1.5.0",
          "state": {
            "_model_module": "@jupyter-widgets/controls",
            "_model_module_version": "1.5.0",
            "_model_name": "DescriptionStyleModel",
            "_view_count": null,
            "_view_module": "@jupyter-widgets/base",
            "_view_module_version": "1.2.0",
            "_view_name": "StyleView",
            "description_width": ""
          }
        },
        "a632af44e2214323bae60dc8a8d5ba0a": {
          "model_module": "@jupyter-widgets/controls",
          "model_name": "HBoxModel",
          "model_module_version": "1.5.0",
          "state": {
            "_dom_classes": [],
            "_model_module": "@jupyter-widgets/controls",
            "_model_module_version": "1.5.0",
            "_model_name": "HBoxModel",
            "_view_count": null,
            "_view_module": "@jupyter-widgets/controls",
            "_view_module_version": "1.5.0",
            "_view_name": "HBoxView",
            "box_style": "",
            "children": [
              "IPY_MODEL_bde714f4691c4ab787db70050a681bca",
              "IPY_MODEL_18eec9671fdf4232bbac672cb253fb87",
              "IPY_MODEL_81903085b25d47acb627a1fcf4999b1e"
            ],
            "layout": "IPY_MODEL_4c56b453215143d2958f00dc9d00b79d"
          }
        },
        "bde714f4691c4ab787db70050a681bca": {
          "model_module": "@jupyter-widgets/controls",
          "model_name": "HTMLModel",
          "model_module_version": "1.5.0",
          "state": {
            "_dom_classes": [],
            "_model_module": "@jupyter-widgets/controls",
            "_model_module_version": "1.5.0",
            "_model_name": "HTMLModel",
            "_view_count": null,
            "_view_module": "@jupyter-widgets/controls",
            "_view_module_version": "1.5.0",
            "_view_name": "HTMLView",
            "description": "",
            "description_tooltip": null,
            "layout": "IPY_MODEL_94f3df30b2814b47ae7398f3d6c40aa8",
            "placeholder": "​",
            "style": "IPY_MODEL_c5f5b042010040b996708d6456337c72",
            "value": "Downloading: 100%"
          }
        },
        "18eec9671fdf4232bbac672cb253fb87": {
          "model_module": "@jupyter-widgets/controls",
          "model_name": "FloatProgressModel",
          "model_module_version": "1.5.0",
          "state": {
            "_dom_classes": [],
            "_model_module": "@jupyter-widgets/controls",
            "_model_module_version": "1.5.0",
            "_model_name": "FloatProgressModel",
            "_view_count": null,
            "_view_module": "@jupyter-widgets/controls",
            "_view_module_version": "1.5.0",
            "_view_name": "ProgressView",
            "bar_style": "success",
            "description": "",
            "description_tooltip": null,
            "layout": "IPY_MODEL_e2ca478f541245d78534232cef7d6c68",
            "max": 112,
            "min": 0,
            "orientation": "horizontal",
            "style": "IPY_MODEL_54572f9bbcfd4732b376a24787efca18",
            "value": 112
          }
        },
        "81903085b25d47acb627a1fcf4999b1e": {
          "model_module": "@jupyter-widgets/controls",
          "model_name": "HTMLModel",
          "model_module_version": "1.5.0",
          "state": {
            "_dom_classes": [],
            "_model_module": "@jupyter-widgets/controls",
            "_model_module_version": "1.5.0",
            "_model_name": "HTMLModel",
            "_view_count": null,
            "_view_module": "@jupyter-widgets/controls",
            "_view_module_version": "1.5.0",
            "_view_name": "HTMLView",
            "description": "",
            "description_tooltip": null,
            "layout": "IPY_MODEL_1d468554be4c432b93fc13e5c97e0c09",
            "placeholder": "​",
            "style": "IPY_MODEL_dfd8556d3854448db479e5764a9a5530",
            "value": " 112/112 [00:00&lt;00:00, 3.85kB/s]"
          }
        },
        "4c56b453215143d2958f00dc9d00b79d": {
          "model_module": "@jupyter-widgets/base",
          "model_name": "LayoutModel",
          "model_module_version": "1.2.0",
          "state": {
            "_model_module": "@jupyter-widgets/base",
            "_model_module_version": "1.2.0",
            "_model_name": "LayoutModel",
            "_view_count": null,
            "_view_module": "@jupyter-widgets/base",
            "_view_module_version": "1.2.0",
            "_view_name": "LayoutView",
            "align_content": null,
            "align_items": null,
            "align_self": null,
            "border": null,
            "bottom": null,
            "display": null,
            "flex": null,
            "flex_flow": null,
            "grid_area": null,
            "grid_auto_columns": null,
            "grid_auto_flow": null,
            "grid_auto_rows": null,
            "grid_column": null,
            "grid_gap": null,
            "grid_row": null,
            "grid_template_areas": null,
            "grid_template_columns": null,
            "grid_template_rows": null,
            "height": null,
            "justify_content": null,
            "justify_items": null,
            "left": null,
            "margin": null,
            "max_height": null,
            "max_width": null,
            "min_height": null,
            "min_width": null,
            "object_fit": null,
            "object_position": null,
            "order": null,
            "overflow": null,
            "overflow_x": null,
            "overflow_y": null,
            "padding": null,
            "right": null,
            "top": null,
            "visibility": null,
            "width": null
          }
        },
        "94f3df30b2814b47ae7398f3d6c40aa8": {
          "model_module": "@jupyter-widgets/base",
          "model_name": "LayoutModel",
          "model_module_version": "1.2.0",
          "state": {
            "_model_module": "@jupyter-widgets/base",
            "_model_module_version": "1.2.0",
            "_model_name": "LayoutModel",
            "_view_count": null,
            "_view_module": "@jupyter-widgets/base",
            "_view_module_version": "1.2.0",
            "_view_name": "LayoutView",
            "align_content": null,
            "align_items": null,
            "align_self": null,
            "border": null,
            "bottom": null,
            "display": null,
            "flex": null,
            "flex_flow": null,
            "grid_area": null,
            "grid_auto_columns": null,
            "grid_auto_flow": null,
            "grid_auto_rows": null,
            "grid_column": null,
            "grid_gap": null,
            "grid_row": null,
            "grid_template_areas": null,
            "grid_template_columns": null,
            "grid_template_rows": null,
            "height": null,
            "justify_content": null,
            "justify_items": null,
            "left": null,
            "margin": null,
            "max_height": null,
            "max_width": null,
            "min_height": null,
            "min_width": null,
            "object_fit": null,
            "object_position": null,
            "order": null,
            "overflow": null,
            "overflow_x": null,
            "overflow_y": null,
            "padding": null,
            "right": null,
            "top": null,
            "visibility": null,
            "width": null
          }
        },
        "c5f5b042010040b996708d6456337c72": {
          "model_module": "@jupyter-widgets/controls",
          "model_name": "DescriptionStyleModel",
          "model_module_version": "1.5.0",
          "state": {
            "_model_module": "@jupyter-widgets/controls",
            "_model_module_version": "1.5.0",
            "_model_name": "DescriptionStyleModel",
            "_view_count": null,
            "_view_module": "@jupyter-widgets/base",
            "_view_module_version": "1.2.0",
            "_view_name": "StyleView",
            "description_width": ""
          }
        },
        "e2ca478f541245d78534232cef7d6c68": {
          "model_module": "@jupyter-widgets/base",
          "model_name": "LayoutModel",
          "model_module_version": "1.2.0",
          "state": {
            "_model_module": "@jupyter-widgets/base",
            "_model_module_version": "1.2.0",
            "_model_name": "LayoutModel",
            "_view_count": null,
            "_view_module": "@jupyter-widgets/base",
            "_view_module_version": "1.2.0",
            "_view_name": "LayoutView",
            "align_content": null,
            "align_items": null,
            "align_self": null,
            "border": null,
            "bottom": null,
            "display": null,
            "flex": null,
            "flex_flow": null,
            "grid_area": null,
            "grid_auto_columns": null,
            "grid_auto_flow": null,
            "grid_auto_rows": null,
            "grid_column": null,
            "grid_gap": null,
            "grid_row": null,
            "grid_template_areas": null,
            "grid_template_columns": null,
            "grid_template_rows": null,
            "height": null,
            "justify_content": null,
            "justify_items": null,
            "left": null,
            "margin": null,
            "max_height": null,
            "max_width": null,
            "min_height": null,
            "min_width": null,
            "object_fit": null,
            "object_position": null,
            "order": null,
            "overflow": null,
            "overflow_x": null,
            "overflow_y": null,
            "padding": null,
            "right": null,
            "top": null,
            "visibility": null,
            "width": null
          }
        },
        "54572f9bbcfd4732b376a24787efca18": {
          "model_module": "@jupyter-widgets/controls",
          "model_name": "ProgressStyleModel",
          "model_module_version": "1.5.0",
          "state": {
            "_model_module": "@jupyter-widgets/controls",
            "_model_module_version": "1.5.0",
            "_model_name": "ProgressStyleModel",
            "_view_count": null,
            "_view_module": "@jupyter-widgets/base",
            "_view_module_version": "1.2.0",
            "_view_name": "StyleView",
            "bar_color": null,
            "description_width": ""
          }
        },
        "1d468554be4c432b93fc13e5c97e0c09": {
          "model_module": "@jupyter-widgets/base",
          "model_name": "LayoutModel",
          "model_module_version": "1.2.0",
          "state": {
            "_model_module": "@jupyter-widgets/base",
            "_model_module_version": "1.2.0",
            "_model_name": "LayoutModel",
            "_view_count": null,
            "_view_module": "@jupyter-widgets/base",
            "_view_module_version": "1.2.0",
            "_view_name": "LayoutView",
            "align_content": null,
            "align_items": null,
            "align_self": null,
            "border": null,
            "bottom": null,
            "display": null,
            "flex": null,
            "flex_flow": null,
            "grid_area": null,
            "grid_auto_columns": null,
            "grid_auto_flow": null,
            "grid_auto_rows": null,
            "grid_column": null,
            "grid_gap": null,
            "grid_row": null,
            "grid_template_areas": null,
            "grid_template_columns": null,
            "grid_template_rows": null,
            "height": null,
            "justify_content": null,
            "justify_items": null,
            "left": null,
            "margin": null,
            "max_height": null,
            "max_width": null,
            "min_height": null,
            "min_width": null,
            "object_fit": null,
            "object_position": null,
            "order": null,
            "overflow": null,
            "overflow_x": null,
            "overflow_y": null,
            "padding": null,
            "right": null,
            "top": null,
            "visibility": null,
            "width": null
          }
        },
        "dfd8556d3854448db479e5764a9a5530": {
          "model_module": "@jupyter-widgets/controls",
          "model_name": "DescriptionStyleModel",
          "model_module_version": "1.5.0",
          "state": {
            "_model_module": "@jupyter-widgets/controls",
            "_model_module_version": "1.5.0",
            "_model_name": "DescriptionStyleModel",
            "_view_count": null,
            "_view_module": "@jupyter-widgets/base",
            "_view_module_version": "1.2.0",
            "_view_name": "StyleView",
            "description_width": ""
          }
        },
        "dbc5d9e3115847d68907d2307500f593": {
          "model_module": "@jupyter-widgets/controls",
          "model_name": "HBoxModel",
          "model_module_version": "1.5.0",
          "state": {
            "_dom_classes": [],
            "_model_module": "@jupyter-widgets/controls",
            "_model_module_version": "1.5.0",
            "_model_name": "HBoxModel",
            "_view_count": null,
            "_view_module": "@jupyter-widgets/controls",
            "_view_module_version": "1.5.0",
            "_view_name": "HBoxView",
            "box_style": "",
            "children": [
              "IPY_MODEL_8a8bd3f38c3a4ebfbf3a6b90bc17147c",
              "IPY_MODEL_96cd1d316444452aa2aa31bb01cdc5a0",
              "IPY_MODEL_219b761b411340a68e7e217dc4404496"
            ],
            "layout": "IPY_MODEL_acfddb11322c4d4d8535cb9e9970e634"
          }
        },
        "8a8bd3f38c3a4ebfbf3a6b90bc17147c": {
          "model_module": "@jupyter-widgets/controls",
          "model_name": "HTMLModel",
          "model_module_version": "1.5.0",
          "state": {
            "_dom_classes": [],
            "_model_module": "@jupyter-widgets/controls",
            "_model_module_version": "1.5.0",
            "_model_name": "HTMLModel",
            "_view_count": null,
            "_view_module": "@jupyter-widgets/controls",
            "_view_module_version": "1.5.0",
            "_view_name": "HTMLView",
            "description": "",
            "description_tooltip": null,
            "layout": "IPY_MODEL_8f8e80e6de23409b9286c49acfc76472",
            "placeholder": "​",
            "style": "IPY_MODEL_2ef0a1e0b1454dc7936f363ee369261b",
            "value": "Downloading: 100%"
          }
        },
        "96cd1d316444452aa2aa31bb01cdc5a0": {
          "model_module": "@jupyter-widgets/controls",
          "model_name": "FloatProgressModel",
          "model_module_version": "1.5.0",
          "state": {
            "_dom_classes": [],
            "_model_module": "@jupyter-widgets/controls",
            "_model_module_version": "1.5.0",
            "_model_name": "FloatProgressModel",
            "_view_count": null,
            "_view_module": "@jupyter-widgets/controls",
            "_view_module_version": "1.5.0",
            "_view_name": "ProgressView",
            "bar_style": "success",
            "description": "",
            "description_tooltip": null,
            "layout": "IPY_MODEL_a3437d384bdf427e9a4cd58e65dde61f",
            "max": 544773476,
            "min": 0,
            "orientation": "horizontal",
            "style": "IPY_MODEL_7927eb8f79c940f9add371bd6275ae1c",
            "value": 544773476
          }
        },
        "219b761b411340a68e7e217dc4404496": {
          "model_module": "@jupyter-widgets/controls",
          "model_name": "HTMLModel",
          "model_module_version": "1.5.0",
          "state": {
            "_dom_classes": [],
            "_model_module": "@jupyter-widgets/controls",
            "_model_module_version": "1.5.0",
            "_model_name": "HTMLModel",
            "_view_count": null,
            "_view_module": "@jupyter-widgets/controls",
            "_view_module_version": "1.5.0",
            "_view_name": "HTMLView",
            "description": "",
            "description_tooltip": null,
            "layout": "IPY_MODEL_709440b3fefb46ff832b1fafd8f939b0",
            "placeholder": "​",
            "style": "IPY_MODEL_cb47ca32131e45a18d88f096ffc6d0f9",
            "value": " 545M/545M [00:12&lt;00:00, 44.2MB/s]"
          }
        },
        "acfddb11322c4d4d8535cb9e9970e634": {
          "model_module": "@jupyter-widgets/base",
          "model_name": "LayoutModel",
          "model_module_version": "1.2.0",
          "state": {
            "_model_module": "@jupyter-widgets/base",
            "_model_module_version": "1.2.0",
            "_model_name": "LayoutModel",
            "_view_count": null,
            "_view_module": "@jupyter-widgets/base",
            "_view_module_version": "1.2.0",
            "_view_name": "LayoutView",
            "align_content": null,
            "align_items": null,
            "align_self": null,
            "border": null,
            "bottom": null,
            "display": null,
            "flex": null,
            "flex_flow": null,
            "grid_area": null,
            "grid_auto_columns": null,
            "grid_auto_flow": null,
            "grid_auto_rows": null,
            "grid_column": null,
            "grid_gap": null,
            "grid_row": null,
            "grid_template_areas": null,
            "grid_template_columns": null,
            "grid_template_rows": null,
            "height": null,
            "justify_content": null,
            "justify_items": null,
            "left": null,
            "margin": null,
            "max_height": null,
            "max_width": null,
            "min_height": null,
            "min_width": null,
            "object_fit": null,
            "object_position": null,
            "order": null,
            "overflow": null,
            "overflow_x": null,
            "overflow_y": null,
            "padding": null,
            "right": null,
            "top": null,
            "visibility": null,
            "width": null
          }
        },
        "8f8e80e6de23409b9286c49acfc76472": {
          "model_module": "@jupyter-widgets/base",
          "model_name": "LayoutModel",
          "model_module_version": "1.2.0",
          "state": {
            "_model_module": "@jupyter-widgets/base",
            "_model_module_version": "1.2.0",
            "_model_name": "LayoutModel",
            "_view_count": null,
            "_view_module": "@jupyter-widgets/base",
            "_view_module_version": "1.2.0",
            "_view_name": "LayoutView",
            "align_content": null,
            "align_items": null,
            "align_self": null,
            "border": null,
            "bottom": null,
            "display": null,
            "flex": null,
            "flex_flow": null,
            "grid_area": null,
            "grid_auto_columns": null,
            "grid_auto_flow": null,
            "grid_auto_rows": null,
            "grid_column": null,
            "grid_gap": null,
            "grid_row": null,
            "grid_template_areas": null,
            "grid_template_columns": null,
            "grid_template_rows": null,
            "height": null,
            "justify_content": null,
            "justify_items": null,
            "left": null,
            "margin": null,
            "max_height": null,
            "max_width": null,
            "min_height": null,
            "min_width": null,
            "object_fit": null,
            "object_position": null,
            "order": null,
            "overflow": null,
            "overflow_x": null,
            "overflow_y": null,
            "padding": null,
            "right": null,
            "top": null,
            "visibility": null,
            "width": null
          }
        },
        "2ef0a1e0b1454dc7936f363ee369261b": {
          "model_module": "@jupyter-widgets/controls",
          "model_name": "DescriptionStyleModel",
          "model_module_version": "1.5.0",
          "state": {
            "_model_module": "@jupyter-widgets/controls",
            "_model_module_version": "1.5.0",
            "_model_name": "DescriptionStyleModel",
            "_view_count": null,
            "_view_module": "@jupyter-widgets/base",
            "_view_module_version": "1.2.0",
            "_view_name": "StyleView",
            "description_width": ""
          }
        },
        "a3437d384bdf427e9a4cd58e65dde61f": {
          "model_module": "@jupyter-widgets/base",
          "model_name": "LayoutModel",
          "model_module_version": "1.2.0",
          "state": {
            "_model_module": "@jupyter-widgets/base",
            "_model_module_version": "1.2.0",
            "_model_name": "LayoutModel",
            "_view_count": null,
            "_view_module": "@jupyter-widgets/base",
            "_view_module_version": "1.2.0",
            "_view_name": "LayoutView",
            "align_content": null,
            "align_items": null,
            "align_self": null,
            "border": null,
            "bottom": null,
            "display": null,
            "flex": null,
            "flex_flow": null,
            "grid_area": null,
            "grid_auto_columns": null,
            "grid_auto_flow": null,
            "grid_auto_rows": null,
            "grid_column": null,
            "grid_gap": null,
            "grid_row": null,
            "grid_template_areas": null,
            "grid_template_columns": null,
            "grid_template_rows": null,
            "height": null,
            "justify_content": null,
            "justify_items": null,
            "left": null,
            "margin": null,
            "max_height": null,
            "max_width": null,
            "min_height": null,
            "min_width": null,
            "object_fit": null,
            "object_position": null,
            "order": null,
            "overflow": null,
            "overflow_x": null,
            "overflow_y": null,
            "padding": null,
            "right": null,
            "top": null,
            "visibility": null,
            "width": null
          }
        },
        "7927eb8f79c940f9add371bd6275ae1c": {
          "model_module": "@jupyter-widgets/controls",
          "model_name": "ProgressStyleModel",
          "model_module_version": "1.5.0",
          "state": {
            "_model_module": "@jupyter-widgets/controls",
            "_model_module_version": "1.5.0",
            "_model_name": "ProgressStyleModel",
            "_view_count": null,
            "_view_module": "@jupyter-widgets/base",
            "_view_module_version": "1.2.0",
            "_view_name": "StyleView",
            "bar_color": null,
            "description_width": ""
          }
        },
        "709440b3fefb46ff832b1fafd8f939b0": {
          "model_module": "@jupyter-widgets/base",
          "model_name": "LayoutModel",
          "model_module_version": "1.2.0",
          "state": {
            "_model_module": "@jupyter-widgets/base",
            "_model_module_version": "1.2.0",
            "_model_name": "LayoutModel",
            "_view_count": null,
            "_view_module": "@jupyter-widgets/base",
            "_view_module_version": "1.2.0",
            "_view_name": "LayoutView",
            "align_content": null,
            "align_items": null,
            "align_self": null,
            "border": null,
            "bottom": null,
            "display": null,
            "flex": null,
            "flex_flow": null,
            "grid_area": null,
            "grid_auto_columns": null,
            "grid_auto_flow": null,
            "grid_auto_rows": null,
            "grid_column": null,
            "grid_gap": null,
            "grid_row": null,
            "grid_template_areas": null,
            "grid_template_columns": null,
            "grid_template_rows": null,
            "height": null,
            "justify_content": null,
            "justify_items": null,
            "left": null,
            "margin": null,
            "max_height": null,
            "max_width": null,
            "min_height": null,
            "min_width": null,
            "object_fit": null,
            "object_position": null,
            "order": null,
            "overflow": null,
            "overflow_x": null,
            "overflow_y": null,
            "padding": null,
            "right": null,
            "top": null,
            "visibility": null,
            "width": null
          }
        },
        "cb47ca32131e45a18d88f096ffc6d0f9": {
          "model_module": "@jupyter-widgets/controls",
          "model_name": "DescriptionStyleModel",
          "model_module_version": "1.5.0",
          "state": {
            "_model_module": "@jupyter-widgets/controls",
            "_model_module_version": "1.5.0",
            "_model_name": "DescriptionStyleModel",
            "_view_count": null,
            "_view_module": "@jupyter-widgets/base",
            "_view_module_version": "1.2.0",
            "_view_name": "StyleView",
            "description_width": ""
          }
        }
      }
    }
  },
  "nbformat": 4,
  "nbformat_minor": 0
}